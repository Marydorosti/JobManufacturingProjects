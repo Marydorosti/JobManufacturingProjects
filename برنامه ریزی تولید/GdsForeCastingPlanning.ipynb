{
 "cells": [
  {
   "cell_type": "code",
   "execution_count": 642,
   "id": "12b64e2f",
   "metadata": {},
   "outputs": [],
   "source": [
    "import pandas as pd\n",
    "import numpy as np"
   ]
  },
  {
   "cell_type": "code",
   "execution_count": 643,
   "id": "e2f0c200",
   "metadata": {},
   "outputs": [],
   "source": [
    "df=pd.read_excel(\"Aramesh-daily-sales-by-goods.xlsx\")"
   ]
  },
  {
   "cell_type": "code",
   "execution_count": 644,
   "id": "7b32355a",
   "metadata": {},
   "outputs": [
    {
     "data": {
      "text/html": [
       "<div>\n",
       "<style scoped>\n",
       "    .dataframe tbody tr th:only-of-type {\n",
       "        vertical-align: middle;\n",
       "    }\n",
       "\n",
       "    .dataframe tbody tr th {\n",
       "        vertical-align: top;\n",
       "    }\n",
       "\n",
       "    .dataframe thead th {\n",
       "        text-align: right;\n",
       "    }\n",
       "</style>\n",
       "<table border=\"1\" class=\"dataframe\">\n",
       "  <thead>\n",
       "    <tr style=\"text-align: right;\">\n",
       "      <th></th>\n",
       "      <th>Date</th>\n",
       "      <th>IdGds</th>\n",
       "      <th>DscGds</th>\n",
       "      <th>WeekDay</th>\n",
       "      <th>PYear</th>\n",
       "      <th>PMonth</th>\n",
       "      <th>PSession</th>\n",
       "      <th>PDay</th>\n",
       "      <th>SalesTotalPrice</th>\n",
       "      <th>SalesAmount</th>\n",
       "    </tr>\n",
       "  </thead>\n",
       "  <tbody>\n",
       "    <tr>\n",
       "      <th>0</th>\n",
       "      <td>2020-02-25</td>\n",
       "      <td>43701</td>\n",
       "      <td>دوغ 200 سی سی دورنیا</td>\n",
       "      <td>2</td>\n",
       "      <td>1398</td>\n",
       "      <td>12</td>\n",
       "      <td>4</td>\n",
       "      <td>6</td>\n",
       "      <td>436956</td>\n",
       "      <td>67.0</td>\n",
       "    </tr>\n",
       "    <tr>\n",
       "      <th>1</th>\n",
       "      <td>2020-02-26</td>\n",
       "      <td>43701</td>\n",
       "      <td>دوغ 200 سی سی دورنیا</td>\n",
       "      <td>3</td>\n",
       "      <td>1398</td>\n",
       "      <td>12</td>\n",
       "      <td>4</td>\n",
       "      <td>7</td>\n",
       "      <td>384783</td>\n",
       "      <td>59.0</td>\n",
       "    </tr>\n",
       "    <tr>\n",
       "      <th>2</th>\n",
       "      <td>2020-02-27</td>\n",
       "      <td>43701</td>\n",
       "      <td>دوغ 200 سی سی دورنیا</td>\n",
       "      <td>4</td>\n",
       "      <td>1398</td>\n",
       "      <td>12</td>\n",
       "      <td>4</td>\n",
       "      <td>8</td>\n",
       "      <td>717391</td>\n",
       "      <td>110.0</td>\n",
       "    </tr>\n",
       "    <tr>\n",
       "      <th>3</th>\n",
       "      <td>2020-02-29</td>\n",
       "      <td>43701</td>\n",
       "      <td>دوغ 200 سی سی دورنیا</td>\n",
       "      <td>6</td>\n",
       "      <td>1398</td>\n",
       "      <td>12</td>\n",
       "      <td>4</td>\n",
       "      <td>10</td>\n",
       "      <td>45652</td>\n",
       "      <td>7.0</td>\n",
       "    </tr>\n",
       "    <tr>\n",
       "      <th>4</th>\n",
       "      <td>2020-03-01</td>\n",
       "      <td>43701</td>\n",
       "      <td>دوغ 200 سی سی دورنیا</td>\n",
       "      <td>0</td>\n",
       "      <td>1398</td>\n",
       "      <td>12</td>\n",
       "      <td>4</td>\n",
       "      <td>11</td>\n",
       "      <td>45652</td>\n",
       "      <td>7.0</td>\n",
       "    </tr>\n",
       "  </tbody>\n",
       "</table>\n",
       "</div>"
      ],
      "text/plain": [
       "        Date  IdGds                 DscGds  WeekDay  PYear  PMonth  PSession  \\\n",
       "0 2020-02-25  43701   دوغ 200 سی سی دورنیا        2   1398      12         4   \n",
       "1 2020-02-26  43701   دوغ 200 سی سی دورنیا        3   1398      12         4   \n",
       "2 2020-02-27  43701   دوغ 200 سی سی دورنیا        4   1398      12         4   \n",
       "3 2020-02-29  43701   دوغ 200 سی سی دورنیا        6   1398      12         4   \n",
       "4 2020-03-01  43701   دوغ 200 سی سی دورنیا        0   1398      12         4   \n",
       "\n",
       "   PDay  SalesTotalPrice  SalesAmount  \n",
       "0     6           436956         67.0  \n",
       "1     7           384783         59.0  \n",
       "2     8           717391        110.0  \n",
       "3    10            45652          7.0  \n",
       "4    11            45652          7.0  "
      ]
     },
     "execution_count": 644,
     "metadata": {},
     "output_type": "execute_result"
    }
   ],
   "source": [
    "df.head()"
   ]
  },
  {
   "cell_type": "code",
   "execution_count": 645,
   "id": "1ca808e0",
   "metadata": {},
   "outputs": [],
   "source": [
    "# Import label encoder \n",
    "from sklearn import preprocessing\n",
    "# label_encoder object knows how to understand word labels. \n",
    "label_encoder = preprocessing.LabelEncoder()\n",
    "# Encode labels in column 'Country'. \n",
    "df['DscGds']= label_encoder.fit_transform(df['DscGds'].astype(str))\n"
   ]
  },
  {
   "cell_type": "code",
   "execution_count": 646,
   "id": "6f4a11d4",
   "metadata": {},
   "outputs": [
    {
     "data": {
      "text/html": [
       "<div>\n",
       "<style scoped>\n",
       "    .dataframe tbody tr th:only-of-type {\n",
       "        vertical-align: middle;\n",
       "    }\n",
       "\n",
       "    .dataframe tbody tr th {\n",
       "        vertical-align: top;\n",
       "    }\n",
       "\n",
       "    .dataframe thead th {\n",
       "        text-align: right;\n",
       "    }\n",
       "</style>\n",
       "<table border=\"1\" class=\"dataframe\">\n",
       "  <thead>\n",
       "    <tr style=\"text-align: right;\">\n",
       "      <th></th>\n",
       "      <th>Date</th>\n",
       "      <th>IdGds</th>\n",
       "      <th>DscGds</th>\n",
       "      <th>WeekDay</th>\n",
       "      <th>PYear</th>\n",
       "      <th>PMonth</th>\n",
       "      <th>PSession</th>\n",
       "      <th>PDay</th>\n",
       "      <th>SalesTotalPrice</th>\n",
       "      <th>SalesAmount</th>\n",
       "    </tr>\n",
       "  </thead>\n",
       "  <tbody>\n",
       "    <tr>\n",
       "      <th>0</th>\n",
       "      <td>2020-02-25</td>\n",
       "      <td>43701</td>\n",
       "      <td>0</td>\n",
       "      <td>2</td>\n",
       "      <td>1398</td>\n",
       "      <td>12</td>\n",
       "      <td>4</td>\n",
       "      <td>6</td>\n",
       "      <td>436956</td>\n",
       "      <td>67.0</td>\n",
       "    </tr>\n",
       "    <tr>\n",
       "      <th>1</th>\n",
       "      <td>2020-02-26</td>\n",
       "      <td>43701</td>\n",
       "      <td>0</td>\n",
       "      <td>3</td>\n",
       "      <td>1398</td>\n",
       "      <td>12</td>\n",
       "      <td>4</td>\n",
       "      <td>7</td>\n",
       "      <td>384783</td>\n",
       "      <td>59.0</td>\n",
       "    </tr>\n",
       "    <tr>\n",
       "      <th>2</th>\n",
       "      <td>2020-02-27</td>\n",
       "      <td>43701</td>\n",
       "      <td>0</td>\n",
       "      <td>4</td>\n",
       "      <td>1398</td>\n",
       "      <td>12</td>\n",
       "      <td>4</td>\n",
       "      <td>8</td>\n",
       "      <td>717391</td>\n",
       "      <td>110.0</td>\n",
       "    </tr>\n",
       "    <tr>\n",
       "      <th>3</th>\n",
       "      <td>2020-02-29</td>\n",
       "      <td>43701</td>\n",
       "      <td>0</td>\n",
       "      <td>6</td>\n",
       "      <td>1398</td>\n",
       "      <td>12</td>\n",
       "      <td>4</td>\n",
       "      <td>10</td>\n",
       "      <td>45652</td>\n",
       "      <td>7.0</td>\n",
       "    </tr>\n",
       "    <tr>\n",
       "      <th>4</th>\n",
       "      <td>2020-03-01</td>\n",
       "      <td>43701</td>\n",
       "      <td>0</td>\n",
       "      <td>0</td>\n",
       "      <td>1398</td>\n",
       "      <td>12</td>\n",
       "      <td>4</td>\n",
       "      <td>11</td>\n",
       "      <td>45652</td>\n",
       "      <td>7.0</td>\n",
       "    </tr>\n",
       "  </tbody>\n",
       "</table>\n",
       "</div>"
      ],
      "text/plain": [
       "        Date  IdGds  DscGds  WeekDay  PYear  PMonth  PSession  PDay  \\\n",
       "0 2020-02-25  43701       0        2   1398      12         4     6   \n",
       "1 2020-02-26  43701       0        3   1398      12         4     7   \n",
       "2 2020-02-27  43701       0        4   1398      12         4     8   \n",
       "3 2020-02-29  43701       0        6   1398      12         4    10   \n",
       "4 2020-03-01  43701       0        0   1398      12         4    11   \n",
       "\n",
       "   SalesTotalPrice  SalesAmount  \n",
       "0           436956         67.0  \n",
       "1           384783         59.0  \n",
       "2           717391        110.0  \n",
       "3            45652          7.0  \n",
       "4            45652          7.0  "
      ]
     },
     "execution_count": 646,
     "metadata": {},
     "output_type": "execute_result"
    }
   ],
   "source": [
    "df.head()"
   ]
  },
  {
   "cell_type": "code",
   "execution_count": 647,
   "id": "64082cef",
   "metadata": {},
   "outputs": [
    {
     "data": {
      "text/html": [
       "<div>\n",
       "<style scoped>\n",
       "    .dataframe tbody tr th:only-of-type {\n",
       "        vertical-align: middle;\n",
       "    }\n",
       "\n",
       "    .dataframe tbody tr th {\n",
       "        vertical-align: top;\n",
       "    }\n",
       "\n",
       "    .dataframe thead th {\n",
       "        text-align: right;\n",
       "    }\n",
       "</style>\n",
       "<table border=\"1\" class=\"dataframe\">\n",
       "  <thead>\n",
       "    <tr style=\"text-align: right;\">\n",
       "      <th></th>\n",
       "      <th>IdGds</th>\n",
       "      <th>DscGds</th>\n",
       "      <th>WeekDay</th>\n",
       "      <th>PYear</th>\n",
       "      <th>PMonth</th>\n",
       "      <th>PSession</th>\n",
       "      <th>PDay</th>\n",
       "      <th>SalesTotalPrice</th>\n",
       "      <th>SalesAmount</th>\n",
       "    </tr>\n",
       "  </thead>\n",
       "  <tbody>\n",
       "    <tr>\n",
       "      <th>count</th>\n",
       "      <td>31155.000000</td>\n",
       "      <td>31155.000000</td>\n",
       "      <td>31155.000000</td>\n",
       "      <td>31155.000000</td>\n",
       "      <td>31155.000000</td>\n",
       "      <td>31155.000000</td>\n",
       "      <td>31155.000000</td>\n",
       "      <td>3.115500e+04</td>\n",
       "      <td>3.115500e+04</td>\n",
       "    </tr>\n",
       "    <tr>\n",
       "      <th>mean</th>\n",
       "      <td>29097.600867</td>\n",
       "      <td>60.106757</td>\n",
       "      <td>2.659573</td>\n",
       "      <td>1397.944343</td>\n",
       "      <td>6.398909</td>\n",
       "      <td>2.225999</td>\n",
       "      <td>15.824105</td>\n",
       "      <td>3.619630e+07</td>\n",
       "      <td>1.234357e+04</td>\n",
       "    </tr>\n",
       "    <tr>\n",
       "      <th>std</th>\n",
       "      <td>6080.822061</td>\n",
       "      <td>32.960431</td>\n",
       "      <td>1.975109</td>\n",
       "      <td>0.792561</td>\n",
       "      <td>3.223623</td>\n",
       "      <td>0.869507</td>\n",
       "      <td>8.751357</td>\n",
       "      <td>7.663405e+07</td>\n",
       "      <td>7.422262e+04</td>\n",
       "    </tr>\n",
       "    <tr>\n",
       "      <th>min</th>\n",
       "      <td>20501.000000</td>\n",
       "      <td>0.000000</td>\n",
       "      <td>0.000000</td>\n",
       "      <td>1397.000000</td>\n",
       "      <td>1.000000</td>\n",
       "      <td>1.000000</td>\n",
       "      <td>1.000000</td>\n",
       "      <td>0.000000e+00</td>\n",
       "      <td>1.000000e+00</td>\n",
       "    </tr>\n",
       "    <tr>\n",
       "      <th>25%</th>\n",
       "      <td>25901.000000</td>\n",
       "      <td>31.000000</td>\n",
       "      <td>1.000000</td>\n",
       "      <td>1397.000000</td>\n",
       "      <td>4.000000</td>\n",
       "      <td>2.000000</td>\n",
       "      <td>8.000000</td>\n",
       "      <td>3.360000e+06</td>\n",
       "      <td>1.300000e+01</td>\n",
       "    </tr>\n",
       "    <tr>\n",
       "      <th>50%</th>\n",
       "      <td>27201.000000</td>\n",
       "      <td>65.000000</td>\n",
       "      <td>2.000000</td>\n",
       "      <td>1398.000000</td>\n",
       "      <td>6.000000</td>\n",
       "      <td>2.000000</td>\n",
       "      <td>16.000000</td>\n",
       "      <td>1.248000e+07</td>\n",
       "      <td>7.000000e+01</td>\n",
       "    </tr>\n",
       "    <tr>\n",
       "      <th>75%</th>\n",
       "      <td>30601.000000</td>\n",
       "      <td>82.000000</td>\n",
       "      <td>4.000000</td>\n",
       "      <td>1399.000000</td>\n",
       "      <td>9.000000</td>\n",
       "      <td>3.000000</td>\n",
       "      <td>23.000000</td>\n",
       "      <td>3.797500e+07</td>\n",
       "      <td>5.790000e+02</td>\n",
       "    </tr>\n",
       "    <tr>\n",
       "      <th>max</th>\n",
       "      <td>50701.000000</td>\n",
       "      <td>121.000000</td>\n",
       "      <td>6.000000</td>\n",
       "      <td>1399.000000</td>\n",
       "      <td>12.000000</td>\n",
       "      <td>4.000000</td>\n",
       "      <td>31.000000</td>\n",
       "      <td>1.776487e+09</td>\n",
       "      <td>6.460000e+06</td>\n",
       "    </tr>\n",
       "  </tbody>\n",
       "</table>\n",
       "</div>"
      ],
      "text/plain": [
       "              IdGds        DscGds       WeekDay         PYear        PMonth  \\\n",
       "count  31155.000000  31155.000000  31155.000000  31155.000000  31155.000000   \n",
       "mean   29097.600867     60.106757      2.659573   1397.944343      6.398909   \n",
       "std     6080.822061     32.960431      1.975109      0.792561      3.223623   \n",
       "min    20501.000000      0.000000      0.000000   1397.000000      1.000000   \n",
       "25%    25901.000000     31.000000      1.000000   1397.000000      4.000000   \n",
       "50%    27201.000000     65.000000      2.000000   1398.000000      6.000000   \n",
       "75%    30601.000000     82.000000      4.000000   1399.000000      9.000000   \n",
       "max    50701.000000    121.000000      6.000000   1399.000000     12.000000   \n",
       "\n",
       "           PSession          PDay  SalesTotalPrice   SalesAmount  \n",
       "count  31155.000000  31155.000000     3.115500e+04  3.115500e+04  \n",
       "mean       2.225999     15.824105     3.619630e+07  1.234357e+04  \n",
       "std        0.869507      8.751357     7.663405e+07  7.422262e+04  \n",
       "min        1.000000      1.000000     0.000000e+00  1.000000e+00  \n",
       "25%        2.000000      8.000000     3.360000e+06  1.300000e+01  \n",
       "50%        2.000000     16.000000     1.248000e+07  7.000000e+01  \n",
       "75%        3.000000     23.000000     3.797500e+07  5.790000e+02  \n",
       "max        4.000000     31.000000     1.776487e+09  6.460000e+06  "
      ]
     },
     "execution_count": 647,
     "metadata": {},
     "output_type": "execute_result"
    }
   ],
   "source": [
    "df.describe()"
   ]
  },
  {
   "cell_type": "code",
   "execution_count": 648,
   "id": "7fce299b",
   "metadata": {},
   "outputs": [],
   "source": [
    "import seaborn as sns\n",
    "import matplotlib.pyplot as plt"
   ]
  },
  {
   "cell_type": "code",
   "execution_count": 649,
   "id": "b98e3a84",
   "metadata": {},
   "outputs": [
    {
     "data": {
      "image/png": "[encoded data removed]",
      "text/plain": [
       "<Figure size 2880x1440 with 2 Axes>"
      ]
     },
     "metadata": {
      "needs_background": "light"
     },
     "output_type": "display_data"
    }
   ],
   "source": [
    "corr = df.corr()\n",
    "cmap = sns.diverging_palette(220, 10, as_cmap=True)\n",
    "# Generate a mask for the upper triangle\n",
    "mask = np.zeros_like(corr, dtype=np.bool)\n",
    "mask[np.triu_indices_from(mask)] = True\n",
    "\n",
    "# Set up the matplotlib figure\n",
    "f, ax = plt.subplots(figsize=(40, 20))\n",
    "# Draw the heatmap with the mask and correct aspect ratio\n",
    "sns.heatmap(corr, mask=mask, cmap=cmap, vmax=.3, center=0,annot = True,\n",
    "            square=True, linewidths=.5, cbar_kws={\"shrink\": .5});"
   ]
  },
  {
   "cell_type": "code",
   "execution_count": 650,
   "id": "aa6b22e8",
   "metadata": {},
   "outputs": [
    {
     "data": {
      "text/plain": [
       "122"
      ]
     },
     "execution_count": 650,
     "metadata": {},
     "output_type": "execute_result"
    }
   ],
   "source": [
    "len(df.DscGds.unique())"
   ]
  },
  {
   "cell_type": "code",
   "execution_count": 651,
   "id": "e9048c70",
   "metadata": {},
   "outputs": [
    {
     "data": {
      "text/plain": [
       "810"
      ]
     },
     "execution_count": 651,
     "metadata": {},
     "output_type": "execute_result"
    }
   ],
   "source": [
    "len(np.where(df.DscGds==119)[0])"
   ]
  },
  {
   "cell_type": "code",
   "execution_count": 652,
   "id": "8568981a",
   "metadata": {},
   "outputs": [
    {
     "name": "stdout",
     "output_type": "stream",
     "text": [
      "0 : 87\n",
      "1 : 489\n",
      "2 : 734\n",
      "3 : 270\n",
      "4 : 798\n",
      "5 : 6\n",
      "6 : 1\n",
      "7 : 1\n",
      "8 : 1\n",
      "9 : 1\n",
      "10 : 443\n",
      "11 : 6\n",
      "12 : 231\n",
      "13 : 37\n",
      "14 : 581\n",
      "15 : 1\n",
      "16 : 33\n",
      "17 : 125\n",
      "18 : 26\n",
      "19 : 62\n",
      "20 : 335\n",
      "21 : 37\n",
      "22 : 196\n",
      "23 : 1\n",
      "24 : 126\n",
      "25 : 19\n",
      "26 : 623\n",
      "27 : 21\n",
      "28 : 836\n",
      "29 : 619\n",
      "30 : 772\n",
      "31 : 310\n",
      "32 : 853\n",
      "33 : 88\n",
      "34 : 481\n",
      "35 : 130\n",
      "36 : 195\n",
      "37 : 132\n",
      "38 : 57\n",
      "39 : 91\n",
      "40 : 35\n",
      "41 : 4\n",
      "42 : 451\n",
      "43 : 702\n",
      "44 : 14\n",
      "45 : 156\n",
      "46 : 188\n",
      "47 : 38\n",
      "48 : 210\n",
      "49 : 401\n",
      "50 : 680\n",
      "51 : 29\n",
      "52 : 192\n",
      "53 : 233\n",
      "54 : 262\n",
      "55 : 29\n",
      "56 : 225\n",
      "57 : 562\n",
      "58 : 108\n",
      "59 : 124\n",
      "60 : 1\n",
      "61 : 431\n",
      "62 : 41\n",
      "63 : 5\n",
      "64 : 72\n",
      "65 : 824\n",
      "66 : 181\n",
      "67 : 838\n",
      "68 : 29\n",
      "69 : 657\n",
      "70 : 106\n",
      "71 : 49\n",
      "72 : 821\n",
      "73 : 862\n",
      "74 : 8\n",
      "75 : 8\n",
      "76 : 811\n",
      "77 : 839\n",
      "78 : 3\n",
      "79 : 809\n",
      "80 : 826\n",
      "81 : 25\n",
      "82 : 653\n",
      "83 : 108\n",
      "84 : 104\n",
      "85 : 105\n",
      "86 : 8\n",
      "87 : 8\n",
      "88 : 257\n",
      "89 : 95\n",
      "90 : 386\n",
      "91 : 5\n",
      "92 : 2\n",
      "93 : 150\n",
      "94 : 637\n",
      "95 : 1\n",
      "96 : 2\n",
      "97 : 690\n",
      "98 : 381\n",
      "99 : 763\n",
      "100 : 284\n",
      "101 : 650\n",
      "102 : 15\n",
      "103 : 13\n",
      "104 : 14\n",
      "105 : 371\n",
      "106 : 23\n",
      "107 : 761\n",
      "108 : 10\n",
      "109 : 194\n",
      "110 : 122\n",
      "111 : 1\n",
      "112 : 35\n",
      "113 : 1\n",
      "114 : 503\n",
      "115 : 33\n",
      "116 : 1\n",
      "117 : 99\n",
      "118 : 113\n",
      "119 : 810\n",
      "120 : 2\n",
      "121 : 1\n"
     ]
    }
   ],
   "source": [
    "for i in range (0,len(df.DscGds.unique())):\n",
    "    print(i,\":\",len(np.where(df.DscGds==i)[0]))"
   ]
  },
  {
   "cell_type": "code",
   "execution_count": 653,
   "id": "01a139db",
   "metadata": {},
   "outputs": [
    {
     "data": {
      "text/plain": [
       "810"
      ]
     },
     "execution_count": 653,
     "metadata": {},
     "output_type": "execute_result"
    }
   ],
   "source": [
    "len(np.where(df.DscGds==119)[0])"
   ]
  },
  {
   "cell_type": "code",
   "execution_count": 654,
   "id": "b1b33780",
   "metadata": {},
   "outputs": [
    {
     "name": "stderr",
     "output_type": "stream",
     "text": [
      "<ipython-input-654-bf934754a5b1>:1: FutureWarning: DataFrame.mean and DataFrame.median with numeric_only=None will include datetime64 and datetime64tz columns in a future version.\n",
      "  df.fillna(df.mean(), inplace=True)\n"
     ]
    }
   ],
   "source": [
    "df.fillna(df.mean(), inplace=True)"
   ]
  },
  {
   "cell_type": "code",
   "execution_count": 655,
   "id": "f8f0ab52",
   "metadata": {},
   "outputs": [],
   "source": [
    "df1=df[df.DscGds==77]"
   ]
  },
  {
   "cell_type": "code",
   "execution_count": 656,
   "id": "81270e89",
   "metadata": {},
   "outputs": [
    {
     "data": {
      "text/html": [
       "<div>\n",
       "<style scoped>\n",
       "    .dataframe tbody tr th:only-of-type {\n",
       "        vertical-align: middle;\n",
       "    }\n",
       "\n",
       "    .dataframe tbody tr th {\n",
       "        vertical-align: top;\n",
       "    }\n",
       "\n",
       "    .dataframe thead th {\n",
       "        text-align: right;\n",
       "    }\n",
       "</style>\n",
       "<table border=\"1\" class=\"dataframe\">\n",
       "  <thead>\n",
       "    <tr style=\"text-align: right;\">\n",
       "      <th></th>\n",
       "      <th>Date</th>\n",
       "      <th>IdGds</th>\n",
       "      <th>DscGds</th>\n",
       "      <th>WeekDay</th>\n",
       "      <th>PYear</th>\n",
       "      <th>PMonth</th>\n",
       "      <th>PSession</th>\n",
       "      <th>PDay</th>\n",
       "      <th>SalesTotalPrice</th>\n",
       "      <th>SalesAmount</th>\n",
       "    </tr>\n",
       "  </thead>\n",
       "  <tbody>\n",
       "    <tr>\n",
       "      <th>30221</th>\n",
       "      <td>2018-04-01</td>\n",
       "      <td>26801</td>\n",
       "      <td>77</td>\n",
       "      <td>0</td>\n",
       "      <td>1397</td>\n",
       "      <td>1</td>\n",
       "      <td>1</td>\n",
       "      <td>12</td>\n",
       "      <td>540000</td>\n",
       "      <td>2.0</td>\n",
       "    </tr>\n",
       "    <tr>\n",
       "      <th>30222</th>\n",
       "      <td>2018-04-03</td>\n",
       "      <td>26801</td>\n",
       "      <td>77</td>\n",
       "      <td>2</td>\n",
       "      <td>1397</td>\n",
       "      <td>1</td>\n",
       "      <td>1</td>\n",
       "      <td>14</td>\n",
       "      <td>51200000</td>\n",
       "      <td>192.0</td>\n",
       "    </tr>\n",
       "    <tr>\n",
       "      <th>30223</th>\n",
       "      <td>2018-04-04</td>\n",
       "      <td>26801</td>\n",
       "      <td>77</td>\n",
       "      <td>3</td>\n",
       "      <td>1397</td>\n",
       "      <td>1</td>\n",
       "      <td>1</td>\n",
       "      <td>15</td>\n",
       "      <td>470000</td>\n",
       "      <td>2.0</td>\n",
       "    </tr>\n",
       "    <tr>\n",
       "      <th>30224</th>\n",
       "      <td>2018-04-05</td>\n",
       "      <td>26801</td>\n",
       "      <td>77</td>\n",
       "      <td>4</td>\n",
       "      <td>1397</td>\n",
       "      <td>1</td>\n",
       "      <td>1</td>\n",
       "      <td>16</td>\n",
       "      <td>44790000</td>\n",
       "      <td>167.0</td>\n",
       "    </tr>\n",
       "    <tr>\n",
       "      <th>30225</th>\n",
       "      <td>2018-04-06</td>\n",
       "      <td>26801</td>\n",
       "      <td>77</td>\n",
       "      <td>5</td>\n",
       "      <td>1397</td>\n",
       "      <td>1</td>\n",
       "      <td>1</td>\n",
       "      <td>17</td>\n",
       "      <td>3750000</td>\n",
       "      <td>15.0</td>\n",
       "    </tr>\n",
       "  </tbody>\n",
       "</table>\n",
       "</div>"
      ],
      "text/plain": [
       "            Date  IdGds  DscGds  WeekDay  PYear  PMonth  PSession  PDay  \\\n",
       "30221 2018-04-01  26801      77        0   1397       1         1    12   \n",
       "30222 2018-04-03  26801      77        2   1397       1         1    14   \n",
       "30223 2018-04-04  26801      77        3   1397       1         1    15   \n",
       "30224 2018-04-05  26801      77        4   1397       1         1    16   \n",
       "30225 2018-04-06  26801      77        5   1397       1         1    17   \n",
       "\n",
       "       SalesTotalPrice  SalesAmount  \n",
       "30221           540000          2.0  \n",
       "30222         51200000        192.0  \n",
       "30223           470000          2.0  \n",
       "30224         44790000        167.0  \n",
       "30225          3750000         15.0  "
      ]
     },
     "execution_count": 656,
     "metadata": {},
     "output_type": "execute_result"
    }
   ],
   "source": [
    "df1.head()"
   ]
  },
  {
   "cell_type": "code",
   "execution_count": 657,
   "id": "e347739a",
   "metadata": {},
   "outputs": [
    {
     "data": {
      "text/plain": [
       "839"
      ]
     },
     "execution_count": 657,
     "metadata": {},
     "output_type": "execute_result"
    }
   ],
   "source": [
    "len(df1)"
   ]
  },
  {
   "cell_type": "code",
   "execution_count": 658,
   "id": "879dd06c",
   "metadata": {},
   "outputs": [
    {
     "data": {
      "text/html": [
       "<div>\n",
       "<style scoped>\n",
       "    .dataframe tbody tr th:only-of-type {\n",
       "        vertical-align: middle;\n",
       "    }\n",
       "\n",
       "    .dataframe tbody tr th {\n",
       "        vertical-align: top;\n",
       "    }\n",
       "\n",
       "    .dataframe thead th {\n",
       "        text-align: right;\n",
       "    }\n",
       "</style>\n",
       "<table border=\"1\" class=\"dataframe\">\n",
       "  <thead>\n",
       "    <tr style=\"text-align: right;\">\n",
       "      <th></th>\n",
       "      <th>Date</th>\n",
       "      <th>IdGds</th>\n",
       "      <th>DscGds</th>\n",
       "      <th>WeekDay</th>\n",
       "      <th>PYear</th>\n",
       "      <th>PMonth</th>\n",
       "      <th>PSession</th>\n",
       "      <th>PDay</th>\n",
       "      <th>SalesTotalPrice</th>\n",
       "      <th>SalesAmount</th>\n",
       "    </tr>\n",
       "  </thead>\n",
       "  <tbody>\n",
       "    <tr>\n",
       "      <th>31030</th>\n",
       "      <td>2020-11-10</td>\n",
       "      <td>26801</td>\n",
       "      <td>77</td>\n",
       "      <td>2</td>\n",
       "      <td>1399</td>\n",
       "      <td>8</td>\n",
       "      <td>3</td>\n",
       "      <td>20</td>\n",
       "      <td>113108400</td>\n",
       "      <td>140.0</td>\n",
       "    </tr>\n",
       "    <tr>\n",
       "      <th>31031</th>\n",
       "      <td>2020-11-11</td>\n",
       "      <td>26801</td>\n",
       "      <td>77</td>\n",
       "      <td>3</td>\n",
       "      <td>1399</td>\n",
       "      <td>8</td>\n",
       "      <td>3</td>\n",
       "      <td>21</td>\n",
       "      <td>105300000</td>\n",
       "      <td>130.0</td>\n",
       "    </tr>\n",
       "    <tr>\n",
       "      <th>31032</th>\n",
       "      <td>2020-11-12</td>\n",
       "      <td>26801</td>\n",
       "      <td>77</td>\n",
       "      <td>4</td>\n",
       "      <td>1399</td>\n",
       "      <td>8</td>\n",
       "      <td>3</td>\n",
       "      <td>22</td>\n",
       "      <td>132030000</td>\n",
       "      <td>164.0</td>\n",
       "    </tr>\n",
       "    <tr>\n",
       "      <th>31033</th>\n",
       "      <td>2020-11-14</td>\n",
       "      <td>26801</td>\n",
       "      <td>77</td>\n",
       "      <td>6</td>\n",
       "      <td>1399</td>\n",
       "      <td>8</td>\n",
       "      <td>3</td>\n",
       "      <td>24</td>\n",
       "      <td>107730000</td>\n",
       "      <td>133.0</td>\n",
       "    </tr>\n",
       "    <tr>\n",
       "      <th>31034</th>\n",
       "      <td>2020-11-15</td>\n",
       "      <td>26801</td>\n",
       "      <td>77</td>\n",
       "      <td>0</td>\n",
       "      <td>1399</td>\n",
       "      <td>8</td>\n",
       "      <td>3</td>\n",
       "      <td>25</td>\n",
       "      <td>137538000</td>\n",
       "      <td>171.0</td>\n",
       "    </tr>\n",
       "    <tr>\n",
       "      <th>31035</th>\n",
       "      <td>2020-11-16</td>\n",
       "      <td>26801</td>\n",
       "      <td>77</td>\n",
       "      <td>1</td>\n",
       "      <td>1399</td>\n",
       "      <td>8</td>\n",
       "      <td>3</td>\n",
       "      <td>26</td>\n",
       "      <td>150498000</td>\n",
       "      <td>187.0</td>\n",
       "    </tr>\n",
       "    <tr>\n",
       "      <th>31036</th>\n",
       "      <td>2020-11-17</td>\n",
       "      <td>26801</td>\n",
       "      <td>77</td>\n",
       "      <td>2</td>\n",
       "      <td>1399</td>\n",
       "      <td>8</td>\n",
       "      <td>3</td>\n",
       "      <td>27</td>\n",
       "      <td>109204200</td>\n",
       "      <td>135.0</td>\n",
       "    </tr>\n",
       "    <tr>\n",
       "      <th>31037</th>\n",
       "      <td>2020-11-18</td>\n",
       "      <td>26801</td>\n",
       "      <td>77</td>\n",
       "      <td>3</td>\n",
       "      <td>1399</td>\n",
       "      <td>8</td>\n",
       "      <td>3</td>\n",
       "      <td>28</td>\n",
       "      <td>89910000</td>\n",
       "      <td>111.0</td>\n",
       "    </tr>\n",
       "    <tr>\n",
       "      <th>31038</th>\n",
       "      <td>2020-11-19</td>\n",
       "      <td>26801</td>\n",
       "      <td>77</td>\n",
       "      <td>4</td>\n",
       "      <td>1399</td>\n",
       "      <td>8</td>\n",
       "      <td>3</td>\n",
       "      <td>29</td>\n",
       "      <td>141750000</td>\n",
       "      <td>175.0</td>\n",
       "    </tr>\n",
       "    <tr>\n",
       "      <th>31039</th>\n",
       "      <td>2020-11-21</td>\n",
       "      <td>26801</td>\n",
       "      <td>77</td>\n",
       "      <td>6</td>\n",
       "      <td>1399</td>\n",
       "      <td>9</td>\n",
       "      <td>3</td>\n",
       "      <td>1</td>\n",
       "      <td>113383800</td>\n",
       "      <td>141.0</td>\n",
       "    </tr>\n",
       "    <tr>\n",
       "      <th>31040</th>\n",
       "      <td>2020-11-22</td>\n",
       "      <td>26801</td>\n",
       "      <td>77</td>\n",
       "      <td>0</td>\n",
       "      <td>1399</td>\n",
       "      <td>9</td>\n",
       "      <td>3</td>\n",
       "      <td>2</td>\n",
       "      <td>106110000</td>\n",
       "      <td>131.0</td>\n",
       "    </tr>\n",
       "    <tr>\n",
       "      <th>31041</th>\n",
       "      <td>2020-11-23</td>\n",
       "      <td>26801</td>\n",
       "      <td>77</td>\n",
       "      <td>1</td>\n",
       "      <td>1399</td>\n",
       "      <td>9</td>\n",
       "      <td>3</td>\n",
       "      <td>3</td>\n",
       "      <td>117450000</td>\n",
       "      <td>145.0</td>\n",
       "    </tr>\n",
       "    <tr>\n",
       "      <th>31042</th>\n",
       "      <td>2020-11-24</td>\n",
       "      <td>26801</td>\n",
       "      <td>77</td>\n",
       "      <td>2</td>\n",
       "      <td>1399</td>\n",
       "      <td>9</td>\n",
       "      <td>3</td>\n",
       "      <td>4</td>\n",
       "      <td>98577000</td>\n",
       "      <td>122.0</td>\n",
       "    </tr>\n",
       "    <tr>\n",
       "      <th>31043</th>\n",
       "      <td>2020-11-25</td>\n",
       "      <td>26801</td>\n",
       "      <td>77</td>\n",
       "      <td>3</td>\n",
       "      <td>1399</td>\n",
       "      <td>9</td>\n",
       "      <td>3</td>\n",
       "      <td>5</td>\n",
       "      <td>111780000</td>\n",
       "      <td>138.0</td>\n",
       "    </tr>\n",
       "    <tr>\n",
       "      <th>31044</th>\n",
       "      <td>2020-11-26</td>\n",
       "      <td>26801</td>\n",
       "      <td>77</td>\n",
       "      <td>4</td>\n",
       "      <td>1399</td>\n",
       "      <td>9</td>\n",
       "      <td>3</td>\n",
       "      <td>6</td>\n",
       "      <td>124254000</td>\n",
       "      <td>154.0</td>\n",
       "    </tr>\n",
       "    <tr>\n",
       "      <th>31045</th>\n",
       "      <td>2020-11-28</td>\n",
       "      <td>26801</td>\n",
       "      <td>77</td>\n",
       "      <td>6</td>\n",
       "      <td>1399</td>\n",
       "      <td>9</td>\n",
       "      <td>3</td>\n",
       "      <td>8</td>\n",
       "      <td>92340000</td>\n",
       "      <td>114.0</td>\n",
       "    </tr>\n",
       "    <tr>\n",
       "      <th>31046</th>\n",
       "      <td>2020-11-29</td>\n",
       "      <td>26801</td>\n",
       "      <td>77</td>\n",
       "      <td>0</td>\n",
       "      <td>1399</td>\n",
       "      <td>9</td>\n",
       "      <td>3</td>\n",
       "      <td>9</td>\n",
       "      <td>114210000</td>\n",
       "      <td>141.0</td>\n",
       "    </tr>\n",
       "    <tr>\n",
       "      <th>31047</th>\n",
       "      <td>2020-11-30</td>\n",
       "      <td>26801</td>\n",
       "      <td>77</td>\n",
       "      <td>1</td>\n",
       "      <td>1399</td>\n",
       "      <td>9</td>\n",
       "      <td>3</td>\n",
       "      <td>10</td>\n",
       "      <td>89910000</td>\n",
       "      <td>111.0</td>\n",
       "    </tr>\n",
       "    <tr>\n",
       "      <th>31048</th>\n",
       "      <td>2020-12-01</td>\n",
       "      <td>26801</td>\n",
       "      <td>77</td>\n",
       "      <td>2</td>\n",
       "      <td>1399</td>\n",
       "      <td>9</td>\n",
       "      <td>3</td>\n",
       "      <td>11</td>\n",
       "      <td>101574000</td>\n",
       "      <td>126.0</td>\n",
       "    </tr>\n",
       "    <tr>\n",
       "      <th>31049</th>\n",
       "      <td>2020-12-02</td>\n",
       "      <td>26801</td>\n",
       "      <td>77</td>\n",
       "      <td>3</td>\n",
       "      <td>1399</td>\n",
       "      <td>9</td>\n",
       "      <td>3</td>\n",
       "      <td>12</td>\n",
       "      <td>92340000</td>\n",
       "      <td>114.0</td>\n",
       "    </tr>\n",
       "    <tr>\n",
       "      <th>31050</th>\n",
       "      <td>2020-12-03</td>\n",
       "      <td>26801</td>\n",
       "      <td>77</td>\n",
       "      <td>4</td>\n",
       "      <td>1399</td>\n",
       "      <td>9</td>\n",
       "      <td>3</td>\n",
       "      <td>13</td>\n",
       "      <td>141750000</td>\n",
       "      <td>175.0</td>\n",
       "    </tr>\n",
       "    <tr>\n",
       "      <th>31051</th>\n",
       "      <td>2020-12-05</td>\n",
       "      <td>26801</td>\n",
       "      <td>77</td>\n",
       "      <td>6</td>\n",
       "      <td>1399</td>\n",
       "      <td>9</td>\n",
       "      <td>3</td>\n",
       "      <td>15</td>\n",
       "      <td>118260000</td>\n",
       "      <td>146.0</td>\n",
       "    </tr>\n",
       "    <tr>\n",
       "      <th>31052</th>\n",
       "      <td>2020-12-06</td>\n",
       "      <td>26801</td>\n",
       "      <td>77</td>\n",
       "      <td>0</td>\n",
       "      <td>1399</td>\n",
       "      <td>9</td>\n",
       "      <td>3</td>\n",
       "      <td>16</td>\n",
       "      <td>51030000</td>\n",
       "      <td>63.0</td>\n",
       "    </tr>\n",
       "    <tr>\n",
       "      <th>31053</th>\n",
       "      <td>2020-12-07</td>\n",
       "      <td>26801</td>\n",
       "      <td>77</td>\n",
       "      <td>1</td>\n",
       "      <td>1399</td>\n",
       "      <td>9</td>\n",
       "      <td>3</td>\n",
       "      <td>17</td>\n",
       "      <td>13770000</td>\n",
       "      <td>17.0</td>\n",
       "    </tr>\n",
       "    <tr>\n",
       "      <th>31054</th>\n",
       "      <td>2020-12-08</td>\n",
       "      <td>26801</td>\n",
       "      <td>77</td>\n",
       "      <td>2</td>\n",
       "      <td>1399</td>\n",
       "      <td>9</td>\n",
       "      <td>3</td>\n",
       "      <td>18</td>\n",
       "      <td>75580000</td>\n",
       "      <td>76.0</td>\n",
       "    </tr>\n",
       "    <tr>\n",
       "      <th>31055</th>\n",
       "      <td>2020-12-09</td>\n",
       "      <td>26801</td>\n",
       "      <td>77</td>\n",
       "      <td>3</td>\n",
       "      <td>1399</td>\n",
       "      <td>9</td>\n",
       "      <td>3</td>\n",
       "      <td>19</td>\n",
       "      <td>29700000</td>\n",
       "      <td>30.0</td>\n",
       "    </tr>\n",
       "    <tr>\n",
       "      <th>31056</th>\n",
       "      <td>2020-12-10</td>\n",
       "      <td>26801</td>\n",
       "      <td>77</td>\n",
       "      <td>4</td>\n",
       "      <td>1399</td>\n",
       "      <td>9</td>\n",
       "      <td>3</td>\n",
       "      <td>20</td>\n",
       "      <td>53460000</td>\n",
       "      <td>54.0</td>\n",
       "    </tr>\n",
       "    <tr>\n",
       "      <th>31057</th>\n",
       "      <td>2020-12-12</td>\n",
       "      <td>26801</td>\n",
       "      <td>77</td>\n",
       "      <td>6</td>\n",
       "      <td>1399</td>\n",
       "      <td>9</td>\n",
       "      <td>3</td>\n",
       "      <td>22</td>\n",
       "      <td>62370000</td>\n",
       "      <td>63.0</td>\n",
       "    </tr>\n",
       "    <tr>\n",
       "      <th>31058</th>\n",
       "      <td>2020-12-13</td>\n",
       "      <td>26801</td>\n",
       "      <td>77</td>\n",
       "      <td>0</td>\n",
       "      <td>1399</td>\n",
       "      <td>9</td>\n",
       "      <td>3</td>\n",
       "      <td>23</td>\n",
       "      <td>89100000</td>\n",
       "      <td>90.0</td>\n",
       "    </tr>\n",
       "    <tr>\n",
       "      <th>31059</th>\n",
       "      <td>2020-12-14</td>\n",
       "      <td>26801</td>\n",
       "      <td>77</td>\n",
       "      <td>1</td>\n",
       "      <td>1399</td>\n",
       "      <td>9</td>\n",
       "      <td>3</td>\n",
       "      <td>24</td>\n",
       "      <td>17820000</td>\n",
       "      <td>18.0</td>\n",
       "    </tr>\n",
       "  </tbody>\n",
       "</table>\n",
       "</div>"
      ],
      "text/plain": [
       "            Date  IdGds  DscGds  WeekDay  PYear  PMonth  PSession  PDay  \\\n",
       "31030 2020-11-10  26801      77        2   1399       8         3    20   \n",
       "31031 2020-11-11  26801      77        3   1399       8         3    21   \n",
       "31032 2020-11-12  26801      77        4   1399       8         3    22   \n",
       "31033 2020-11-14  26801      77        6   1399       8         3    24   \n",
       "31034 2020-11-15  26801      77        0   1399       8         3    25   \n",
       "31035 2020-11-16  26801      77        1   1399       8         3    26   \n",
       "31036 2020-11-17  26801      77        2   1399       8         3    27   \n",
       "31037 2020-11-18  26801      77        3   1399       8         3    28   \n",
       "31038 2020-11-19  26801      77        4   1399       8         3    29   \n",
       "31039 2020-11-21  26801      77        6   1399       9         3     1   \n",
       "31040 2020-11-22  26801      77        0   1399       9         3     2   \n",
       "31041 2020-11-23  26801      77        1   1399       9         3     3   \n",
       "31042 2020-11-24  26801      77        2   1399       9         3     4   \n",
       "31043 2020-11-25  26801      77        3   1399       9         3     5   \n",
       "31044 2020-11-26  26801      77        4   1399       9         3     6   \n",
       "31045 2020-11-28  26801      77        6   1399       9         3     8   \n",
       "31046 2020-11-29  26801      77        0   1399       9         3     9   \n",
       "31047 2020-11-30  26801      77        1   1399       9         3    10   \n",
       "31048 2020-12-01  26801      77        2   1399       9         3    11   \n",
       "31049 2020-12-02  26801      77        3   1399       9         3    12   \n",
       "31050 2020-12-03  26801      77        4   1399       9         3    13   \n",
       "31051 2020-12-05  26801      77        6   1399       9         3    15   \n",
       "31052 2020-12-06  26801      77        0   1399       9         3    16   \n",
       "31053 2020-12-07  26801      77        1   1399       9         3    17   \n",
       "31054 2020-12-08  26801      77        2   1399       9         3    18   \n",
       "31055 2020-12-09  26801      77        3   1399       9         3    19   \n",
       "31056 2020-12-10  26801      77        4   1399       9         3    20   \n",
       "31057 2020-12-12  26801      77        6   1399       9         3    22   \n",
       "31058 2020-12-13  26801      77        0   1399       9         3    23   \n",
       "31059 2020-12-14  26801      77        1   1399       9         3    24   \n",
       "\n",
       "       SalesTotalPrice  SalesAmount  \n",
       "31030        113108400        140.0  \n",
       "31031        105300000        130.0  \n",
       "31032        132030000        164.0  \n",
       "31033        107730000        133.0  \n",
       "31034        137538000        171.0  \n",
       "31035        150498000        187.0  \n",
       "31036        109204200        135.0  \n",
       "31037         89910000        111.0  \n",
       "31038        141750000        175.0  \n",
       "31039        113383800        141.0  \n",
       "31040        106110000        131.0  \n",
       "31041        117450000        145.0  \n",
       "31042         98577000        122.0  \n",
       "31043        111780000        138.0  \n",
       "31044        124254000        154.0  \n",
       "31045         92340000        114.0  \n",
       "31046        114210000        141.0  \n",
       "31047         89910000        111.0  \n",
       "31048        101574000        126.0  \n",
       "31049         92340000        114.0  \n",
       "31050        141750000        175.0  \n",
       "31051        118260000        146.0  \n",
       "31052         51030000         63.0  \n",
       "31053         13770000         17.0  \n",
       "31054         75580000         76.0  \n",
       "31055         29700000         30.0  \n",
       "31056         53460000         54.0  \n",
       "31057         62370000         63.0  \n",
       "31058         89100000         90.0  \n",
       "31059         17820000         18.0  "
      ]
     },
     "execution_count": 658,
     "metadata": {},
     "output_type": "execute_result"
    }
   ],
   "source": [
    "df1.tail(30)"
   ]
  },
  {
   "cell_type": "code",
   "execution_count": 659,
   "id": "6328c3dc",
   "metadata": {},
   "outputs": [],
   "source": [
    "x= df1.iloc[:,2:10]\n",
    "y=df1.iloc[:,9]"
   ]
  },
  {
   "cell_type": "code",
   "execution_count": 660,
   "id": "9f8cd27a",
   "metadata": {},
   "outputs": [
    {
     "data": {
      "text/html": [
       "<div>\n",
       "<style scoped>\n",
       "    .dataframe tbody tr th:only-of-type {\n",
       "        vertical-align: middle;\n",
       "    }\n",
       "\n",
       "    .dataframe tbody tr th {\n",
       "        vertical-align: top;\n",
       "    }\n",
       "\n",
       "    .dataframe thead th {\n",
       "        text-align: right;\n",
       "    }\n",
       "</style>\n",
       "<table border=\"1\" class=\"dataframe\">\n",
       "  <thead>\n",
       "    <tr style=\"text-align: right;\">\n",
       "      <th></th>\n",
       "      <th>DscGds</th>\n",
       "      <th>WeekDay</th>\n",
       "      <th>PYear</th>\n",
       "      <th>PMonth</th>\n",
       "      <th>PSession</th>\n",
       "      <th>PDay</th>\n",
       "      <th>SalesTotalPrice</th>\n",
       "      <th>SalesAmount</th>\n",
       "    </tr>\n",
       "  </thead>\n",
       "  <tbody>\n",
       "    <tr>\n",
       "      <th>30221</th>\n",
       "      <td>77</td>\n",
       "      <td>0</td>\n",
       "      <td>1397</td>\n",
       "      <td>1</td>\n",
       "      <td>1</td>\n",
       "      <td>12</td>\n",
       "      <td>540000</td>\n",
       "      <td>2.0</td>\n",
       "    </tr>\n",
       "    <tr>\n",
       "      <th>30222</th>\n",
       "      <td>77</td>\n",
       "      <td>2</td>\n",
       "      <td>1397</td>\n",
       "      <td>1</td>\n",
       "      <td>1</td>\n",
       "      <td>14</td>\n",
       "      <td>51200000</td>\n",
       "      <td>192.0</td>\n",
       "    </tr>\n",
       "    <tr>\n",
       "      <th>30223</th>\n",
       "      <td>77</td>\n",
       "      <td>3</td>\n",
       "      <td>1397</td>\n",
       "      <td>1</td>\n",
       "      <td>1</td>\n",
       "      <td>15</td>\n",
       "      <td>470000</td>\n",
       "      <td>2.0</td>\n",
       "    </tr>\n",
       "    <tr>\n",
       "      <th>30224</th>\n",
       "      <td>77</td>\n",
       "      <td>4</td>\n",
       "      <td>1397</td>\n",
       "      <td>1</td>\n",
       "      <td>1</td>\n",
       "      <td>16</td>\n",
       "      <td>44790000</td>\n",
       "      <td>167.0</td>\n",
       "    </tr>\n",
       "    <tr>\n",
       "      <th>30225</th>\n",
       "      <td>77</td>\n",
       "      <td>5</td>\n",
       "      <td>1397</td>\n",
       "      <td>1</td>\n",
       "      <td>1</td>\n",
       "      <td>17</td>\n",
       "      <td>3750000</td>\n",
       "      <td>15.0</td>\n",
       "    </tr>\n",
       "    <tr>\n",
       "      <th>...</th>\n",
       "      <td>...</td>\n",
       "      <td>...</td>\n",
       "      <td>...</td>\n",
       "      <td>...</td>\n",
       "      <td>...</td>\n",
       "      <td>...</td>\n",
       "      <td>...</td>\n",
       "      <td>...</td>\n",
       "    </tr>\n",
       "    <tr>\n",
       "      <th>31055</th>\n",
       "      <td>77</td>\n",
       "      <td>3</td>\n",
       "      <td>1399</td>\n",
       "      <td>9</td>\n",
       "      <td>3</td>\n",
       "      <td>19</td>\n",
       "      <td>29700000</td>\n",
       "      <td>30.0</td>\n",
       "    </tr>\n",
       "    <tr>\n",
       "      <th>31056</th>\n",
       "      <td>77</td>\n",
       "      <td>4</td>\n",
       "      <td>1399</td>\n",
       "      <td>9</td>\n",
       "      <td>3</td>\n",
       "      <td>20</td>\n",
       "      <td>53460000</td>\n",
       "      <td>54.0</td>\n",
       "    </tr>\n",
       "    <tr>\n",
       "      <th>31057</th>\n",
       "      <td>77</td>\n",
       "      <td>6</td>\n",
       "      <td>1399</td>\n",
       "      <td>9</td>\n",
       "      <td>3</td>\n",
       "      <td>22</td>\n",
       "      <td>62370000</td>\n",
       "      <td>63.0</td>\n",
       "    </tr>\n",
       "    <tr>\n",
       "      <th>31058</th>\n",
       "      <td>77</td>\n",
       "      <td>0</td>\n",
       "      <td>1399</td>\n",
       "      <td>9</td>\n",
       "      <td>3</td>\n",
       "      <td>23</td>\n",
       "      <td>89100000</td>\n",
       "      <td>90.0</td>\n",
       "    </tr>\n",
       "    <tr>\n",
       "      <th>31059</th>\n",
       "      <td>77</td>\n",
       "      <td>1</td>\n",
       "      <td>1399</td>\n",
       "      <td>9</td>\n",
       "      <td>3</td>\n",
       "      <td>24</td>\n",
       "      <td>17820000</td>\n",
       "      <td>18.0</td>\n",
       "    </tr>\n",
       "  </tbody>\n",
       "</table>\n",
       "<p>839 rows × 8 columns</p>\n",
       "</div>"
      ],
      "text/plain": [
       "       DscGds  WeekDay  PYear  PMonth  PSession  PDay  SalesTotalPrice  \\\n",
       "30221      77        0   1397       1         1    12           540000   \n",
       "30222      77        2   1397       1         1    14         51200000   \n",
       "30223      77        3   1397       1         1    15           470000   \n",
       "30224      77        4   1397       1         1    16         44790000   \n",
       "30225      77        5   1397       1         1    17          3750000   \n",
       "...       ...      ...    ...     ...       ...   ...              ...   \n",
       "31055      77        3   1399       9         3    19         29700000   \n",
       "31056      77        4   1399       9         3    20         53460000   \n",
       "31057      77        6   1399       9         3    22         62370000   \n",
       "31058      77        0   1399       9         3    23         89100000   \n",
       "31059      77        1   1399       9         3    24         17820000   \n",
       "\n",
       "       SalesAmount  \n",
       "30221          2.0  \n",
       "30222        192.0  \n",
       "30223          2.0  \n",
       "30224        167.0  \n",
       "30225         15.0  \n",
       "...            ...  \n",
       "31055         30.0  \n",
       "31056         54.0  \n",
       "31057         63.0  \n",
       "31058         90.0  \n",
       "31059         18.0  \n",
       "\n",
       "[839 rows x 8 columns]"
      ]
     },
     "execution_count": 660,
     "metadata": {},
     "output_type": "execute_result"
    }
   ],
   "source": [
    "x"
   ]
  },
  {
   "cell_type": "code",
   "execution_count": 661,
   "id": "8697d51d",
   "metadata": {},
   "outputs": [
    {
     "data": {
      "text/plain": [
       "30221      2.0\n",
       "30222    192.0\n",
       "30223      2.0\n",
       "30224    167.0\n",
       "30225     15.0\n",
       "         ...  \n",
       "31055     30.0\n",
       "31056     54.0\n",
       "31057     63.0\n",
       "31058     90.0\n",
       "31059     18.0\n",
       "Name: SalesAmount, Length: 839, dtype: float64"
      ]
     },
     "execution_count": 661,
     "metadata": {},
     "output_type": "execute_result"
    }
   ],
   "source": [
    "y"
   ]
  },
  {
   "cell_type": "code",
   "execution_count": 662,
   "id": "45c8c109",
   "metadata": {},
   "outputs": [],
   "source": [
    "forecast_out=5"
   ]
  },
  {
   "cell_type": "code",
   "execution_count": 663,
   "id": "198b6c22",
   "metadata": {},
   "outputs": [
    {
     "data": {
      "text/plain": [
       "(pandas.core.frame.DataFrame, pandas.core.series.Series)"
      ]
     },
     "execution_count": 663,
     "metadata": {},
     "output_type": "execute_result"
    }
   ],
   "source": [
    "type(x),type(y)"
   ]
  },
  {
   "cell_type": "code",
   "execution_count": 664,
   "id": "80a103b3",
   "metadata": {},
   "outputs": [],
   "source": [
    "import pandas as pd\n",
    "import numpy as np\n",
    "import pyodbc\n",
    "\n",
    "import matplotlib.pyplot as plt\n",
    "\n",
    "from sklearn.preprocessing import MinMaxScaler\n",
    "from sklearn.datasets import make_regression\n",
    "from xgboost import XGBRFRegressor\n",
    "from sklearn.linear_model import LinearRegression\n",
    "from sklearn.svm import SVR\n",
    "from sklearn.model_selection import train_test_split"
   ]
  },
  {
   "cell_type": "code",
   "execution_count": 665,
   "id": "79caac9e",
   "metadata": {},
   "outputs": [],
   "source": [
    "sc = MinMaxScaler(feature_range = (0, 1))\n",
    "i=20\n",
    "j=40\n"
   ]
  },
  {
   "cell_type": "code",
   "execution_count": 666,
   "id": "486a4401",
   "metadata": {},
   "outputs": [
    {
     "name": "stdout",
     "output_type": "stream",
     "text": [
      "839\n",
      "(839, 8)\n",
      "834\n",
      "834\n",
      "(834, 8)\n"
     ]
    },
    {
     "name": "stderr",
     "output_type": "stream",
     "text": [
      "<ipython-input-666-5385412b600e>:40: DataConversionWarning: A column-vector y was passed when a 1d array was expected. Please change the shape of y to (n_samples,), for example using ravel().\n",
      "  RF.fit(x_train,y_train)\n"
     ]
    },
    {
     "name": "stdout",
     "output_type": "stream",
     "text": [
      "RF_test_accuracy: 0.44776100754240056\n",
      "RF_train_accuracy: 0.8945813195402221\n"
     ]
    },
    {
     "data": {
      "image/png": "[encoded data removed]",
      "text/plain": [
       "<Figure size 432x288 with 1 Axes>"
      ]
     },
     "metadata": {
      "needs_background": "light"
     },
     "output_type": "display_data"
    },
    {
     "name": "stdout",
     "output_type": "stream",
     "text": [
      "model_test_accuracy: 0.4442279556945268\n",
      "model_train_accuracy: 0.6331907924111309\n"
     ]
    }
   ],
   "source": [
    "x['Prediction']= y.shift(-forecast_out)\n",
    "X = np.array(x.drop(['Prediction'],1)) #delete prediction column and convert to numpy array\n",
    "\n",
    "S=np.array(x.drop(['Prediction'],1))\n",
    "print(len(S))\n",
    "print(S.shape)\n",
    "   \n",
    "X = X[:-forecast_out] #all but the last n row\n",
    "\n",
    "\n",
    "\n",
    "\n",
    "y = np.array(x['Prediction'])\n",
    "\n",
    "Y = y[:-forecast_out]\n",
    "    \n",
    "    \n",
    "    \n",
    "    \n",
    "    \n",
    "    \n",
    "    \n",
    "X_ = sc.fit_transform(X)\n",
    "#S=sc.fit_transform(S)\n",
    "    \n",
    "Y=np.array(Y).reshape(-1,1)\n",
    "Y_=sc.fit_transform(Y)\n",
    "print(len(X_))\n",
    "print(len(Y_))\n",
    "print(X_.shape)\n",
    "\n",
    "from sklearn.model_selection import train_test_split\n",
    "\n",
    "x_train, x_test, y_train, y_test = train_test_split(X_[0:len(X_)], Y_[0:len(X_)], test_size=0.1,random_state=42)  \n",
    "    \n",
    "\n",
    "from sklearn.ensemble import RandomForestRegressor\n",
    "\n",
    "RF = RandomForestRegressor(n_estimators=150, random_state=42)\n",
    "RF.fit(x_train,y_train)\n",
    "RF_test_accuracy=RF.score(x_test,y_test)\n",
    "RF_train_accuracy=RF.score(x_train,y_train)\n",
    "print(\"RF_test_accuracy:\", RF_test_accuracy)\n",
    "print(\"RF_train_accuracy:\",RF_train_accuracy)\n",
    "\n",
    "#pred=RF.predict(S[len(S)-forecast_out:len(S)])\n",
    "pred=RF.predict(x_test[i:j])\n",
    "predicted_price1 = sc.inverse_transform(pred.reshape(-1,1))\n",
    "#predicted_price1 = sc.inverse_transform(pred.reshape(-1,1))\n",
    "\n",
    "\n",
    "plt.plot(sc.inverse_transform(y_test[i:j]), color = 'red', label = 'real')\n",
    "    \n",
    "plt.plot(predicted_price1, color = 'green', label = 'RFpredicted')\n",
    "\n",
    "plt.title(' Price Prediction')\n",
    "plt.xlabel('Time')\n",
    "plt.ylabel(' Stock Price')\n",
    "plt.legend()\n",
    "plt.show()\n",
    "\n",
    "\n",
    "#model = XGBRFRegressor(n_estimators=250, subsample=0.9, colsample_bynode=0.2)\n",
    "model = XGBRFRegressor(n_estimators=250, random_state=42)\n",
    "model.fit(x_train,y_train)\n",
    "model_test_accuracy=model.score(x_test,y_test)\n",
    "model_train_accuracy=model.score(x_train,y_train)\n",
    "\n",
    "print(\"model_test_accuracy:\",model_test_accuracy)\n",
    "print(\"model_train_accuracy:\",model_train_accuracy)\n",
    "\n",
    "\n",
    "\n",
    "\n",
    "\n"
   ]
  },
  {
   "cell_type": "code",
   "execution_count": 667,
   "id": "e2abeef7",
   "metadata": {},
   "outputs": [],
   "source": [
    "i=20\n",
    "j=40"
   ]
  },
  {
   "cell_type": "code",
   "execution_count": 668,
   "id": "595e3685",
   "metadata": {},
   "outputs": [
    {
     "data": {
      "image/png": "[encoded data removed]",
      "text/plain": [
       "<Figure size 432x288 with 1 Axes>"
      ]
     },
     "metadata": {
      "needs_background": "light"
     },
     "output_type": "display_data"
    }
   ],
   "source": [
    "pred=model.predict(x_test[i:j])\n",
    "predicted_price1 = sc.inverse_transform(pred.reshape(-1,1))\n",
    "#predicted_price1 = sc.inverse_transform(pred.reshape(-1,1))\n",
    "\n",
    "\n",
    "plt.plot(sc.inverse_transform(y_test[i:j]), color = 'red', label = 'real')\n",
    "    \n",
    "plt.plot(predicted_price1, color = 'green', label = 'XGBRFpredicted')\n",
    "\n",
    "plt.title(' Price Prediction')\n",
    "plt.xlabel('Time')\n",
    "plt.ylabel(' Stock Price')\n",
    "plt.legend()\n",
    "plt.show()"
   ]
  },
  {
   "cell_type": "code",
   "execution_count": 669,
   "id": "d7e2c02d",
   "metadata": {},
   "outputs": [
    {
     "data": {
      "text/plain": [
       "(84, 750)"
      ]
     },
     "execution_count": 669,
     "metadata": {},
     "output_type": "execute_result"
    }
   ],
   "source": [
    "len(x_test),len(x_train)"
   ]
  },
  {
   "cell_type": "code",
   "execution_count": 2,
   "id": "2ed77b11",
   "metadata": {},
   "outputs": [],
   "source": [
    "import numpy as np"
   ]
  },
  {
   "cell_type": "code",
   "execution_count": 16,
   "id": "61b29051",
   "metadata": {},
   "outputs": [],
   "source": [
    "#people = ['Jim', 'Pam', 'Micheal', 'Dwight']\n",
    "people=[12,18,65,3]\n",
    "ages = [27, 5, 4, 9]\n",
    "\n",
    "import numpy\n",
    "people = numpy.array(people)\n",
    "\n",
    "ages = numpy.array(ages)\n",
    "\n",
    "\n",
    "inds = ages.argsort()\n",
    "sorted=np.array(inds)[::-1]\n",
    "sortedPeople = people[sorted]\n",
    "sortPeople = people[inds].argsort()\n"
   ]
  },
  {
   "cell_type": "code",
   "execution_count": 10,
   "id": "741be37a",
   "metadata": {},
   "outputs": [
    {
     "data": {
      "text/plain": [
       "array([2, 1, 3, 0], dtype=int64)"
      ]
     },
     "execution_count": 10,
     "metadata": {},
     "output_type": "execute_result"
    }
   ],
   "source": [
    "inds"
   ]
  },
  {
   "cell_type": "code",
   "execution_count": 11,
   "id": "2ddc8c5a",
   "metadata": {},
   "outputs": [
    {
     "data": {
      "text/plain": [
       "array([0, 3, 1, 2], dtype=int64)"
      ]
     },
     "execution_count": 11,
     "metadata": {},
     "output_type": "execute_result"
    }
   ],
   "source": [
    "sorted"
   ]
  },
  {
   "cell_type": "code",
   "execution_count": 12,
   "id": "37892969",
   "metadata": {},
   "outputs": [
    {
     "data": {
      "text/plain": [
       "array([0, 3, 1, 2], dtype=int64)"
      ]
     },
     "execution_count": 12,
     "metadata": {},
     "output_type": "execute_result"
    }
   ],
   "source": [
    "sorted"
   ]
  },
  {
   "cell_type": "code",
   "execution_count": null,
   "id": "e19f186e",
   "metadata": {},
   "outputs": [],
   "source": []
  },
  {
   "cell_type": "code",
   "execution_count": 17,
   "id": "a71b3d3b",
   "metadata": {},
   "outputs": [
    {
     "data": {
      "text/plain": [
       "array([2, 3, 1, 0], dtype=int64)"
      ]
     },
     "execution_count": 17,
     "metadata": {},
     "output_type": "execute_result"
    }
   ],
   "source": [
    "sortPeople"
   ]
  },
  {
   "cell_type": "code",
   "execution_count": 14,
   "id": "4fbbca70",
   "metadata": {},
   "outputs": [],
   "source": [
    "ages = [27, 5, 4, 9]"
   ]
  },
  {
   "cell_type": "code",
   "execution_count": 15,
   "id": "038ce242",
   "metadata": {},
   "outputs": [
    {
     "data": {
      "text/plain": [
       "array([12,  3, 18, 65])"
      ]
     },
     "execution_count": 15,
     "metadata": {},
     "output_type": "execute_result"
    }
   ],
   "source": [
    "sortedPeople"
   ]
  },
  {
   "cell_type": "code",
   "execution_count": 674,
   "id": "e2a4e20d",
   "metadata": {},
   "outputs": [
    {
     "data": {
      "text/plain": [
       "array(['Micheal', 'Pam', 'Dwight', 'Jim'], dtype='<U7')"
      ]
     },
     "execution_count": 674,
     "metadata": {},
     "output_type": "execute_result"
    }
   ],
   "source": [
    "sortPeople"
   ]
  },
  {
   "cell_type": "code",
   "execution_count": 675,
   "id": "7c8154e4",
   "metadata": {},
   "outputs": [],
   "source": [
    "avgDists = np.array([1, 8, 6, 9, 4])\n",
    "ids = avgDists.argsort()[:5]"
   ]
  },
  {
   "cell_type": "code",
   "execution_count": 676,
   "id": "f5b7dd8b",
   "metadata": {},
   "outputs": [
    {
     "data": {
      "text/plain": [
       "array([0, 4, 2, 1, 3], dtype=int64)"
      ]
     },
     "execution_count": 676,
     "metadata": {},
     "output_type": "execute_result"
    }
   ],
   "source": [
    "ids"
   ]
  },
  {
   "cell_type": "code",
   "execution_count": null,
   "id": "93d6067c",
   "metadata": {},
   "outputs": [],
   "source": []
  },
  {
   "cell_type": "code",
   "execution_count": 242,
   "id": "4832d58c",
   "metadata": {},
   "outputs": [],
   "source": [
    "dict={\"A\": [\n",
    "      0,\n",
    "      1,\n",
    "      3,\n",
    "      0,\n",
    "      0,\n",
    "      1,\n",
    "      0,\n",
    "      8,\n",
    "      5,\n",
    "      2\n",
    "    ],\n",
    "    \"B\": [\n",
    "      0,\n",
    "      3,\n",
    "      0,\n",
    "      3,\n",
    "      14,\n",
    "      4,\n",
    "      2,\n",
    "      8,\n",
    "      4,\n",
    "      2\n",
    "    ],\n",
    "    \"C\": [\n",
    "      18,\n",
    "      1,\n",
    "      0,\n",
    "      24,\n",
    "      3,\n",
    "      0,\n",
    "      11,\n",
    "      12,\n",
    "      0,\n",
    "      11\n",
    "    ],\n",
    "    \"D\": [\n",
    "      0,\n",
    "      6,\n",
    "      1,\n",
    "      0,\n",
    "      6,\n",
    "      1,\n",
    "      2,\n",
    "      0,\n",
    "      4,\n",
    "      0\n",
    "    ],\n",
    "    \"E\": [\n",
    "      11,\n",
    "      1,\n",
    "      12,\n",
    "      1,\n",
    "      0,\n",
    "      12,\n",
    "      1,\n",
    "      1,\n",
    "      0,\n",
    "      6\n",
    "    ]}"
   ]
  },
  {
   "cell_type": "code",
   "execution_count": 243,
   "id": "6fac7073",
   "metadata": {},
   "outputs": [
    {
     "data": {
      "text/plain": [
       "1"
      ]
     },
     "execution_count": 243,
     "metadata": {},
     "output_type": "execute_result"
    }
   ],
   "source": [
    "dict[\"A\"][5]"
   ]
  },
  {
   "cell_type": "code",
   "execution_count": 244,
   "id": "a6bc1a27",
   "metadata": {},
   "outputs": [
    {
     "name": "stdout",
     "output_type": "stream",
     "text": [
      "A\n",
      "B\n",
      "C\n",
      "D\n",
      "E\n"
     ]
    }
   ],
   "source": [
    "for v in dict.keys():\n",
    "    print(v)\n",
    "# 1"
   ]
  },
  {
   "cell_type": "code",
   "execution_count": 245,
   "id": "ac416e81",
   "metadata": {},
   "outputs": [
    {
     "data": {
      "text/plain": [
       "'A'"
      ]
     },
     "execution_count": 245,
     "metadata": {},
     "output_type": "execute_result"
    }
   ],
   "source": [
    "list(dict.keys())[0]"
   ]
  },
  {
   "cell_type": "code",
   "execution_count": 246,
   "id": "d9e1f567",
   "metadata": {},
   "outputs": [
    {
     "data": {
      "text/plain": [
       "<function dict.items>"
      ]
     },
     "execution_count": 246,
     "metadata": {},
     "output_type": "execute_result"
    }
   ],
   "source": [
    "dict.items"
   ]
  },
  {
   "cell_type": "code",
   "execution_count": 247,
   "id": "7257f8c8",
   "metadata": {},
   "outputs": [],
   "source": [
    "#for key , value in dict:\n",
    "   # print(key)"
   ]
  },
  {
   "cell_type": "code",
   "execution_count": 248,
   "id": "a11794f4",
   "metadata": {},
   "outputs": [
    {
     "data": {
      "text/plain": [
       "5"
      ]
     },
     "execution_count": 248,
     "metadata": {},
     "output_type": "execute_result"
    }
   ],
   "source": [
    "len(dict)"
   ]
  },
  {
   "cell_type": "code",
   "execution_count": 249,
   "id": "39d8a1a5",
   "metadata": {},
   "outputs": [],
   "source": [
    "DayCount=[4,4,4,4,4]\n",
    "TedadTahvil=[50,50,50,50,60]"
   ]
  },
  {
   "cell_type": "code",
   "execution_count": 250,
   "id": "ffe481cc",
   "metadata": {},
   "outputs": [],
   "source": [
    "a=[]\n",
    "#sum=0\n",
    "#for nurse in dict: \n",
    "for i in range(0,len(dict)):\n",
    "   \n",
    "        sum=0\n",
    "    #for i in range (0,len(DayCount)):\n",
    " #for nurse in dict:  \n",
    "        \n",
    "        for j in range(0,DayCount[i]):\n",
    "        \n",
    "            sum=sum+dict[list(dict.keys())[i]][j]\n",
    "        a.append(sum)        "
   ]
  },
  {
   "cell_type": "code",
   "execution_count": 251,
   "id": "81befb20",
   "metadata": {},
   "outputs": [
    {
     "data": {
      "text/plain": [
       "[4, 6, 43, 7, 25]"
      ]
     },
     "execution_count": 251,
     "metadata": {},
     "output_type": "execute_result"
    }
   ],
   "source": [
    "a"
   ]
  },
  {
   "cell_type": "code",
   "execution_count": 253,
   "id": "174d81c2",
   "metadata": {},
   "outputs": [
    {
     "name": "stdout",
     "output_type": "stream",
     "text": [
      "true\n",
      "true\n",
      "true\n",
      "true\n",
      "true\n"
     ]
    }
   ],
   "source": [
    "for i in range(0,len(a)):\n",
    "    if a[i]<TedadTahvil[i]:\n",
    "        print(\"true\")"
   ]
  },
  {
   "cell_type": "code",
   "execution_count": null,
   "id": "ec300497",
   "metadata": {},
   "outputs": [],
   "source": []
  },
  {
   "cell_type": "code",
   "execution_count": 57,
   "id": "a51074cf",
   "metadata": {},
   "outputs": [
    {
     "ename": "TypeError",
     "evalue": "can only concatenate list (not \"int\") to list",
     "output_type": "error",
     "traceback": [
      "\u001b[1;31m---------------------------------------------------------------------------\u001b[0m",
      "\u001b[1;31mTypeError\u001b[0m                                 Traceback (most recent call last)",
      "\u001b[1;32m<ipython-input-57-15b73d1108c5>\u001b[0m in \u001b[0;36m<module>\u001b[1;34m\u001b[0m\n\u001b[0;32m      1\u001b[0m \u001b[1;32mfor\u001b[0m \u001b[0mi\u001b[0m \u001b[1;32min\u001b[0m \u001b[0mrange\u001b[0m\u001b[1;33m(\u001b[0m\u001b[1;36m0\u001b[0m\u001b[1;33m,\u001b[0m\u001b[0mcountA\u001b[0m\u001b[1;33m)\u001b[0m\u001b[1;33m:\u001b[0m\u001b[1;33m\u001b[0m\u001b[1;33m\u001b[0m\u001b[0m\n\u001b[0;32m      2\u001b[0m \u001b[1;33m\u001b[0m\u001b[0m\n\u001b[1;32m----> 3\u001b[1;33m                       \u001b[0ma\u001b[0m\u001b[1;33m=\u001b[0m\u001b[0ma\u001b[0m\u001b[1;33m+\u001b[0m\u001b[0mdict\u001b[0m\u001b[1;33m[\u001b[0m\u001b[1;34m\"A\"\u001b[0m\u001b[1;33m]\u001b[0m\u001b[1;33m[\u001b[0m\u001b[0mi\u001b[0m\u001b[1;33m]\u001b[0m\u001b[1;33m\u001b[0m\u001b[1;33m\u001b[0m\u001b[0m\n\u001b[0m\u001b[0;32m      4\u001b[0m \u001b[1;33m\u001b[0m\u001b[0m\n\u001b[0;32m      5\u001b[0m \u001b[1;32mfor\u001b[0m \u001b[0mj\u001b[0m \u001b[1;32min\u001b[0m \u001b[0mrange\u001b[0m\u001b[1;33m(\u001b[0m\u001b[1;36m0\u001b[0m\u001b[1;33m,\u001b[0m\u001b[0mcountB\u001b[0m\u001b[1;33m)\u001b[0m\u001b[1;33m:\u001b[0m\u001b[1;33m\u001b[0m\u001b[1;33m\u001b[0m\u001b[0m\n",
      "\u001b[1;31mTypeError\u001b[0m: can only concatenate list (not \"int\") to list"
     ]
    }
   ],
   "source": [
    "for i in range(0,countA):\n",
    "    \n",
    "                      a=a+dict[\"A\"][i]\n",
    "                      \n",
    "for j in range(0,countB):\n",
    "                 \n",
    "                      b=b+dict[\"B\"][j]\n",
    "                      \n",
    "for k in range(0,countC):         \n",
    "                      \n",
    "                      c=c+dict[\"C\"][k]\n",
    "                      \n",
    "if a<A:\n",
    "                 violations=violations+(A-a)\n",
    "if b<B:\n",
    "                 violations=violations+(B-b)\n",
    "if c<C:\n",
    "                 violations=violations+(C-c)"
   ]
  },
  {
   "cell_type": "code",
   "execution_count": null,
   "id": "77c226ce",
   "metadata": {},
   "outputs": [],
   "source": []
  },
  {
   "cell_type": "code",
   "execution_count": null,
   "id": "2f6c3d13",
   "metadata": {},
   "outputs": [],
   "source": []
  },
  {
   "cell_type": "code",
   "execution_count": 2,
   "id": "5397ee5b",
   "metadata": {},
   "outputs": [
    {
     "ename": "NameError",
     "evalue": "name 's' is not defined",
     "output_type": "error",
     "traceback": [
      "\u001b[1;31m---------------------------------------------------------------------------\u001b[0m",
      "\u001b[1;31mNameError\u001b[0m                                 Traceback (most recent call last)",
      "\u001b[1;32m<ipython-input-2-7d1b784b303e>\u001b[0m in \u001b[0;36m<module>\u001b[1;34m\u001b[0m\n\u001b[1;32m----> 1\u001b[1;33m \u001b[1;32mfor\u001b[0m \u001b[0mi\u001b[0m\u001b[1;33m,\u001b[0m\u001b[0mj\u001b[0m \u001b[1;32min\u001b[0m \u001b[0mzip\u001b[0m\u001b[1;33m(\u001b[0m\u001b[0mdict\u001b[0m\u001b[1;33m,\u001b[0m\u001b[0mrange\u001b[0m\u001b[1;33m(\u001b[0m\u001b[0mlen\u001b[0m\u001b[1;33m(\u001b[0m\u001b[0ms\u001b[0m\u001b[1;33m)\u001b[0m\u001b[1;33m)\u001b[0m\u001b[1;33m)\u001b[0m\u001b[1;33m:\u001b[0m\u001b[1;33m\u001b[0m\u001b[1;33m\u001b[0m\u001b[0m\n\u001b[0m\u001b[0;32m      2\u001b[0m     \u001b[0mdict\u001b[0m\u001b[1;33m[\u001b[0m\u001b[0mi\u001b[0m\u001b[1;33m]\u001b[0m\u001b[1;33m=\u001b[0m\u001b[0ms\u001b[0m\u001b[1;33m[\u001b[0m\u001b[0mj\u001b[0m\u001b[1;33m]\u001b[0m\u001b[1;33m\u001b[0m\u001b[1;33m\u001b[0m\u001b[0m\n",
      "\u001b[1;31mNameError\u001b[0m: name 's' is not defined"
     ]
    }
   ],
   "source": [
    "for i,j in zip(dict,range(len(s))):\n",
    "    dict[i]=s[j]"
   ]
  },
  {
   "cell_type": "code",
   "execution_count": 2,
   "id": "cd6333ff",
   "metadata": {},
   "outputs": [
    {
     "data": {
      "text/plain": [
       "[10, 20, 30, 40, 90, 10, 20, 30, 40, 90, 10, 20, 30, 40, 90]"
      ]
     },
     "execution_count": 2,
     "metadata": {},
     "output_type": "execute_result"
    }
   ],
   "source": [
    "shiftsPerWeek=[10,20,30,40,90]\n",
    "weeks=3\n",
    "weeks*shiftsPerWeek"
   ]
  },
  {
   "cell_type": "code",
   "execution_count": 3,
   "id": "a22b9037",
   "metadata": {},
   "outputs": [
    {
     "data": {
      "text/plain": [
       "{'A': [0, 1, 3, 0, 0, 1, 0, 8, 5, 2],\n",
       " 'B': [0, 3, 0, 3, 14, 4, 2, 8, 4, 2],\n",
       " 'C': [18, 1, 0, 24, 3, 0, 11, 12, 0, 11],\n",
       " 'D': [0, 6, 1, 0, 6, 1, 2, 0, 4, 0],\n",
       " 'E': [11, 1, 12, 1, 0, 12, 1, 1, 0, 6]}"
      ]
     },
     "execution_count": 3,
     "metadata": {},
     "output_type": "execute_result"
    }
   ],
   "source": [
    "dict"
   ]
  },
  {
   "cell_type": "code",
   "execution_count": 14,
   "id": "0bd1775f",
   "metadata": {},
   "outputs": [
    {
     "name": "stdout",
     "output_type": "stream",
     "text": [
      "[0, 1, 3, 0, 0, 1, 0, 8, 5, 2]\n",
      "[0, 3, 0, 3, 14, 4, 2, 8, 4, 2]\n",
      "[18, 1, 0, 24, 3, 0, 11, 12, 0, 11]\n",
      "[0, 6, 1, 0, 6, 1, 2, 0, 4, 0]\n",
      "[11, 1, 12, 1, 0, 12, 1, 1, 0, 6]\n"
     ]
    }
   ],
   "source": [
    "for nurseShifts in dict.values(): \n",
    "    print(nurseShifts)"
   ]
  },
  {
   "cell_type": "code",
   "execution_count": 15,
   "id": "f16fb206",
   "metadata": {},
   "outputs": [
    {
     "data": {
      "text/plain": [
       "[11, 1, 12, 1, 0, 12, 1, 1, 0, 6]"
      ]
     },
     "execution_count": 15,
     "metadata": {},
     "output_type": "execute_result"
    }
   ],
   "source": [
    "nurseShifts"
   ]
  },
  {
   "cell_type": "code",
   "execution_count": 12,
   "id": "b85e54cb",
   "metadata": {},
   "outputs": [],
   "source": [
    "for nurseShifts in dict.values():  # all shifts of a single nurse\n",
    "            # iterate over the shifts of each weeks:\n",
    "             for i in range(0,countA):\n",
    "    \n",
    "                      a=a+dict[\"A\"][i]"
   ]
  },
  {
   "cell_type": "code",
   "execution_count": 13,
   "id": "e65548d9",
   "metadata": {},
   "outputs": [
    {
     "data": {
      "text/plain": [
       "24"
      ]
     },
     "execution_count": 13,
     "metadata": {},
     "output_type": "execute_result"
    }
   ],
   "source": [
    "a"
   ]
  },
  {
   "cell_type": "code",
   "execution_count": 8,
   "id": "d14dd880",
   "metadata": {},
   "outputs": [],
   "source": [
    "a=0\n",
    "countA=4\n",
    "\n",
    "for i in range(0,countA):\n",
    "    \n",
    "        a=a+dict[\"A\"][i]"
   ]
  },
  {
   "cell_type": "code",
   "execution_count": 10,
   "id": "99f22568",
   "metadata": {},
   "outputs": [
    {
     "name": "stdout",
     "output_type": "stream",
     "text": [
      "A\n",
      "B\n",
      "C\n",
      "D\n",
      "E\n"
     ]
    }
   ],
   "source": [
    "for nurse in dict:\n",
    "    print(nurse)"
   ]
  },
  {
   "cell_type": "code",
   "execution_count": 9,
   "id": "36764039",
   "metadata": {},
   "outputs": [
    {
     "data": {
      "text/plain": [
       "4"
      ]
     },
     "execution_count": 9,
     "metadata": {},
     "output_type": "execute_result"
    }
   ],
   "source": [
    "a"
   ]
  },
  {
   "cell_type": "code",
   "execution_count": 4,
   "id": "7c160cf9",
   "metadata": {},
   "outputs": [
    {
     "name": "stdout",
     "output_type": "stream",
     "text": [
      "[0, 1, 3, 0, 0, 1, 0, 8, 5, 2]\n",
      "[0, 3, 0, 3, 14, 4, 2, 8, 4, 2]\n",
      "[18, 1, 0, 24, 3, 0, 11, 12, 0, 11]\n",
      "[0, 6, 1, 0, 6, 1, 2, 0, 4, 0]\n",
      "[11, 1, 12, 1, 0, 12, 1, 1, 0, 6]\n"
     ]
    }
   ],
   "source": [
    "for nurseShifts in dict.values():\n",
    "    print(nurseShifts)\n",
    "    "
   ]
  },
  {
   "cell_type": "code",
   "execution_count": 41,
   "id": "2d0870a8",
   "metadata": {},
   "outputs": [],
   "source": [
    "count=2\n",
    "for i in range (0,len(dict[\"A\"])):\n",
    "   a=sum(dict[\"A\"][i:i+count])"
   ]
  },
  {
   "cell_type": "code",
   "execution_count": 47,
   "id": "680ef6c6",
   "metadata": {},
   "outputs": [],
   "source": [
    "numphone = 0\n",
    "for i in range(0,count):\n",
    "    for x in dict[\"A\"]:\n",
    "        numphone = numphone + x"
   ]
  },
  {
   "cell_type": "code",
   "execution_count": 59,
   "id": "a1a579e0",
   "metadata": {},
   "outputs": [
    {
     "data": {
      "text/plain": [
       "[0, 1, 3, 0, 0, 1, 0, 8, 5, 2]"
      ]
     },
     "execution_count": 59,
     "metadata": {},
     "output_type": "execute_result"
    }
   ],
   "source": [
    "dict[\"A\"]"
   ]
  },
  {
   "cell_type": "code",
   "execution_count": 60,
   "id": "c457f3a0",
   "metadata": {},
   "outputs": [],
   "source": [
    "ds = [1,2,3,4,5]\n",
    "a=0\n",
    "for i in range(0,3):\n",
    "    \n",
    "    a=a+dict[\"A\"][i]\n",
    "    "
   ]
  },
  {
   "cell_type": "code",
   "execution_count": 61,
   "id": "5c8292d2",
   "metadata": {},
   "outputs": [
    {
     "data": {
      "text/plain": [
       "4"
      ]
     },
     "execution_count": 61,
     "metadata": {},
     "output_type": "execute_result"
    }
   ],
   "source": [
    "a"
   ]
  },
  {
   "cell_type": "code",
   "execution_count": 32,
   "id": "aaf76485",
   "metadata": {},
   "outputs": [
    {
     "name": "stdout",
     "output_type": "stream",
     "text": [
      "0\n",
      "0\n",
      "18\n",
      "0\n",
      "11\n"
     ]
    }
   ],
   "source": [
    "for nurseShifts in dict.values(): \n",
    "    # a\n",
    "    print(nurseShifts[0])\n",
    "     "
   ]
  },
  {
   "cell_type": "code",
   "execution_count": 15,
   "id": "069b2e9e",
   "metadata": {},
   "outputs": [
    {
     "data": {
      "text/plain": [
       "11"
      ]
     },
     "execution_count": 15,
     "metadata": {},
     "output_type": "execute_result"
    }
   ],
   "source": [
    "nurseShifts[0]"
   ]
  },
  {
   "cell_type": "code",
   "execution_count": 13,
   "id": "6bff2c4c",
   "metadata": {},
   "outputs": [
    {
     "ename": "TypeError",
     "evalue": "'int' object is not iterable",
     "output_type": "error",
     "traceback": [
      "\u001b[1;31m---------------------------------------------------------------------------\u001b[0m",
      "\u001b[1;31mTypeError\u001b[0m                                 Traceback (most recent call last)",
      "\u001b[1;32m<ipython-input-13-618e19dba012>\u001b[0m in \u001b[0;36m<module>\u001b[1;34m\u001b[0m\n\u001b[0;32m      5\u001b[0m             \u001b[1;32mfor\u001b[0m \u001b[0mi\u001b[0m \u001b[1;32min\u001b[0m \u001b[0mrange\u001b[0m\u001b[1;33m(\u001b[0m\u001b[1;36m0\u001b[0m\u001b[1;33m,\u001b[0m \u001b[0mcount\u001b[0m\u001b[1;33m)\u001b[0m\u001b[1;33m:\u001b[0m\u001b[1;33m\u001b[0m\u001b[1;33m\u001b[0m\u001b[0m\n\u001b[0;32m      6\u001b[0m                 \u001b[1;31m# count all the '1's over the week:\u001b[0m\u001b[1;33m\u001b[0m\u001b[1;33m\u001b[0m\u001b[1;33m\u001b[0m\u001b[0m\n\u001b[1;32m----> 7\u001b[1;33m                 \u001b[0mweeklyShifts\u001b[0m \u001b[1;33m=\u001b[0m \u001b[0msum\u001b[0m\u001b[1;33m(\u001b[0m\u001b[0mnurseShifts\u001b[0m\u001b[1;33m[\u001b[0m\u001b[0mi\u001b[0m\u001b[1;33m]\u001b[0m\u001b[1;33m)\u001b[0m\u001b[1;33m\u001b[0m\u001b[1;33m\u001b[0m\u001b[0m\n\u001b[0m\u001b[0;32m      8\u001b[0m                 \u001b[0mweeklyShiftsList\u001b[0m\u001b[1;33m.\u001b[0m\u001b[0mappend\u001b[0m\u001b[1;33m(\u001b[0m\u001b[0mweeklyShifts\u001b[0m\u001b[1;33m)\u001b[0m\u001b[1;33m\u001b[0m\u001b[1;33m\u001b[0m\u001b[0m\n",
      "\u001b[1;31mTypeError\u001b[0m: 'int' object is not iterable"
     ]
    }
   ],
   "source": [
    "count=4\n",
    "weeklyShiftsList=[]\n",
    "for nurseShifts in dict.values():  # all shifts of a single nurse\n",
    "            # iterate over the shifts of each weeks:\n",
    "            for i in range(0, count):\n",
    "                # count all the '1's over the week:\n",
    "                weeklyShifts = sum(nurseShifts[i])\n",
    "                weeklyShiftsList.append(weeklyShifts)"
   ]
  },
  {
   "cell_type": "code",
   "execution_count": 12,
   "id": "50e284d6",
   "metadata": {},
   "outputs": [
    {
     "data": {
      "text/plain": [
       "[20,\n",
       " 20,\n",
       " 20,\n",
       " 20,\n",
       " 40,\n",
       " 40,\n",
       " 40,\n",
       " 40,\n",
       " 80,\n",
       " 80,\n",
       " 80,\n",
       " 80,\n",
       " 20,\n",
       " 20,\n",
       " 20,\n",
       " 20,\n",
       " 45,\n",
       " 45,\n",
       " 45,\n",
       " 45]"
      ]
     },
     "execution_count": 12,
     "metadata": {},
     "output_type": "execute_result"
    }
   ],
   "source": [
    "weeklyShiftsList"
   ]
  },
  {
   "cell_type": "code",
   "execution_count": null,
   "id": "fc5a42f8",
   "metadata": {},
   "outputs": [],
   "source": []
  },
  {
   "cell_type": "code",
   "execution_count": 4,
   "id": "a2373077",
   "metadata": {},
   "outputs": [
    {
     "ename": "SyntaxError",
     "evalue": "invalid syntax (<ipython-input-4-8d7c7c29e848>, line 1)",
     "output_type": "error",
     "traceback": [
      "\u001b[1;36m  File \u001b[1;32m\"<ipython-input-4-8d7c7c29e848>\"\u001b[1;36m, line \u001b[1;32m1\u001b[0m\n\u001b[1;33m    for i in (dict) and for j in range(len(s)):\u001b[0m\n\u001b[1;37m                        ^\u001b[0m\n\u001b[1;31mSyntaxError\u001b[0m\u001b[1;31m:\u001b[0m invalid syntax\n"
     ]
    }
   ],
   "source": [
    "for i in (dict) and for j in range(len(s)):\n",
    "#for j in range(len(s)):\n",
    "      dict[i]=s[j]"
   ]
  },
  {
   "cell_type": "code",
   "execution_count": 5,
   "id": "40dabccc",
   "metadata": {},
   "outputs": [
    {
     "ename": "NameError",
     "evalue": "name 's' is not defined",
     "output_type": "error",
     "traceback": [
      "\u001b[1;31m---------------------------------------------------------------------------\u001b[0m",
      "\u001b[1;31mNameError\u001b[0m                                 Traceback (most recent call last)",
      "\u001b[1;32m<ipython-input-5-9ab8a4b5ec45>\u001b[0m in \u001b[0;36m<module>\u001b[1;34m\u001b[0m\n\u001b[0;32m      1\u001b[0m \u001b[1;32mfor\u001b[0m \u001b[0mkey\u001b[0m \u001b[1;32min\u001b[0m \u001b[0menumerate\u001b[0m\u001b[1;33m(\u001b[0m\u001b[0mdict\u001b[0m\u001b[1;33m)\u001b[0m\u001b[1;33m:\u001b[0m\u001b[1;33m\u001b[0m\u001b[1;33m\u001b[0m\u001b[0m\n\u001b[1;32m----> 2\u001b[1;33m           \u001b[1;32mfor\u001b[0m \u001b[0mi\u001b[0m \u001b[1;32min\u001b[0m \u001b[0mrange\u001b[0m\u001b[1;33m(\u001b[0m\u001b[0mlen\u001b[0m\u001b[1;33m(\u001b[0m\u001b[0ms\u001b[0m\u001b[1;33m)\u001b[0m\u001b[1;33m)\u001b[0m\u001b[1;33m:\u001b[0m\u001b[1;33m\u001b[0m\u001b[1;33m\u001b[0m\u001b[0m\n\u001b[0m\u001b[0;32m      3\u001b[0m \u001b[1;33m\u001b[0m\u001b[0m\n\u001b[0;32m      4\u001b[0m                 \u001b[0mdict\u001b[0m\u001b[1;33m[\u001b[0m\u001b[0mkey\u001b[0m\u001b[1;33m]\u001b[0m\u001b[1;33m=\u001b[0m\u001b[0ms\u001b[0m\u001b[1;33m[\u001b[0m\u001b[0mi\u001b[0m\u001b[1;33m]\u001b[0m\u001b[1;33m\u001b[0m\u001b[1;33m\u001b[0m\u001b[0m\n",
      "\u001b[1;31mNameError\u001b[0m: name 's' is not defined"
     ]
    }
   ],
   "source": [
    "for key in enumerate(dict): \n",
    "          for i in range(len(s)):  \n",
    "                \n",
    "                dict[key]=s[i]"
   ]
  },
  {
   "cell_type": "code",
   "execution_count": 6,
   "id": "f965de58",
   "metadata": {},
   "outputs": [
    {
     "data": {
      "text/plain": [
       "{'A': [0, 1, 3, 0, 0, 1, 0, 8, 5, 2],\n",
       " 'B': [0, 3, 0, 3, 14, 4, 2, 8, 4, 2],\n",
       " 'C': [18, 1, 0, 24, 3, 0, 11, 12, 0, 11],\n",
       " 'D': [0, 6, 1, 0, 6, 1, 2, 0, 4, 0],\n",
       " 'E': [11, 1, 12, 1, 0, 12, 1, 1, 0, 6]}"
      ]
     },
     "execution_count": 6,
     "metadata": {},
     "output_type": "execute_result"
    }
   ],
   "source": [
    "dict"
   ]
  },
  {
   "cell_type": "code",
   "execution_count": 7,
   "id": "3b81bdd8",
   "metadata": {},
   "outputs": [
    {
     "data": {
      "text/plain": [
       "[(0, 0, 18, 0, 11),\n",
       " (1, 3, 1, 6, 1),\n",
       " (3, 0, 0, 1, 12),\n",
       " (0, 3, 24, 0, 1),\n",
       " (0, 14, 3, 6, 0),\n",
       " (1, 4, 0, 1, 12),\n",
       " (0, 2, 11, 2, 1),\n",
       " (8, 8, 12, 0, 1),\n",
       " (5, 4, 0, 4, 0),\n",
       " (2, 2, 11, 0, 6)]"
      ]
     },
     "execution_count": 7,
     "metadata": {},
     "output_type": "execute_result"
    }
   ],
   "source": [
    "PerShiftList = [shift for shift in zip(*dict.values())]\n",
    "PerShiftList\n"
   ]
  },
  {
   "cell_type": "code",
   "execution_count": 9,
   "id": "5831679b",
   "metadata": {},
   "outputs": [
    {
     "data": {
      "text/plain": [
       "[([0, 1, 3, 0, 0, 1, 0, 8, 5, 2],),\n",
       " ([0, 3, 0, 3, 14, 4, 2, 8, 4, 2],),\n",
       " ([18, 1, 0, 24, 3, 0, 11, 12, 0, 11],),\n",
       " ([0, 6, 1, 0, 6, 1, 2, 0, 4, 0],),\n",
       " ([11, 1, 12, 1, 0, 12, 1, 1, 0, 6],)]"
      ]
     },
     "execution_count": 9,
     "metadata": {},
     "output_type": "execute_result"
    }
   ],
   "source": [
    "PerShiftLis = [shift for shift in zip(dict.values())]\n",
    "PerShiftLis\n"
   ]
  },
  {
   "cell_type": "code",
   "execution_count": 26,
   "id": "de8e123e",
   "metadata": {},
   "outputs": [],
   "source": [
    "import numpy as np\n",
    "a=[]\n",
    "PerShiftList = [shift for shift in zip(*dict.values())]\n",
    "for i in range(0,len(PerShiftList)):\n",
    "            a.append(list(PerShiftList[i]))\n",
    "for i in range(0,len(a)):\n",
    "            \n",
    "            f=np.array(a[i])"
   ]
  },
  {
   "cell_type": "code",
   "execution_count": 7,
   "id": "67a0babf",
   "metadata": {},
   "outputs": [
    {
     "ename": "NameError",
     "evalue": "name 'PerShiftList' is not defined",
     "output_type": "error",
     "traceback": [
      "\u001b[1;31m---------------------------------------------------------------------------\u001b[0m",
      "\u001b[1;31mNameError\u001b[0m                                 Traceback (most recent call last)",
      "\u001b[1;32m<ipython-input-7-68cba842739d>\u001b[0m in \u001b[0;36m<module>\u001b[1;34m\u001b[0m\n\u001b[1;32m----> 1\u001b[1;33m \u001b[0mPerShiftList\u001b[0m\u001b[1;33m\u001b[0m\u001b[1;33m\u001b[0m\u001b[0m\n\u001b[0m",
      "\u001b[1;31mNameError\u001b[0m: name 'PerShiftList' is not defined"
     ]
    }
   ],
   "source": [
    "PerShiftList"
   ]
  },
  {
   "cell_type": "code",
   "execution_count": 10,
   "id": "6e86fdc6",
   "metadata": {},
   "outputs": [
    {
     "name": "stdout",
     "output_type": "stream",
     "text": [
      "6\n"
     ]
    }
   ],
   "source": [
    "p=[1,2,3]\n",
    "print(sum(p))"
   ]
  },
  {
   "cell_type": "code",
   "execution_count": 8,
   "id": "5fd430f9",
   "metadata": {},
   "outputs": [],
   "source": [
    " totalPerShiftList = [shift for shift in zip(*dict.values())]"
   ]
  },
  {
   "cell_type": "code",
   "execution_count": 9,
   "id": "fa903e8c",
   "metadata": {},
   "outputs": [
    {
     "data": {
      "text/plain": [
       "[(0, 0, 18, 0, 11),\n",
       " (1, 3, 1, 6, 1),\n",
       " (3, 0, 0, 1, 12),\n",
       " (0, 3, 24, 0, 1),\n",
       " (0, 14, 3, 6, 0),\n",
       " (1, 4, 0, 1, 12),\n",
       " (0, 2, 11, 2, 1),\n",
       " (8, 8, 12, 0, 1),\n",
       " (5, 4, 0, 4, 0),\n",
       " (2, 2, 11, 0, 6)]"
      ]
     },
     "execution_count": 9,
     "metadata": {},
     "output_type": "execute_result"
    }
   ],
   "source": [
    " totalPerShiftList "
   ]
  },
  {
   "cell_type": "code",
   "execution_count": 10,
   "id": "51bc5442",
   "metadata": {},
   "outputs": [],
   "source": [
    "PerShiftLis = [shift for shift in zip(dict.values())]"
   ]
  },
  {
   "cell_type": "code",
   "execution_count": 11,
   "id": "11d78924",
   "metadata": {},
   "outputs": [
    {
     "name": "stdout",
     "output_type": "stream",
     "text": [
      "20\n",
      "40\n",
      "80\n",
      "20\n",
      "45\n"
     ]
    }
   ],
   "source": [
    "for i in PerShiftLis:\n",
    "   print(sum(i[0]))\n",
    "#PerShiftLis"
   ]
  },
  {
   "cell_type": "code",
   "execution_count": 13,
   "id": "2bd4f11a",
   "metadata": {},
   "outputs": [],
   "source": [
    "maxShiftsPerWeek=[400,200,200,200,600]"
   ]
  },
  {
   "cell_type": "code",
   "execution_count": 24,
   "id": "1507b134",
   "metadata": {},
   "outputs": [
    {
     "name": "stdout",
     "output_type": "stream",
     "text": [
      "false\n"
     ]
    }
   ],
   "source": [
    "q=[]\n",
    "for i in PerShiftLis:\n",
    "           q.append(sum(i[0]))\n",
    "        \n",
    "#for j in range(len(q) ):          \n",
    "if q==maxShiftsPerWeek:\n",
    "    \n",
    "    \n",
    "    print(\"true\")\n",
    "else:\n",
    "    print(\"false\")"
   ]
  },
  {
   "cell_type": "code",
   "execution_count": 28,
   "id": "ebc3e690",
   "metadata": {},
   "outputs": [
    {
     "data": {
      "text/plain": [
       "2"
      ]
     },
     "execution_count": 28,
     "metadata": {},
     "output_type": "execute_result"
    }
   ],
   "source": [
    "12//5"
   ]
  },
  {
   "cell_type": "code",
   "execution_count": 12,
   "id": "97e009fb",
   "metadata": {},
   "outputs": [],
   "source": [
    "MaxBenefitOfEachGoods=[30,40,20,50,200]\n",
    "\n",
    "def getValue(dict):\n",
    "       p=[]\n",
    "    \n",
    "       PerShiftList = [shift for shift in zip(*dict.values())]\n",
    "        #for i in range(0,len(PerShiftList)):\n",
    "           # a.append(list(PerShiftList[i]))\n",
    "        #for i in range(0,len(a)):\n",
    "       #for i,j in zip(range(len(PerShiftList)),range(len(MaxBenefitOfEachGoods))):\n",
    "       for i in range(0,len(PerShiftList)):\n",
    "            for j in range(0,len(MaxBenefitOfEachGoods)):\n",
    "        \n",
    "        #totalValue=sum(PerShiftList[i]*self.MaxBenefitOfEachGoods[i])\n",
    "               p.append(PerShiftList[i][j]*MaxBenefitOfEachGoods[j])\n",
    "       u=sum(p)\n",
    "       return -u"
   ]
  },
  {
   "cell_type": "code",
   "execution_count": 63,
   "id": "e1b5b659",
   "metadata": {},
   "outputs": [],
   "source": [
    "p,u=getValue(dict)"
   ]
  },
  {
   "cell_type": "code",
   "execution_count": 70,
   "id": "4622514c",
   "metadata": {},
   "outputs": [],
   "source": [
    "k=-u"
   ]
  },
  {
   "cell_type": "code",
   "execution_count": 71,
   "id": "9a870126",
   "metadata": {},
   "outputs": [
    {
     "data": {
      "text/plain": [
       "-13800"
      ]
     },
     "execution_count": 71,
     "metadata": {},
     "output_type": "execute_result"
    }
   ],
   "source": [
    "k"
   ]
  },
  {
   "cell_type": "code",
   "execution_count": 73,
   "id": "30ad7c06",
   "metadata": {},
   "outputs": [
    {
     "data": {
      "text/plain": [
       "-13800"
      ]
     },
     "execution_count": 73,
     "metadata": {},
     "output_type": "execute_result"
    }
   ],
   "source": [
    "-u"
   ]
  },
  {
   "cell_type": "code",
   "execution_count": 30,
   "id": "4a4f827a",
   "metadata": {},
   "outputs": [],
   "source": [
    "totalPerShiftLis = [shift for shift in zip(*dict.values())]"
   ]
  },
  {
   "cell_type": "code",
   "execution_count": 31,
   "id": "492b4f3d",
   "metadata": {},
   "outputs": [],
   "source": [
    "Lis = [shift for shift in zip(dict.values())]"
   ]
  },
  {
   "cell_type": "code",
   "execution_count": 32,
   "id": "26aea715",
   "metadata": {},
   "outputs": [
    {
     "data": {
      "text/plain": [
       "dict_values([[0, 1, 3, 0, 0, 1, 0, 8, 5, 2], [0, 3, 0, 3, 14, 4, 2, 8, 4, 2], [18, 1, 0, 24, 3, 0, 11, 12, 0, 11], [0, 6, 1, 0, 6, 1, 2, 0, 4, 0], [11, 1, 12, 1, 0, 12, 1, 1, 0, 6]])"
      ]
     },
     "execution_count": 32,
     "metadata": {},
     "output_type": "execute_result"
    }
   ],
   "source": [
    "dict.values()"
   ]
  },
  {
   "cell_type": "code",
   "execution_count": 33,
   "id": "a1372fa9",
   "metadata": {
    "scrolled": true
   },
   "outputs": [
    {
     "data": {
      "text/plain": [
       "[(0, 0, 18, 0, 11),\n",
       " (1, 3, 1, 6, 1),\n",
       " (3, 0, 0, 1, 12),\n",
       " (0, 3, 24, 0, 1),\n",
       " (0, 14, 3, 6, 0),\n",
       " (1, 4, 0, 1, 12),\n",
       " (0, 2, 11, 2, 1),\n",
       " (8, 8, 12, 0, 1),\n",
       " (5, 4, 0, 4, 0),\n",
       " (2, 2, 11, 0, 6)]"
      ]
     },
     "execution_count": 33,
     "metadata": {},
     "output_type": "execute_result"
    }
   ],
   "source": [
    "totalPerShiftLis"
   ]
  },
  {
   "cell_type": "code",
   "execution_count": 34,
   "id": "73a7ca6d",
   "metadata": {},
   "outputs": [
    {
     "data": {
      "text/plain": [
       "[(0, 0, 18, 0, 11),\n",
       " (1, 3, 1, 6, 1),\n",
       " (3, 0, 0, 1, 12),\n",
       " (0, 3, 24, 0, 1),\n",
       " (0, 14, 3, 6, 0),\n",
       " (1, 4, 0, 1, 12),\n",
       " (0, 2, 11, 2, 1),\n",
       " (8, 8, 12, 0, 1),\n",
       " (5, 4, 0, 4, 0),\n",
       " (2, 2, 11, 0, 6)]"
      ]
     },
     "execution_count": 34,
     "metadata": {},
     "output_type": "execute_result"
    }
   ],
   "source": [
    "totalPerShiftLis"
   ]
  },
  {
   "cell_type": "markdown",
   "id": "b6ee63c2",
   "metadata": {},
   "source": [
    "# neshaneh"
   ]
  },
  {
   "cell_type": "code",
   "execution_count": 79,
   "id": "b6fb9a31",
   "metadata": {},
   "outputs": [],
   "source": [
    "f=[]  \n",
    "maxShiftsPerWeek=[20,40,80,20,45]\n",
    "        #for key in enumerate(nurseShiftsDict): \n",
    "for i in range (0,len(maxShiftsPerWeek)):\n",
    "   \n",
    "    for j in range(0,10):\n",
    "       # f=[]      \n",
    "#for j in range(len(totalPerShiftLis)):\n",
    "    #for i in range (0,len(maxShiftsPerWeek)): \n",
    "    \n",
    "    \n",
    "        f.append(totalPerShiftLis[j][i])"
   ]
  },
  {
   "cell_type": "code",
   "execution_count": 105,
   "id": "27aadde8",
   "metadata": {},
   "outputs": [],
   "source": [
    "s=[]\n",
    "for i in range(0,len(f),10):\n",
    "    \n",
    "    s.append(f[i:i+10])\n",
    "    #i=i+10\n",
    "    \n"
   ]
  },
  {
   "cell_type": "code",
   "execution_count": 106,
   "id": "3cfceb9f",
   "metadata": {},
   "outputs": [
    {
     "data": {
      "text/plain": [
       "[[0, 1, 3, 0, 0, 1, 0, 8, 5, 2],\n",
       " [0, 3, 0, 3, 14, 4, 2, 8, 4, 2],\n",
       " [18, 1, 0, 24, 3, 0, 11, 12, 0, 11],\n",
       " [0, 6, 1, 0, 6, 1, 2, 0, 4, 0],\n",
       " [11, 1, 12, 1, 0, 12, 1, 1, 0, 6]]"
      ]
     },
     "execution_count": 106,
     "metadata": {},
     "output_type": "execute_result"
    }
   ],
   "source": [
    "s"
   ]
  },
  {
   "cell_type": "code",
   "execution_count": 107,
   "id": "394a8bc2",
   "metadata": {},
   "outputs": [
    {
     "data": {
      "text/plain": [
       "[0, 1, 3, 0, 0, 1, 0, 8, 5, 2]"
      ]
     },
     "execution_count": 107,
     "metadata": {},
     "output_type": "execute_result"
    }
   ],
   "source": [
    "s[0]"
   ]
  },
  {
   "cell_type": "code",
   "execution_count": 113,
   "id": "7ca02e81",
   "metadata": {},
   "outputs": [
    {
     "ename": "RuntimeError",
     "evalue": "dictionary changed size during iteration",
     "output_type": "error",
     "traceback": [
      "\u001b[1;31m---------------------------------------------------------------------------\u001b[0m",
      "\u001b[1;31mRuntimeError\u001b[0m                              Traceback (most recent call last)",
      "\u001b[1;32m<ipython-input-113-5122246f27b9>\u001b[0m in \u001b[0;36m<module>\u001b[1;34m\u001b[0m\n\u001b[1;32m----> 1\u001b[1;33m \u001b[1;32mfor\u001b[0m \u001b[0mkey\u001b[0m\u001b[1;33m,\u001b[0m\u001b[0mvalue\u001b[0m \u001b[1;32min\u001b[0m \u001b[0menumerate\u001b[0m\u001b[1;33m(\u001b[0m\u001b[0mdict\u001b[0m\u001b[1;33m)\u001b[0m\u001b[1;33m:\u001b[0m\u001b[1;33m\u001b[0m\u001b[1;33m\u001b[0m\u001b[0m\n\u001b[0m\u001b[0;32m      2\u001b[0m     \u001b[1;32mfor\u001b[0m \u001b[0mi\u001b[0m \u001b[1;32min\u001b[0m \u001b[0mrange\u001b[0m\u001b[1;33m(\u001b[0m\u001b[0mlen\u001b[0m\u001b[1;33m(\u001b[0m\u001b[0ms\u001b[0m\u001b[1;33m)\u001b[0m\u001b[1;33m)\u001b[0m\u001b[1;33m:\u001b[0m\u001b[1;33m\u001b[0m\u001b[1;33m\u001b[0m\u001b[0m\n\u001b[0;32m      3\u001b[0m \u001b[1;33m\u001b[0m\u001b[0m\n\u001b[0;32m      4\u001b[0m                 \u001b[0mdict\u001b[0m\u001b[1;33m[\u001b[0m\u001b[0mkey\u001b[0m\u001b[1;33m]\u001b[0m\u001b[1;33m=\u001b[0m\u001b[0ms\u001b[0m\u001b[1;33m[\u001b[0m\u001b[0mi\u001b[0m\u001b[1;33m]\u001b[0m\u001b[1;33m\u001b[0m\u001b[1;33m\u001b[0m\u001b[0m\n",
      "\u001b[1;31mRuntimeError\u001b[0m: dictionary changed size during iteration"
     ]
    }
   ],
   "source": [
    "for key,value in enumerate(dict): \n",
    "    for i in range(len(s)):  \n",
    "                \n",
    "                dict[key]=s[i]"
   ]
  },
  {
   "cell_type": "code",
   "execution_count": 80,
   "id": "e84c2283",
   "metadata": {},
   "outputs": [
    {
     "data": {
      "text/plain": [
       "[0,\n",
       " 1,\n",
       " 3,\n",
       " 0,\n",
       " 0,\n",
       " 1,\n",
       " 0,\n",
       " 8,\n",
       " 5,\n",
       " 2,\n",
       " 0,\n",
       " 3,\n",
       " 0,\n",
       " 3,\n",
       " 14,\n",
       " 4,\n",
       " 2,\n",
       " 8,\n",
       " 4,\n",
       " 2,\n",
       " 18,\n",
       " 1,\n",
       " 0,\n",
       " 24,\n",
       " 3,\n",
       " 0,\n",
       " 11,\n",
       " 12,\n",
       " 0,\n",
       " 11,\n",
       " 0,\n",
       " 6,\n",
       " 1,\n",
       " 0,\n",
       " 6,\n",
       " 1,\n",
       " 2,\n",
       " 0,\n",
       " 4,\n",
       " 0,\n",
       " 11,\n",
       " 1,\n",
       " 12,\n",
       " 1,\n",
       " 0,\n",
       " 12,\n",
       " 1,\n",
       " 1,\n",
       " 0,\n",
       " 6]"
      ]
     },
     "execution_count": 80,
     "metadata": {},
     "output_type": "execute_result"
    }
   ],
   "source": [
    "f"
   ]
  },
  {
   "cell_type": "code",
   "execution_count": 67,
   "id": "29305075",
   "metadata": {},
   "outputs": [
    {
     "name": "stdout",
     "output_type": "stream",
     "text": [
      "2\n",
      "2\n",
      "11\n",
      "0\n",
      "6\n"
     ]
    },
    {
     "ename": "KeyError",
     "evalue": "5",
     "output_type": "error",
     "traceback": [
      "\u001b[1;31m---------------------------------------------------------------------------\u001b[0m",
      "\u001b[1;31mKeyError\u001b[0m                                  Traceback (most recent call last)",
      "\u001b[1;32m<ipython-input-67-1b2382876ed2>\u001b[0m in \u001b[0;36m<module>\u001b[1;34m\u001b[0m\n\u001b[0;32m      1\u001b[0m \u001b[1;32mfor\u001b[0m \u001b[0mi\u001b[0m\u001b[1;33m,\u001b[0m\u001b[0mc\u001b[0m \u001b[1;32min\u001b[0m \u001b[0menumerate\u001b[0m\u001b[1;33m(\u001b[0m\u001b[0mdict\u001b[0m\u001b[1;33m)\u001b[0m\u001b[1;33m:\u001b[0m\u001b[1;33m\u001b[0m\u001b[1;33m\u001b[0m\u001b[0m\n\u001b[1;32m----> 2\u001b[1;33m     \u001b[0mprint\u001b[0m\u001b[1;33m(\u001b[0m\u001b[0mdict\u001b[0m\u001b[1;33m[\u001b[0m\u001b[0mi\u001b[0m\u001b[1;33m]\u001b[0m\u001b[1;33m)\u001b[0m\u001b[1;33m\u001b[0m\u001b[1;33m\u001b[0m\u001b[0m\n\u001b[0m",
      "\u001b[1;31mKeyError\u001b[0m: 5"
     ]
    }
   ],
   "source": [
    "for i,c in enumerate(dict): \n",
    "    print(dict[i])"
   ]
  },
  {
   "cell_type": "code",
   "execution_count": null,
   "id": "f0517a81",
   "metadata": {},
   "outputs": [],
   "source": []
  },
  {
   "cell_type": "code",
   "execution_count": 68,
   "id": "b498445e",
   "metadata": {},
   "outputs": [
    {
     "ename": "IndexError",
     "evalue": "tuple index out of range",
     "output_type": "error",
     "traceback": [
      "\u001b[1;31m---------------------------------------------------------------------------\u001b[0m",
      "\u001b[1;31mIndexError\u001b[0m                                Traceback (most recent call last)",
      "\u001b[1;32m<ipython-input-68-c5ec76821b8d>\u001b[0m in \u001b[0;36m<module>\u001b[1;34m\u001b[0m\n\u001b[0;32m      2\u001b[0m     \u001b[1;32mfor\u001b[0m \u001b[0mj\u001b[0m \u001b[1;32min\u001b[0m \u001b[0mrange\u001b[0m\u001b[1;33m(\u001b[0m\u001b[0mlen\u001b[0m\u001b[1;33m(\u001b[0m\u001b[0mtotalPerShiftLis\u001b[0m\u001b[1;33m)\u001b[0m\u001b[1;33m)\u001b[0m\u001b[1;33m:\u001b[0m\u001b[1;33m\u001b[0m\u001b[1;33m\u001b[0m\u001b[0m\n\u001b[0;32m      3\u001b[0m \u001b[1;33m\u001b[0m\u001b[0m\n\u001b[1;32m----> 4\u001b[1;33m                   \u001b[0mdict\u001b[0m\u001b[1;33m[\u001b[0m\u001b[0mc\u001b[0m\u001b[1;33m]\u001b[0m\u001b[1;33m=\u001b[0m\u001b[0mtotalPerShiftLis\u001b[0m\u001b[1;33m[\u001b[0m\u001b[0mj\u001b[0m\u001b[1;33m]\u001b[0m\u001b[1;33m[\u001b[0m\u001b[0mi\u001b[0m\u001b[1;33m]\u001b[0m\u001b[1;33m\u001b[0m\u001b[1;33m\u001b[0m\u001b[0m\n\u001b[0m",
      "\u001b[1;31mIndexError\u001b[0m: tuple index out of range"
     ]
    }
   ],
   "source": [
    "for i,c in enumerate(dict): \n",
    "    for j in range(len(totalPerShiftLis)):\n",
    "        \n",
    "                  dict[c]=totalPerShiftLis[j][i]"
   ]
  },
  {
   "cell_type": "code",
   "execution_count": 65,
   "id": "0a951362",
   "metadata": {},
   "outputs": [
    {
     "data": {
      "text/plain": [
       "{'A': [0, 1, 3, 0, 0, 1, 0, 8, 5, 2],\n",
       " 'B': [0, 3, 0, 3, 14, 4, 2, 8, 4, 2],\n",
       " 'C': [18, 1, 0, 24, 3, 0, 11, 12, 0, 11],\n",
       " 'D': [0, 6, 1, 0, 6, 1, 2, 0, 4, 0],\n",
       " 'E': [11, 1, 12, 1, 0, 12, 1, 1, 0, 6],\n",
       " 0: 2,\n",
       " 1: 2,\n",
       " 2: 11,\n",
       " 3: 0,\n",
       " 4: 6}"
      ]
     },
     "execution_count": 65,
     "metadata": {},
     "output_type": "execute_result"
    }
   ],
   "source": [
    "dict"
   ]
  },
  {
   "cell_type": "code",
   "execution_count": 29,
   "id": "6fe8870a",
   "metadata": {},
   "outputs": [],
   "source": [
    "totalPerShiftList = [sum(shift) for shift in zip(*dict.values())]"
   ]
  },
  {
   "cell_type": "code",
   "execution_count": 30,
   "id": "6f3b06e0",
   "metadata": {},
   "outputs": [
    {
     "data": {
      "text/plain": [
       "[29, 12, 16, 28, 23, 18, 16, 29, 13, 21]"
      ]
     },
     "execution_count": 30,
     "metadata": {},
     "output_type": "execute_result"
    }
   ],
   "source": [
    "totalPerShiftList"
   ]
  },
  {
   "cell_type": "code",
   "execution_count": 41,
   "id": "fa4798d6",
   "metadata": {},
   "outputs": [],
   "source": [
    "shiftMin = [50,50,50,50,50]\n",
    " \n",
    "shiftMax=[80,80,80,80,80,8]"
   ]
  },
  {
   "cell_type": "code",
   "execution_count": 42,
   "id": "43139437",
   "metadata": {},
   "outputs": [
    {
     "ename": "IndexError",
     "evalue": "list index out of range",
     "output_type": "error",
     "traceback": [
      "\u001b[1;31m---------------------------------------------------------------------------\u001b[0m",
      "\u001b[1;31mIndexError\u001b[0m                                Traceback (most recent call last)",
      "\u001b[1;32m<ipython-input-42-8fe538ae8655>\u001b[0m in \u001b[0;36m<module>\u001b[1;34m\u001b[0m\n\u001b[0;32m      4\u001b[0m             \u001b[0mdailyShiftIndex\u001b[0m \u001b[1;33m=\u001b[0m \u001b[0mshiftIndex\u001b[0m\u001b[1;33m\u001b[0m\u001b[1;33m\u001b[0m\u001b[0m\n\u001b[0;32m      5\u001b[0m             \u001b[1;31m#dailyShiftIndex = shiftIndex # -> 0, 1, or 2 for the 3 shifts per day\u001b[0m\u001b[1;33m\u001b[0m\u001b[1;33m\u001b[0m\u001b[1;33m\u001b[0m\u001b[0m\n\u001b[1;32m----> 6\u001b[1;33m             \u001b[1;32mif\u001b[0m \u001b[1;33m(\u001b[0m\u001b[0mnumOfNurses\u001b[0m \u001b[1;33m>\u001b[0m \u001b[0mshiftMax\u001b[0m\u001b[1;33m[\u001b[0m\u001b[0mdailyShiftIndex\u001b[0m\u001b[1;33m]\u001b[0m\u001b[1;33m)\u001b[0m\u001b[1;33m:\u001b[0m\u001b[1;33m\u001b[0m\u001b[1;33m\u001b[0m\u001b[0m\n\u001b[0m\u001b[0;32m      7\u001b[0m                 \u001b[0mviolations\u001b[0m \u001b[1;33m+=\u001b[0m \u001b[0mnumOfNurses\u001b[0m \u001b[1;33m-\u001b[0m\u001b[0mshiftMax\u001b[0m\u001b[1;33m[\u001b[0m\u001b[0mdailyShiftIndex\u001b[0m\u001b[1;33m]\u001b[0m\u001b[1;33m\u001b[0m\u001b[1;33m\u001b[0m\u001b[0m\n\u001b[0;32m      8\u001b[0m             \u001b[1;32melif\u001b[0m \u001b[1;33m(\u001b[0m\u001b[0mnumOfNurses\u001b[0m \u001b[1;33m<\u001b[0m \u001b[0mshiftMin\u001b[0m\u001b[1;33m[\u001b[0m\u001b[0mdailyShiftIndex\u001b[0m\u001b[1;33m]\u001b[0m\u001b[1;33m)\u001b[0m\u001b[1;33m:\u001b[0m\u001b[1;33m\u001b[0m\u001b[1;33m\u001b[0m\u001b[0m\n",
      "\u001b[1;31mIndexError\u001b[0m: list index out of range"
     ]
    }
   ],
   "source": [
    "violations=0\n",
    "for shiftIndex, numOfNurses in enumerate(totalPerShiftList):\n",
    "            #dailyShiftIndex = shiftIndex % self.shiftPerDay\n",
    "            dailyShiftIndex = shiftIndex\n",
    "            #dailyShiftIndex = shiftIndex # -> 0, 1, or 2 for the 3 shifts per day\n",
    "            if (numOfNurses > shiftMax[dailyShiftIndex]):\n",
    "                violations += numOfNurses -shiftMax[dailyShiftIndex]\n",
    "            elif (numOfNurses < shiftMin[dailyShiftIndex]):\n",
    "                violations += shiftMin[dailyShiftIndex] - numOfNurses"
   ]
  },
  {
   "cell_type": "code",
   "execution_count": 57,
   "id": "c916c0da",
   "metadata": {},
   "outputs": [
    {
     "name": "stdout",
     "output_type": "stream",
     "text": [
      "0 0\n",
      "1 0\n",
      "3 0\n",
      "0 0\n",
      "0 0\n",
      "1 0\n",
      "0 0\n",
      "8 0\n",
      "5 0\n",
      "2 0\n",
      "0 1\n",
      "3 1\n",
      "0 1\n",
      "3 1\n",
      "14 1\n",
      "4 1\n",
      "2 1\n",
      "8 1\n",
      "4 1\n",
      "2 1\n",
      "18 2\n",
      "1 2\n",
      "0 2\n",
      "24 2\n",
      "3 2\n",
      "0 2\n",
      "11 2\n",
      "12 2\n",
      "0 2\n",
      "11 2\n",
      "0 3\n",
      "6 3\n",
      "1 3\n",
      "0 3\n",
      "6 3\n",
      "1 3\n",
      "2 3\n",
      "0 3\n",
      "4 3\n",
      "0 3\n",
      "11 4\n",
      "1 4\n",
      "12 4\n",
      "1 4\n",
      "0 4\n",
      "12 4\n",
      "1 4\n",
      "1 4\n",
      "0 4\n",
      "6 4\n"
     ]
    }
   ],
   "source": [
    "maxShiftsPerWeek=[20,40,80,20,45]\n",
    "for i in range(0,len(maxShiftsPerWeek)): \n",
    "    for j in range(len(totalPerShiftLis)):\n",
    "        \n",
    "        print(totalPerShiftLis[j][i],i)\n",
    "        "
   ]
  },
  {
   "cell_type": "code",
   "execution_count": 35,
   "id": "71c0dd98",
   "metadata": {},
   "outputs": [],
   "source": [
    "totalPerShiftList = [sum(shift) for shift in zip(*dict.values())]"
   ]
  },
  {
   "cell_type": "code",
   "execution_count": 36,
   "id": "7394b4ee",
   "metadata": {},
   "outputs": [
    {
     "data": {
      "text/plain": [
       "[29, 12, 16, 28, 23, 18, 16, 29, 13, 21]"
      ]
     },
     "execution_count": 36,
     "metadata": {},
     "output_type": "execute_result"
    }
   ],
   "source": [
    "totalPerShiftList"
   ]
  },
  {
   "cell_type": "code",
   "execution_count": 37,
   "id": "6ab89989",
   "metadata": {},
   "outputs": [
    {
     "data": {
      "text/plain": [
       "[(0, 0, 18, 0, 11),\n",
       " (1, 3, 1, 6, 1),\n",
       " (3, 0, 0, 1, 12),\n",
       " (0, 3, 24, 0, 1),\n",
       " (0, 14, 3, 6, 0),\n",
       " (1, 4, 0, 1, 12),\n",
       " (0, 2, 11, 2, 1),\n",
       " (8, 8, 12, 0, 1),\n",
       " (5, 4, 0, 4, 0),\n",
       " (2, 2, 11, 0, 6)]"
      ]
     },
     "execution_count": 37,
     "metadata": {},
     "output_type": "execute_result"
    }
   ],
   "source": [
    "totalPerShiftLis"
   ]
  },
  {
   "cell_type": "code",
   "execution_count": 38,
   "id": "39cde358",
   "metadata": {},
   "outputs": [],
   "source": [
    "total = [shift for shift in dict.values()]"
   ]
  },
  {
   "cell_type": "code",
   "execution_count": 39,
   "id": "c7025eca",
   "metadata": {},
   "outputs": [
    {
     "data": {
      "text/plain": [
       "[[0, 1, 3, 0, 0, 1, 0, 8, 5, 2],\n",
       " [0, 3, 0, 3, 14, 4, 2, 8, 4, 2],\n",
       " [18, 1, 0, 24, 3, 0, 11, 12, 0, 11],\n",
       " [0, 6, 1, 0, 6, 1, 2, 0, 4, 0],\n",
       " [11, 1, 12, 1, 0, 12, 1, 1, 0, 6]]"
      ]
     },
     "execution_count": 39,
     "metadata": {},
     "output_type": "execute_result"
    }
   ],
   "source": [
    "total"
   ]
  },
  {
   "cell_type": "code",
   "execution_count": null,
   "id": "e2ca57a9",
   "metadata": {},
   "outputs": [],
   "source": [
    "G=[10,14,36,56,70]"
   ]
  },
  {
   "cell_type": "code",
   "execution_count": 17,
   "id": "763c0238",
   "metadata": {},
   "outputs": [
    {
     "data": {
      "text/plain": [
       "3"
      ]
     },
     "execution_count": 17,
     "metadata": {},
     "output_type": "execute_result"
    }
   ],
   "source": [
    "total[0][2]"
   ]
  },
  {
   "cell_type": "code",
   "execution_count": 16,
   "id": "7c18fc8c",
   "metadata": {},
   "outputs": [
    {
     "data": {
      "text/plain": [
       "3"
      ]
     },
     "execution_count": 16,
     "metadata": {},
     "output_type": "execute_result"
    }
   ],
   "source": [
    "for i in range len(total):\n",
    "    for j in range(total[i]):\n",
    "        total[i][j]<=G[i]\n",
    "total[0][2]"
   ]
  },
  {
   "cell_type": "code",
   "execution_count": 36,
   "id": "4a18c095",
   "metadata": {},
   "outputs": [],
   "source": [
    " # list of nurses:\n",
    "        #self.nurses = ['A', 'B', 'C','D','E','F','G']\n",
    "        \n",
    "        #self.nurses = nurses\n",
    "#ترجیح تعداد تولید از هر محصول در هر هفته#        \n",
    "        # nurses' respective shift preferences - morning, evening, night:\n",
    "        #self.shiftPreference = [[10],[10],[ 10]]\n",
    "\n",
    "        # min and max number of nurses allowed for each shift - morning, evening, night:\n",
    "        #self.shiftMin = [5, 5, 5,5,5,5,5]\n",
    "       \n",
    "        #self.shiftMax = [50,50,50,50,50,50,50]\n",
    "        \n",
    "     #ماکزیمم تولید در هر روز از هفته        \n",
    "        # max shifts per week allowed for each nurse\n",
    "        #self.maxShiftsPerWeek =[25,40,30,30,40,8,10]\n",
    "       \n",
    "       #self.maxShiftsPerWeek = [50,50,50]\n",
    "        \n",
    "        #self.nurses=nurses\n",
    "        # number of weeks we create a schedule for:\n",
    "        #self.weeks = 2\n",
    "        \n",
    "        # useful values:\n",
    "        #self.shiftPerDay = len(self.shiftMin)\n",
    "        #self.shiftPerDay = 1\n",
    "       \n",
    "        #self.shiftsPerWeek = 5 * self.shiftPerDay\n",
    "        #self.shiftsPerWeek = 5"
   ]
  },
  {
   "cell_type": "code",
   "execution_count": 37,
   "id": "46a561a9",
   "metadata": {},
   "outputs": [],
   "source": [
    "shiftsPerWeek = 5\n",
    "weeks = 2"
   ]
  },
  {
   "cell_type": "code",
   "execution_count": 38,
   "id": "634979e1",
   "metadata": {},
   "outputs": [],
   "source": [
    "weeklyShiftsList=[]\n",
    "for nurseShifts in dict.values():  # all shifts of a single nurse\n",
    "            # iterate over the shifts of each weeks:\n",
    "            for i in range(0, weeks * shiftsPerWeek,weeks * shiftsPerWeek):\n",
    "                # count all the '1's over the week:\n",
    "                weeklyShifts = sum(nurseShifts)\n",
    "                weeklyShiftsList.append(weeklyShifts)"
   ]
  },
  {
   "cell_type": "code",
   "execution_count": 48,
   "id": "fbfdef9e",
   "metadata": {},
   "outputs": [
    {
     "data": {
      "text/plain": [
       "[20, 40, 80, 20, 45]"
      ]
     },
     "execution_count": 48,
     "metadata": {},
     "output_type": "execute_result"
    }
   ],
   "source": [
    " weeklyShiftsList"
   ]
  },
  {
   "cell_type": "code",
   "execution_count": 47,
   "id": "c8d2d103",
   "metadata": {},
   "outputs": [],
   "source": [
    "maxShiftsPerWeek=[20,40,80,20,45]\n",
    "violations=0\n",
    "for nursIndex, numOfshifts in enumerate(weeklyShiftsList):    \n",
    "             #for j in range(0,len(self.maxShiftsPerWeek)-1):\n",
    "                  if  numOfshifts < maxShiftsPerWeek[nursIndex]:\n",
    "                     #weeklyShifts=weeklyShifts+1\n",
    "                     #numOfshifts=numOfshifts+(self.maxShiftsPerWeek[nursIndex]-numOfshifts)\n",
    "                     violations +=maxShiftsPerWeek[nursIndex]-numOfshifts\n",
    "                  else :\n",
    "                     #numOfshifts=numOfshifts+(-self.maxShiftsPerWeek[nursIndex]+numOfshifts)\n",
    "                     violations +=-maxShiftsPerWeek[nursIndex]+numOfshifts\n",
    "                  "
   ]
  },
  {
   "cell_type": "code",
   "execution_count": 39,
   "id": "eae42005",
   "metadata": {},
   "outputs": [
    {
     "name": "stdout",
     "output_type": "stream",
     "text": [
      "45\n"
     ]
    }
   ],
   "source": [
    "print(weeklyShifts)"
   ]
  },
  {
   "cell_type": "code",
   "execution_count": 40,
   "id": "30762ec3",
   "metadata": {},
   "outputs": [
    {
     "data": {
      "text/plain": [
       "[20, 40, 80, 20, 45]"
      ]
     },
     "execution_count": 40,
     "metadata": {},
     "output_type": "execute_result"
    }
   ],
   "source": [
    "weeklyShiftsList"
   ]
  },
  {
   "cell_type": "code",
   "execution_count": 41,
   "id": "3375d37c",
   "metadata": {},
   "outputs": [
    {
     "data": {
      "text/plain": [
       "(10, [29, 12, 16, 28, 23, 18, 16, 29, 13, 21])"
      ]
     },
     "execution_count": 41,
     "metadata": {},
     "output_type": "execute_result"
    }
   ],
   "source": [
    "len(totalPerShiftList),totalPerShiftList"
   ]
  },
  {
   "cell_type": "code",
   "execution_count": 42,
   "id": "e7d47786",
   "metadata": {},
   "outputs": [],
   "source": [
    "hardConstraintPenalty = 60\n",
    "\n",
    "        # list of nurses:\n",
    "nurses = ['A', 'B', 'C','D','E','F']\n",
    "#ترجیح تعداد تولید از هر محصول در هر هفته#        \n",
    "        # nurses' respective shift preferences - morning, evening, night:\n",
    "        #self.shiftPreference = [[10],[10],[ 10]]\n",
    "\n",
    "        # min and max number of nurses allowed for each shift - morning, evening, night:\n",
    "shiftMin = [5, 5, 5,5,5,5]\n",
    "shiftMax = [50,6, 50,50,50,50]\n",
    "     #ماکزیمم تولید در هر روز از هفته        \n",
    "        # max shifts per week allowed for each nurse\n",
    "maxShiftsPerWeek =[25,40,80,60,40,80]\n",
    "       #self.maxShiftsPerWeek = [50,50,50]\n",
    "        \n",
    "\n",
    "        # number of weeks we create a schedule for:\n",
    "weeks = 1\n",
    "\n",
    "        # useful values:\n",
    "        #self.shiftPerDay = len(self.shiftMin)\n",
    "shiftPerDay = 1\n",
    "        #self.shiftsPerWeek = 5 * self.shiftPerDay\n",
    "shiftsPerWeek = 5"
   ]
  },
  {
   "cell_type": "code",
   "execution_count": 39,
   "id": "d0a07785",
   "metadata": {},
   "outputs": [],
   "source": [
    "weeklyShiftsList=[]\n",
    "for nurseShifts in dict.values():  # all shifts of a single nurse\n",
    "            # iterate over the shifts of each weeks:\n",
    "            for i in range(0, weeks * shiftsPerWeek,weeks * shiftsPerWeek):\n",
    "                # count all the '1's over the week:\n",
    "                weeklyShifts = sum(nurseShifts)\n",
    "                weeklyShiftsList.append(weeklyShifts)"
   ]
  },
  {
   "cell_type": "code",
   "execution_count": 40,
   "id": "216f93c2",
   "metadata": {},
   "outputs": [
    {
     "data": {
      "text/plain": [
       "[20, 40, 80, 20, 45]"
      ]
     },
     "execution_count": 40,
     "metadata": {},
     "output_type": "execute_result"
    }
   ],
   "source": [
    "weeklyShiftsList"
   ]
  },
  {
   "cell_type": "code",
   "execution_count": 109,
   "id": "f3532d15",
   "metadata": {},
   "outputs": [],
   "source": [
    "shiftPreference = [20,40,10]"
   ]
  },
  {
   "cell_type": "code",
   "execution_count": 115,
   "id": "aacb235d",
   "metadata": {},
   "outputs": [],
   "source": [
    "shifts = dict[nurses[nurseIndex]]"
   ]
  },
  {
   "cell_type": "code",
   "execution_count": 116,
   "id": "bab904e1",
   "metadata": {},
   "outputs": [
    {
     "data": {
      "text/plain": [
       "[0, 1, 3, 0, 0, 1, 0, 8, 5, 2]"
      ]
     },
     "execution_count": 116,
     "metadata": {},
     "output_type": "execute_result"
    }
   ],
   "source": [
    "shifts"
   ]
  },
  {
   "cell_type": "code",
   "execution_count": 114,
   "id": "d21fdf30",
   "metadata": {},
   "outputs": [
    {
     "ename": "TypeError",
     "evalue": "'int' object is not iterable",
     "output_type": "error",
     "traceback": [
      "\u001b[1;31m---------------------------------------------------------------------------\u001b[0m",
      "\u001b[1;31mTypeError\u001b[0m                                 Traceback (most recent call last)",
      "\u001b[1;32m<ipython-input-114-810d6c757b6b>\u001b[0m in \u001b[0;36m<module>\u001b[1;34m\u001b[0m\n\u001b[0;32m      4\u001b[0m             \u001b[1;31m# iterate over the shifts and compare to preferences:\u001b[0m\u001b[1;33m\u001b[0m\u001b[1;33m\u001b[0m\u001b[1;33m\u001b[0m\u001b[0m\n\u001b[0;32m      5\u001b[0m             \u001b[0mshifts\u001b[0m \u001b[1;33m=\u001b[0m \u001b[0mdict\u001b[0m\u001b[1;33m[\u001b[0m\u001b[0mnurses\u001b[0m\u001b[1;33m[\u001b[0m\u001b[0mnurseIndex\u001b[0m\u001b[1;33m]\u001b[0m\u001b[1;33m]\u001b[0m\u001b[1;33m\u001b[0m\u001b[1;33m\u001b[0m\u001b[0m\n\u001b[1;32m----> 6\u001b[1;33m             \u001b[1;32mfor\u001b[0m \u001b[0mpref\u001b[0m\u001b[1;33m,\u001b[0m \u001b[0mshift\u001b[0m \u001b[1;32min\u001b[0m \u001b[0mzip\u001b[0m\u001b[1;33m(\u001b[0m\u001b[0mpreference\u001b[0m\u001b[1;33m,\u001b[0m \u001b[0mshifts\u001b[0m\u001b[1;33m)\u001b[0m\u001b[1;33m:\u001b[0m\u001b[1;33m\u001b[0m\u001b[1;33m\u001b[0m\u001b[0m\n\u001b[0m\u001b[0;32m      7\u001b[0m                 \u001b[1;32mif\u001b[0m \u001b[0mpref\u001b[0m \u001b[1;33m==\u001b[0m \u001b[1;36m0\u001b[0m \u001b[1;32mand\u001b[0m \u001b[0mshift\u001b[0m \u001b[1;33m==\u001b[0m \u001b[1;36m1\u001b[0m\u001b[1;33m:\u001b[0m\u001b[1;33m\u001b[0m\u001b[1;33m\u001b[0m\u001b[0m\n\u001b[0;32m      8\u001b[0m                     \u001b[0mviolations\u001b[0m \u001b[1;33m+=\u001b[0m \u001b[1;36m1\u001b[0m\u001b[1;33m\u001b[0m\u001b[1;33m\u001b[0m\u001b[0m\n",
      "\u001b[1;31mTypeError\u001b[0m: 'int' object is not iterable"
     ]
    }
   ],
   "source": [
    "for nurseIndex, shiftPreference in enumerate(shiftPreference):\n",
    "            # duplicate the shift-preference over the days of the period\n",
    "            preference = shiftPreference * (shiftsPerWeek //shiftPerDay)\n",
    "            # iterate over the shifts and compare to preferences:\n",
    "            shifts = dict[nurses[nurseIndex]]\n",
    "            for pref, shift in zip(preference, shifts):\n",
    "                if pref == 0 and shift == 1:\n",
    "                    violations += 1\n",
    "\n",
    "           \n",
    "    \n",
    "     #def TimeViolation():'''"
   ]
  },
  {
   "cell_type": "code",
   "execution_count": null,
   "id": "a279ad4c",
   "metadata": {},
   "outputs": [],
   "source": []
  },
  {
   "cell_type": "code",
   "execution_count": 4,
   "id": "5a16c87a",
   "metadata": {},
   "outputs": [],
   "source": [
    "a=[]\n",
    "for i in range(0,len(totalPerShiftList)):\n",
    "    a.append(list(totalPerShiftList[i]))\n",
    "    "
   ]
  },
  {
   "cell_type": "code",
   "execution_count": null,
   "id": "3bb4f30d",
   "metadata": {},
   "outputs": [],
   "source": [
    "#totalPerShiftList = [sum(shift) for shift in zip(*nurseShiftsDict.values())]"
   ]
  },
  {
   "cell_type": "code",
   "execution_count": 755,
   "id": "b89c5123",
   "metadata": {},
   "outputs": [
    {
     "data": {
      "text/plain": [
       "[[0, 0, 18, 0, 11],\n",
       " [1, 3, 1, 6, 1],\n",
       " [3, 0, 0, 1, 12],\n",
       " [0, 3, 24, 0, 1],\n",
       " [0, 14, 3, 6, 0],\n",
       " [1, 4, 0, 1, 12],\n",
       " [0, 2, 11, 2, 1],\n",
       " [8, 8, 12, 0, 1],\n",
       " [5, 4, 0, 4, 0],\n",
       " [2, 2, 11, 0, 6]]"
      ]
     },
     "execution_count": 755,
     "metadata": {},
     "output_type": "execute_result"
    }
   ],
   "source": [
    "a"
   ]
  },
  {
   "cell_type": "code",
   "execution_count": 756,
   "id": "2c0e81ad",
   "metadata": {},
   "outputs": [],
   "source": [
    "maxShiftsPerWeek=[20,40,80,20,45]"
   ]
  },
  {
   "cell_type": "code",
   "execution_count": 757,
   "id": "9920e88c",
   "metadata": {},
   "outputs": [],
   "source": [
    "MaxBenefitOfEachGoods=[10,20,30,10,50]"
   ]
  },
  {
   "cell_type": "code",
   "execution_count": 758,
   "id": "44ec5005",
   "metadata": {},
   "outputs": [],
   "source": [
    "g=[]\n",
    "for num1, num2 in zip(maxShiftsPerWeek,MaxBenefitOfEachGoods):\n",
    "            \n",
    "            g.append(num1*num2)"
   ]
  },
  {
   "cell_type": "code",
   "execution_count": 759,
   "id": "bcf39c90",
   "metadata": {},
   "outputs": [
    {
     "data": {
      "text/plain": [
       "[200, 800, 2400, 200, 2250]"
      ]
     },
     "execution_count": 759,
     "metadata": {},
     "output_type": "execute_result"
    }
   ],
   "source": [
    "g"
   ]
  },
  {
   "cell_type": "code",
   "execution_count": 760,
   "id": "d1b41196",
   "metadata": {},
   "outputs": [],
   "source": [
    "sorted=np.array(g)[::-1]"
   ]
  },
  {
   "cell_type": "code",
   "execution_count": 761,
   "id": "d757b28d",
   "metadata": {},
   "outputs": [
    {
     "data": {
      "text/plain": [
       "array([2250,  200, 2400,  800,  200])"
      ]
     },
     "execution_count": 761,
     "metadata": {},
     "output_type": "execute_result"
    }
   ],
   "source": [
    "sorted"
   ]
  },
  {
   "cell_type": "code",
   "execution_count": 762,
   "id": "a14ef9ee",
   "metadata": {},
   "outputs": [],
   "source": [
    "array2=np.argsort(np.array(g))\n",
    "#array2=np.array(array2)[::-1]"
   ]
  },
  {
   "cell_type": "code",
   "execution_count": 764,
   "id": "dfadacbd",
   "metadata": {},
   "outputs": [
    {
     "data": {
      "text/plain": [
       "array([0, 3, 1, 4, 2], dtype=int64)"
      ]
     },
     "execution_count": 764,
     "metadata": {},
     "output_type": "execute_result"
    }
   ],
   "source": [
    "np.argsort(np.array(g))"
   ]
  },
  {
   "cell_type": "code",
   "execution_count": 765,
   "id": "f4eab224",
   "metadata": {},
   "outputs": [],
   "source": [
    "array2=np.array(array2)[::-1]"
   ]
  },
  {
   "cell_type": "code",
   "execution_count": 766,
   "id": "7cd9cf4e",
   "metadata": {},
   "outputs": [
    {
     "data": {
      "text/plain": [
       "array([2, 4, 1, 3, 0], dtype=int64)"
      ]
     },
     "execution_count": 766,
     "metadata": {},
     "output_type": "execute_result"
    }
   ],
   "source": [
    "array2"
   ]
  },
  {
   "cell_type": "code",
   "execution_count": 767,
   "id": "24849efb",
   "metadata": {},
   "outputs": [],
   "source": [
    "array1=np.argsort(np.array(a[5]))"
   ]
  },
  {
   "cell_type": "code",
   "execution_count": 770,
   "id": "4ffb3801",
   "metadata": {},
   "outputs": [],
   "source": [
    "f=a[5]"
   ]
  },
  {
   "cell_type": "code",
   "execution_count": 771,
   "id": "5c36b812",
   "metadata": {},
   "outputs": [
    {
     "data": {
      "text/plain": [
       "[1, 4, 0, 1, 12]"
      ]
     },
     "execution_count": 771,
     "metadata": {},
     "output_type": "execute_result"
    }
   ],
   "source": [
    "f"
   ]
  },
  {
   "cell_type": "code",
   "execution_count": 773,
   "id": "4bfc56cd",
   "metadata": {},
   "outputs": [
    {
     "data": {
      "text/plain": [
       "array([2, 0, 3, 1, 4], dtype=int64)"
      ]
     },
     "execution_count": 773,
     "metadata": {},
     "output_type": "execute_result"
    }
   ],
   "source": [
    "array1"
   ]
  },
  {
   "cell_type": "code",
   "execution_count": 775,
   "id": "b8110810",
   "metadata": {},
   "outputs": [],
   "source": [
    "array1 = array1[array2]"
   ]
  },
  {
   "cell_type": "code",
   "execution_count": 778,
   "id": "8def5d8e",
   "metadata": {},
   "outputs": [],
   "source": [
    "f=np.array(a[5])"
   ]
  },
  {
   "cell_type": "code",
   "execution_count": 779,
   "id": "d44b3ad7",
   "metadata": {},
   "outputs": [],
   "source": [
    "inds = np.array(g).argsort()\n",
    "sorted=np.array(inds)[::-1]\n",
    "sortedPeople = f[sorted]"
   ]
  },
  {
   "cell_type": "code",
   "execution_count": 781,
   "id": "8fb658c1",
   "metadata": {},
   "outputs": [
    {
     "data": {
      "text/plain": [
       "([200, 800, 2400, 200, 2250], array([2, 4, 1, 3, 0], dtype=int64))"
      ]
     },
     "execution_count": 781,
     "metadata": {},
     "output_type": "execute_result"
    }
   ],
   "source": [
    "g,sorted"
   ]
  },
  {
   "cell_type": "code",
   "execution_count": 783,
   "id": "939dec62",
   "metadata": {},
   "outputs": [
    {
     "data": {
      "text/plain": [
       "(array([ 1,  4,  0,  1, 12]), array([ 0, 12,  4,  1,  1]))"
      ]
     },
     "execution_count": 783,
     "metadata": {},
     "output_type": "execute_result"
    }
   ],
   "source": [
    "f,sortedPeople"
   ]
  },
  {
   "cell_type": "code",
   "execution_count": null,
   "id": "e58f5851",
   "metadata": {},
   "outputs": [],
   "source": []
  },
  {
   "cell_type": "code",
   "execution_count": 776,
   "id": "4d7e7053",
   "metadata": {},
   "outputs": [
    {
     "data": {
      "text/plain": [
       "array([3, 4, 0, 1, 2], dtype=int64)"
      ]
     },
     "execution_count": 776,
     "metadata": {},
     "output_type": "execute_result"
    }
   ],
   "source": [
    "array1"
   ]
  },
  {
   "cell_type": "code",
   "execution_count": 777,
   "id": "e33b9f21",
   "metadata": {},
   "outputs": [
    {
     "ename": "TypeError",
     "evalue": "only integer scalar arrays can be converted to a scalar index",
     "output_type": "error",
     "traceback": [
      "\u001b[1;31m---------------------------------------------------------------------------\u001b[0m",
      "\u001b[1;31mTypeError\u001b[0m                                 Traceback (most recent call last)",
      "\u001b[1;32m<ipython-input-777-1b412777caec>\u001b[0m in \u001b[0;36m<module>\u001b[1;34m\u001b[0m\n\u001b[1;32m----> 1\u001b[1;33m \u001b[0mf\u001b[0m\u001b[1;33m[\u001b[0m\u001b[0marray1\u001b[0m\u001b[1;33m]\u001b[0m\u001b[1;33m\u001b[0m\u001b[1;33m\u001b[0m\u001b[0m\n\u001b[0m",
      "\u001b[1;31mTypeError\u001b[0m: only integer scalar arrays can be converted to a scalar index"
     ]
    }
   ],
   "source": [
    "f[array1]"
   ]
  },
  {
   "cell_type": "code",
   "execution_count": null,
   "id": "f17d8507",
   "metadata": {},
   "outputs": [],
   "source": [
    "#array1=np.argsort(np.array(a))\n",
    "array2=np.argsort(np.array(g))\n",
    "array2=np.array(array2)[::-1]\n",
    "violation=0\n",
    "for i in range(0,len(a)):\n",
    "    array1=np.argsort(np.array(a[i]))\n",
    "    #array1=np.array(array1)[::-1]\n",
    "    if (array1==array2).all()==False:\n",
    "        #array1.\n",
    "        array1 = array1[array2]\n",
    "        \n",
    "        violation=violation+1\n",
    "        \n",
    "    "
   ]
  },
  {
   "cell_type": "code",
   "execution_count": null,
   "id": "6df8e95f",
   "metadata": {},
   "outputs": [],
   "source": []
  },
  {
   "cell_type": "code",
   "execution_count": null,
   "id": "dbc17923",
   "metadata": {},
   "outputs": [],
   "source": []
  },
  {
   "cell_type": "code",
   "execution_count": null,
   "id": "f493804c",
   "metadata": {},
   "outputs": [],
   "source": []
  },
  {
   "cell_type": "code",
   "execution_count": null,
   "id": "a25f58b1",
   "metadata": {},
   "outputs": [],
   "source": [
    "len(s)"
   ]
  },
  {
   "cell_type": "code",
   "execution_count": 694,
   "id": "3d46f793",
   "metadata": {},
   "outputs": [],
   "source": [
    "inds = np.array(g).argsort()\n",
    "sorted=np.array(inds)[::-1]\n",
    "#a=np.array(a[5])\n",
    "#sortedPeople =np.array(a[sorted])\n"
   ]
  },
  {
   "cell_type": "code",
   "execution_count": 695,
   "id": "e664a390",
   "metadata": {},
   "outputs": [
    {
     "data": {
      "text/plain": [
       "array([2, 4, 1, 3, 0], dtype=int64)"
      ]
     },
     "execution_count": 695,
     "metadata": {},
     "output_type": "execute_result"
    }
   ],
   "source": [
    "sorted"
   ]
  },
  {
   "cell_type": "code",
   "execution_count": 696,
   "id": "2e71e09b",
   "metadata": {},
   "outputs": [],
   "source": [
    "a=np.array(a[5])\n",
    "sortedPeople =np.array(a[sorted])"
   ]
  },
  {
   "cell_type": "code",
   "execution_count": 697,
   "id": "b8fa058d",
   "metadata": {},
   "outputs": [
    {
     "data": {
      "text/plain": [
       "array([ 0, 12,  4,  1,  1])"
      ]
     },
     "execution_count": 697,
     "metadata": {},
     "output_type": "execute_result"
    }
   ],
   "source": [
    "sortedPeople"
   ]
  },
  {
   "cell_type": "code",
   "execution_count": null,
   "id": "71b8cf4e",
   "metadata": {},
   "outputs": [],
   "source": [
    "for i in range(0,len(a)):\n",
    "    a[i]=np.array(a[i])\n",
    "    \n",
    "    \n",
    "    \n",
    "    \n",
    "    "
   ]
  },
  {
   "cell_type": "code",
   "execution_count": 716,
   "id": "9f8a4ffa",
   "metadata": {},
   "outputs": [
    {
     "ename": "SyntaxError",
     "evalue": "invalid syntax (<ipython-input-716-779cae6c964c>, line 3)",
     "output_type": "error",
     "traceback": [
      "\u001b[1;36m  File \u001b[1;32m\"<ipython-input-716-779cae6c964c>\"\u001b[1;36m, line \u001b[1;32m3\u001b[0m\n\u001b[1;33m    if (np.argsort(np.array(a)==np.argsort(np.array(b))):\u001b[0m\n\u001b[1;37m                                                        ^\u001b[0m\n\u001b[1;31mSyntaxError\u001b[0m\u001b[1;31m:\u001b[0m invalid syntax\n"
     ]
    }
   ],
   "source": [
    "a=[40,50,60]\n",
    "b=[800,500,60]\n",
    "if (np.argsort(np.array(a)==np.argsort(np.array(b))):\n",
    "    print('yes')\n",
    "else :\n",
    "    print('no')\n"
   ]
  },
  {
   "cell_type": "code",
   "execution_count": null,
   "id": "beeb1b98",
   "metadata": {},
   "outputs": [],
   "source": []
  },
  {
   "cell_type": "code",
   "execution_count": null,
   "id": "aedb3dcc",
   "metadata": {},
   "outputs": [],
   "source": []
  },
  {
   "cell_type": "code",
   "execution_count": 731,
   "id": "05d276e3",
   "metadata": {},
   "outputs": [
    {
     "data": {
      "text/plain": [
       "10"
      ]
     },
     "execution_count": 731,
     "metadata": {},
     "output_type": "execute_result"
    }
   ],
   "source": [
    "len(a)"
   ]
  },
  {
   "cell_type": "code",
   "execution_count": 749,
   "id": "754ed787",
   "metadata": {},
   "outputs": [],
   "source": [
    "#array1=np.argsort(np.array(a))\n",
    "array2=np.argsort(np.array(g))\n",
    "array2=np.array(array2)[::-1]\n",
    "violation=0\n",
    "for i in range(0,len(a)):\n",
    "    array1=np.argsort(np.array(a[i]))\n",
    "    #array1=np.array(array1)[::-1]\n",
    "    if (array1==array2).all()==False:\n",
    "        #array1.\n",
    "        array1 = array1[array2]\n",
    "        \n",
    "        violation=violation+1\n",
    "        \n",
    "    \n",
    "  "
   ]
  },
  {
   "cell_type": "code",
   "execution_count": 750,
   "id": "8b25fd3b",
   "metadata": {},
   "outputs": [
    {
     "name": "stdout",
     "output_type": "stream",
     "text": [
      "9\n"
     ]
    }
   ],
   "source": [
    "print(violation)"
   ]
  },
  {
   "cell_type": "code",
   "execution_count": 723,
   "id": "d1ee5479",
   "metadata": {},
   "outputs": [
    {
     "data": {
      "text/plain": [
       "3"
      ]
     },
     "execution_count": 723,
     "metadata": {},
     "output_type": "execute_result"
    }
   ],
   "source": [
    "len(a)"
   ]
  },
  {
   "cell_type": "code",
   "execution_count": 721,
   "id": "3d0a59c8",
   "metadata": {},
   "outputs": [
    {
     "ename": "SyntaxError",
     "evalue": "invalid syntax (<ipython-input-721-6d7021a36905>, line 1)",
     "output_type": "error",
     "traceback": [
      "\u001b[1;36m  File \u001b[1;32m\"<ipython-input-721-6d7021a36905>\"\u001b[1;36m, line \u001b[1;32m1\u001b[0m\n\u001b[1;33m    if array1=array2:\u001b[0m\n\u001b[1;37m             ^\u001b[0m\n\u001b[1;31mSyntaxError\u001b[0m\u001b[1;31m:\u001b[0m invalid syntax\n"
     ]
    }
   ],
   "source": [
    "for i in range(0,len(a)):\n",
    "    a[i]=np.array(a[i])\n",
    "    "
   ]
  },
  {
   "cell_type": "code",
   "execution_count": null,
   "id": "e6cf8752",
   "metadata": {},
   "outputs": [],
   "source": [
    "maxShiftsPerWeek=[20,40,80,20,45]\n",
    "MaxBenefitOfEachGoods=[10,20,30,10,50]\n",
    "g=[]\n",
    "        #violations=0\n",
    "for num1, num2 in zip(maxShiftsPerWeek,MaxBenefitOfEachGoods):\n",
    "            \n",
    "    g.append(num1*num2)\n",
    "array2=np.argsort(np.array(g))\n",
    "array2=np.array(array2)[::-1]  \n",
    "        \n",
    "        \n",
    "violations=0\n",
    "a=[]\n",
    "PerShiftList = [shift for shift in zip(*nurseShiftsDict.values())]\n",
    "for i in range(0,len(PerShiftList)):\n",
    "        a.append(list(PerShiftList[i]))\n",
    "    for i in range(0,len(a)):\n",
    "        array1=np.argsort(np.array(a[i]))\n",
    "    #array1=np.array(array1)[::-1]\n",
    "            if (array1==array2).all()==False:\n",
    "        #array1.\n",
    "                array1 = array1[array2]\n",
    "        \n",
    "                violations=violations+1\n",
    "        \n",
    "        # sum the shifts over all nurses:\n",
    "        #totalPerShiftList = [shift for shift in zip(*nurseShiftsDict.values())]\n",
    "\n",
    "        #a=[]\n",
    "        #for i in range(0,len(totalPerShiftList)):\n",
    "           # a.append(list(totalPerShiftList[i]))\n",
    "    \n",
    "        return violations,PerShiftList"
   ]
  },
  {
   "cell_type": "code",
   "execution_count": null,
   "id": "d99755ab",
   "metadata": {},
   "outputs": [],
   "source": []
  },
  {
   "cell_type": "code",
   "execution_count": 19,
   "id": "e338f6b8",
   "metadata": {},
   "outputs": [],
   "source": [
    "X = [\"a\", \"b\", \"c\", \"d\", \"e\", \"f\", \"g\", \"h\", \"i\"]\n",
    "Y = [ 0,   1,   1,   0,   1,   2,   2,   0,   1 ]"
   ]
  },
  {
   "cell_type": "code",
   "execution_count": 20,
   "id": "3d6b839a",
   "metadata": {},
   "outputs": [
    {
     "ename": "TypeError",
     "evalue": "'numpy.ndarray' object is not callable",
     "output_type": "error",
     "traceback": [
      "\u001b[1;31m---------------------------------------------------------------------------\u001b[0m",
      "\u001b[1;31mTypeError\u001b[0m                                 Traceback (most recent call last)",
      "\u001b[1;32m<ipython-input-20-536603388d44>\u001b[0m in \u001b[0;36m<module>\u001b[1;34m\u001b[0m\n\u001b[0;32m      1\u001b[0m \u001b[1;31m# Zip (decorate), sort and unzip (undecorate).\u001b[0m\u001b[1;33m\u001b[0m\u001b[1;33m\u001b[0m\u001b[1;33m\u001b[0m\u001b[0m\n\u001b[0;32m      2\u001b[0m \u001b[1;31m# Converting to list to script the output and extract X\u001b[0m\u001b[1;33m\u001b[0m\u001b[1;33m\u001b[0m\u001b[1;33m\u001b[0m\u001b[0m\n\u001b[1;32m----> 3\u001b[1;33m \u001b[0mlist\u001b[0m\u001b[1;33m(\u001b[0m\u001b[0mzip\u001b[0m\u001b[1;33m(\u001b[0m\u001b[1;33m*\u001b[0m\u001b[1;33m(\u001b[0m\u001b[0msorted\u001b[0m\u001b[1;33m(\u001b[0m\u001b[0mzip\u001b[0m\u001b[1;33m(\u001b[0m\u001b[0mY\u001b[0m\u001b[1;33m,\u001b[0m\u001b[0mX\u001b[0m\u001b[1;33m)\u001b[0m\u001b[1;33m)\u001b[0m\u001b[1;33m)\u001b[0m\u001b[1;33m)\u001b[0m\u001b[1;33m)\u001b[0m\u001b[1;33m[\u001b[0m\u001b[1;36m1\u001b[0m\u001b[1;33m]\u001b[0m\u001b[1;33m\u001b[0m\u001b[1;33m\u001b[0m\u001b[0m\n\u001b[0m\u001b[0;32m      4\u001b[0m \u001b[1;31m# Results in: ('a', 'd', 'h', 'b', 'c', 'e', 'i', 'f', 'g')\u001b[0m\u001b[1;33m\u001b[0m\u001b[1;33m\u001b[0m\u001b[1;33m\u001b[0m\u001b[0m\n",
      "\u001b[1;31mTypeError\u001b[0m: 'numpy.ndarray' object is not callable"
     ]
    }
   ],
   "source": [
    "# Zip (decorate), sort and unzip (undecorate).\n",
    "# Converting to list to script the output and extract X\n",
    "list(zip(*(sorted(zip(Y,X)))))[1]                                                                                                                       \n",
    "# Results in: ('a', 'd', 'h', 'b', 'c', 'e', 'i', 'f', 'g')"
   ]
  },
  {
   "cell_type": "code",
   "execution_count": 22,
   "id": "fa84fbff",
   "metadata": {},
   "outputs": [
    {
     "ename": "TypeError",
     "evalue": "'numpy.ndarray' object is not callable",
     "output_type": "error",
     "traceback": [
      "\u001b[1;31m---------------------------------------------------------------------------\u001b[0m",
      "\u001b[1;31mTypeError\u001b[0m                                 Traceback (most recent call last)",
      "\u001b[1;32m<ipython-input-22-f09552015b7d>\u001b[0m in \u001b[0;36m<module>\u001b[1;34m\u001b[0m\n\u001b[1;32m----> 1\u001b[1;33m \u001b[0mzip\u001b[0m\u001b[1;33m(\u001b[0m\u001b[1;33m*\u001b[0m\u001b[1;33m(\u001b[0m\u001b[0msorted\u001b[0m\u001b[1;33m(\u001b[0m\u001b[0mzip\u001b[0m\u001b[1;33m(\u001b[0m\u001b[0mY\u001b[0m\u001b[1;33m,\u001b[0m\u001b[0mX\u001b[0m\u001b[1;33m)\u001b[0m\u001b[1;33m)\u001b[0m\u001b[1;33m)\u001b[0m\u001b[1;33m)\u001b[0m\u001b[1;33m\u001b[0m\u001b[1;33m\u001b[0m\u001b[0m\n\u001b[0m",
      "\u001b[1;31mTypeError\u001b[0m: 'numpy.ndarray' object is not callable"
     ]
    }
   ],
   "source": [
    "zip(*(sorted(zip(Y,X))))"
   ]
  },
  {
   "cell_type": "code",
   "execution_count": 23,
   "id": "bfdb0ace",
   "metadata": {},
   "outputs": [
    {
     "ename": "TypeError",
     "evalue": "'numpy.ndarray' object is not callable",
     "output_type": "error",
     "traceback": [
      "\u001b[1;31m---------------------------------------------------------------------------\u001b[0m",
      "\u001b[1;31mTypeError\u001b[0m                                 Traceback (most recent call last)",
      "\u001b[1;32m<ipython-input-23-b33483fc703e>\u001b[0m in \u001b[0;36m<module>\u001b[1;34m\u001b[0m\n\u001b[0;32m      2\u001b[0m \u001b[1;33m\u001b[0m\u001b[0m\n\u001b[0;32m      3\u001b[0m \u001b[1;31m# Sort by Y (1) and extract X [0]\u001b[0m\u001b[1;33m\u001b[0m\u001b[1;33m\u001b[0m\u001b[1;33m\u001b[0m\u001b[0m\n\u001b[1;32m----> 4\u001b[1;33m \u001b[0mlist\u001b[0m\u001b[1;33m(\u001b[0m\u001b[0mzip\u001b[0m\u001b[1;33m(\u001b[0m\u001b[1;33m*\u001b[0m\u001b[0msorted\u001b[0m\u001b[1;33m(\u001b[0m\u001b[0mzip\u001b[0m\u001b[1;33m(\u001b[0m\u001b[0mX\u001b[0m\u001b[1;33m,\u001b[0m\u001b[0mY\u001b[0m\u001b[1;33m)\u001b[0m\u001b[1;33m,\u001b[0m \u001b[0mkey\u001b[0m\u001b[1;33m=\u001b[0m\u001b[0moperator\u001b[0m\u001b[1;33m.\u001b[0m\u001b[0mitemgetter\u001b[0m\u001b[1;33m(\u001b[0m\u001b[1;36m1\u001b[0m\u001b[1;33m)\u001b[0m\u001b[1;33m)\u001b[0m\u001b[1;33m)\u001b[0m\u001b[1;33m)\u001b[0m\u001b[1;33m[\u001b[0m\u001b[1;36m0\u001b[0m\u001b[1;33m]\u001b[0m\u001b[1;33m\u001b[0m\u001b[1;33m\u001b[0m\u001b[0m\n\u001b[0m\u001b[0;32m      5\u001b[0m \u001b[1;31m# Results in: ('a', 'd', 'h', 'b', 'c', 'e', 'i', 'f', 'g')\u001b[0m\u001b[1;33m\u001b[0m\u001b[1;33m\u001b[0m\u001b[1;33m\u001b[0m\u001b[0m\n",
      "\u001b[1;31mTypeError\u001b[0m: 'numpy.ndarray' object is not callable"
     ]
    }
   ],
   "source": [
    "import operator    \n",
    "\n",
    "# Sort by Y (1) and extract X [0]\n",
    "list(zip(*sorted(zip(X,Y), key=operator.itemgetter(1))))[0]                                                                                                 \n",
    "# Results in: ('a', 'd', 'h', 'b', 'c', 'e', 'i', 'f', 'g')"
   ]
  },
  {
   "cell_type": "markdown",
   "id": "d4d1a6a1",
   "metadata": {},
   "source": [
    "#  sorting per profit"
   ]
  },
  {
   "cell_type": "code",
   "execution_count": 49,
   "id": "19fbd588",
   "metadata": {},
   "outputs": [],
   "source": [
    "import numpy as np\n",
    "arr1=[50,10,12,39,65]\n",
    "arr2=[79,40,36,78,11]\n",
    "arr1=np.array(arr1)\n",
    "arr2=np.array(arr2)"
   ]
  },
  {
   "cell_type": "code",
   "execution_count": 50,
   "id": "10a5b75c",
   "metadata": {},
   "outputs": [],
   "source": [
    "#arr1inds = arr1.argsort()\n",
    "arr1inds = arr1.argsort()\n",
    "arr2inds=arr2.argsort()\n",
    "\n",
    "sorted_arr1 = arr1[arr1inds[::-1]]\n",
    "sorted_arr2 = arr2[arr2inds[::-1]]"
   ]
  },
  {
   "cell_type": "code",
   "execution_count": 51,
   "id": "50b389ba",
   "metadata": {},
   "outputs": [
    {
     "data": {
      "text/plain": [
       "(array([50, 10, 12, 39, 65]), array([79, 40, 36, 78, 11]))"
      ]
     },
     "execution_count": 51,
     "metadata": {},
     "output_type": "execute_result"
    }
   ],
   "source": [
    "#arr1inds = arr1.argsort()\n",
    "arr1,arr2"
   ]
  },
  {
   "cell_type": "code",
   "execution_count": 52,
   "id": "89b9265b",
   "metadata": {},
   "outputs": [
    {
     "data": {
      "text/plain": [
       "(array([1, 2, 3, 0, 4], dtype=int64), array([4, 2, 1, 3, 0], dtype=int64))"
      ]
     },
     "execution_count": 52,
     "metadata": {},
     "output_type": "execute_result"
    }
   ],
   "source": [
    "arr1inds,arr2inds"
   ]
  },
  {
   "cell_type": "code",
   "execution_count": 53,
   "id": "a7206f5d",
   "metadata": {},
   "outputs": [],
   "source": [
    "arr1inds = arr1.argsort()\n",
    "arr2inds=arr2.argsort()\n"
   ]
  },
  {
   "cell_type": "code",
   "execution_count": 54,
   "id": "4fd33b4c",
   "metadata": {},
   "outputs": [
    {
     "data": {
      "text/plain": [
       "(array([1, 2, 3, 0, 4], dtype=int64),\n",
       " array([4, 2, 1, 3, 0], dtype=int64),\n",
       " array([79, 78, 40, 36, 11]),\n",
       " array([50, 10, 12, 39, 65]),\n",
       " array([79, 40, 36, 78, 11]))"
      ]
     },
     "execution_count": 54,
     "metadata": {},
     "output_type": "execute_result"
    }
   ],
   "source": [
    "arr1inds,arr2inds,sorted_arr2,arr1,arr2"
   ]
  },
  {
   "cell_type": "code",
   "execution_count": 55,
   "id": "a8142749",
   "metadata": {},
   "outputs": [
    {
     "data": {
      "text/plain": [
       "(0, 79)"
      ]
     },
     "execution_count": 55,
     "metadata": {},
     "output_type": "execute_result"
    }
   ],
   "source": [
    "arr2inds[4],arr2[arr2inds[4]]"
   ]
  },
  {
   "cell_type": "code",
   "execution_count": 56,
   "id": "a53aad81",
   "metadata": {},
   "outputs": [
    {
     "data": {
      "text/plain": [
       "'m=[[]]\\nfor i,j in zip(arr1inds,arr2inds):\\n    #for j in range(0,len(arr2)):\\n        arr2[i]=arr2[arr2inds[j]]'"
      ]
     },
     "execution_count": 56,
     "metadata": {},
     "output_type": "execute_result"
    }
   ],
   "source": [
    "'''m=[[]]\n",
    "for i,j in zip(arr1inds,arr2inds):\n",
    "    #for j in range(0,len(arr2)):\n",
    "        arr2[i]=arr2[arr2inds[j]]'''\n",
    "    "
   ]
  },
  {
   "cell_type": "code",
   "execution_count": 57,
   "id": "ea617f10",
   "metadata": {},
   "outputs": [
    {
     "data": {
      "text/plain": [
       "array([79, 40, 36, 78, 11])"
      ]
     },
     "execution_count": 57,
     "metadata": {},
     "output_type": "execute_result"
    }
   ],
   "source": [
    "arr2"
   ]
  },
  {
   "cell_type": "code",
   "execution_count": 58,
   "id": "9ad991fb",
   "metadata": {},
   "outputs": [],
   "source": [
    "m=[]\n",
    "for i in range (0,len(arr2)):\n",
    "    m.append(\"m\")"
   ]
  },
  {
   "cell_type": "code",
   "execution_count": 59,
   "id": "0b1dddaa",
   "metadata": {},
   "outputs": [
    {
     "data": {
      "text/plain": [
       "['m', 'm', 'm', 'm', 'm']"
      ]
     },
     "execution_count": 59,
     "metadata": {},
     "output_type": "execute_result"
    }
   ],
   "source": [
    "m"
   ]
  },
  {
   "cell_type": "code",
   "execution_count": 60,
   "id": "985f45ec",
   "metadata": {},
   "outputs": [],
   "source": [
    "'''for j in range(0,len(arr2)):\n",
    "    for i in arr1inds:\n",
    "    \n",
    "    #for j in range(0,len(arr2)):\n",
    "        m[i]=arr2[arr2inds['''\n",
    "\n",
    "#for i in arr1inds and for j in range(0,len(arr2)):\n",
    "for i, j in zip(arr1inds, range(len(arr2))):\n",
    "    \n",
    "    m[i]=arr2[arr2inds[j]]\n",
    "    \n",
    "    \n"
   ]
  },
  {
   "cell_type": "code",
   "execution_count": 61,
   "id": "ee2387d6",
   "metadata": {},
   "outputs": [
    {
     "data": {
      "text/plain": [
       "[78, 11, 36, 40, 79]"
      ]
     },
     "execution_count": 61,
     "metadata": {},
     "output_type": "execute_result"
    }
   ],
   "source": [
    "m"
   ]
  },
  {
   "cell_type": "code",
   "execution_count": 62,
   "id": "12e9560e",
   "metadata": {},
   "outputs": [
    {
     "data": {
      "text/plain": [
       "[78, 11, 36, 40, 79]"
      ]
     },
     "execution_count": 62,
     "metadata": {},
     "output_type": "execute_result"
    }
   ],
   "source": [
    "m"
   ]
  },
  {
   "cell_type": "code",
   "execution_count": 63,
   "id": "cb969581",
   "metadata": {},
   "outputs": [],
   "source": [
    "m=[m,m,m,m,m]\n",
    "m[1]=arr2[arr2inds[0]]\n",
    "m[2]=arr2[arr2inds[1]]\n",
    "m[3]=arr2[arr2inds[2]]\n",
    "m[0]=arr2[arr2inds[3]]\n",
    "m[4]=arr2[arr2inds[4]]"
   ]
  },
  {
   "cell_type": "code",
   "execution_count": 64,
   "id": "dc2b5dd6",
   "metadata": {},
   "outputs": [],
   "source": [
    "#m=[]\n",
    "#type(m)\n",
    "#len(m)\n",
    "#m[i]"
   ]
  },
  {
   "cell_type": "code",
   "execution_count": null,
   "id": "bfe380bf",
   "metadata": {},
   "outputs": [],
   "source": []
  },
  {
   "cell_type": "code",
   "execution_count": 65,
   "id": "9cb5169d",
   "metadata": {},
   "outputs": [
    {
     "data": {
      "text/plain": [
       "(array([50, 10, 12, 39, 65]), array([79, 40, 36, 78, 11]))"
      ]
     },
     "execution_count": 65,
     "metadata": {},
     "output_type": "execute_result"
    }
   ],
   "source": [
    "arr1,arr2"
   ]
  },
  {
   "cell_type": "code",
   "execution_count": 66,
   "id": "c2a2a025",
   "metadata": {},
   "outputs": [],
   "source": [
    "f=[78,11,36,40,79]"
   ]
  },
  {
   "cell_type": "code",
   "execution_count": 67,
   "id": "c865d955",
   "metadata": {},
   "outputs": [
    {
     "data": {
      "text/plain": [
       "[78, 11, 36, 40, 79]"
      ]
     },
     "execution_count": 67,
     "metadata": {},
     "output_type": "execute_result"
    }
   ],
   "source": [
    "m"
   ]
  },
  {
   "cell_type": "code",
   "execution_count": null,
   "id": "75cf5ff8",
   "metadata": {},
   "outputs": [],
   "source": []
  },
  {
   "cell_type": "code",
   "execution_count": 68,
   "id": "2224876d",
   "metadata": {},
   "outputs": [
    {
     "data": {
      "text/plain": [
       "array([50, 10, 12, 39, 65])"
      ]
     },
     "execution_count": 68,
     "metadata": {},
     "output_type": "execute_result"
    }
   ],
   "source": [
    "arr1"
   ]
  },
  {
   "cell_type": "code",
   "execution_count": 162,
   "id": "4571989d",
   "metadata": {},
   "outputs": [
    {
     "data": {
      "text/plain": [
       "[79, 40, 36, 78, 11]"
      ]
     },
     "execution_count": 162,
     "metadata": {},
     "output_type": "execute_result"
    }
   ],
   "source": [
    "m"
   ]
  },
  {
   "cell_type": "code",
   "execution_count": 79,
   "id": "64f6ee98",
   "metadata": {},
   "outputs": [
    {
     "data": {
      "text/plain": [
       "array([4, 2, 1, 3, 0], dtype=int64)"
      ]
     },
     "execution_count": 79,
     "metadata": {},
     "output_type": "execute_result"
    }
   ],
   "source": [
    "arr2inds"
   ]
  },
  {
   "cell_type": "code",
   "execution_count": 64,
   "id": "64b99da5",
   "metadata": {},
   "outputs": [
    {
     "data": {
      "text/plain": [
       "(array([1, 2, 3, 0, 4], dtype=int64), array([4, 2, 1, 3, 0], dtype=int64))"
      ]
     },
     "execution_count": 64,
     "metadata": {},
     "output_type": "execute_result"
    }
   ],
   "source": [
    "arr1inds,arr2inds"
   ]
  },
  {
   "cell_type": "code",
   "execution_count": 67,
   "id": "dc167dd0",
   "metadata": {},
   "outputs": [],
   "source": [
    "arr1inds = arr2[arr1inds[::-1]]"
   ]
  },
  {
   "cell_type": "code",
   "execution_count": 69,
   "id": "9aced123",
   "metadata": {},
   "outputs": [
    {
     "data": {
      "text/plain": [
       "array([65, 50, 39, 12, 10])"
      ]
     },
     "execution_count": 69,
     "metadata": {},
     "output_type": "execute_result"
    }
   ],
   "source": [
    "sorted_arr1 "
   ]
  },
  {
   "cell_type": "code",
   "execution_count": 68,
   "id": "c430cbbf",
   "metadata": {},
   "outputs": [
    {
     "data": {
      "text/plain": [
       "array([11, 79, 78, 36, 40])"
      ]
     },
     "execution_count": 68,
     "metadata": {},
     "output_type": "execute_result"
    }
   ],
   "source": [
    "arr1inds"
   ]
  },
  {
   "cell_type": "code",
   "execution_count": 59,
   "id": "3f8ad748",
   "metadata": {},
   "outputs": [],
   "source": [
    "sorted_arr = arr2[arr1inds]"
   ]
  },
  {
   "cell_type": "code",
   "execution_count": 46,
   "id": "60d3328f",
   "metadata": {},
   "outputs": [
    {
     "data": {
      "text/plain": [
       "array([65, 50, 39, 12, 10])"
      ]
     },
     "execution_count": 46,
     "metadata": {},
     "output_type": "execute_result"
    }
   ],
   "source": [
    "sorted_arr1"
   ]
  },
  {
   "cell_type": "code",
   "execution_count": 47,
   "id": "64022675",
   "metadata": {},
   "outputs": [
    {
     "data": {
      "text/plain": [
       "array([11, 79, 78, 36, 40])"
      ]
     },
     "execution_count": 47,
     "metadata": {},
     "output_type": "execute_result"
    }
   ],
   "source": [
    "sorted_arr2"
   ]
  },
  {
   "cell_type": "code",
   "execution_count": 52,
   "id": "63fa68f9",
   "metadata": {},
   "outputs": [],
   "source": [
    "#from multiprocessing import Pool\n",
    "def starmap(function, iterable):\n",
    "    # starmap(pow, [(2,5), (3,2), (10,3)]) --> 32 9 1000\n",
    "    for args in iterable:\n",
    "        yield function(*args)"
   ]
  },
  {
   "cell_type": "code",
   "execution_count": 60,
   "id": "29bf46ad",
   "metadata": {},
   "outputs": [
    {
     "name": "stdout",
     "output_type": "stream",
     "text": [
      "65 40 50 36 39 78 12 79 10 11\n"
     ]
    }
   ],
   "source": [
    " print(*starmap(\"{} {}\".format, zip(sorted_arr1, sorted_arr)))"
   ]
  },
  {
   "cell_type": "code",
   "execution_count": 103,
   "id": "2f753689",
   "metadata": {},
   "outputs": [],
   "source": [
    "maxShiftsPerWeek=[20,40,80,20,45]\n",
    "MaxBenefitOfEachGoods=[10,20,30,10,5]\n",
    "g=[]\n",
    "        #violations=0\n",
    "for num1, num2 in zip(maxShiftsPerWeek,MaxBenefitOfEachGoods):\n",
    "            \n",
    "    g.append(num1*num2)\n",
    "       # array2=np.argsort(np.array(g))\n",
    "       # array2=np.array(array2)[::-1]  \n",
    "inds = np.array(g).argsort()\n",
    "sorted=np.array(inds)[::-1]\n",
    "        #sortedPeople = f[sorted]\n",
    "        #arr1inds = arr1.argsort()\n",
    "        #arr2inds=arr2.argsort()\n",
    "        \n",
    "        \n",
    "violations=0\n",
    "       # a=[]\n",
    "PerShiftList = [shift for shift in zip(*dict.values())]\n",
    "        #for i in range(0,len(PerShiftList)):\n",
    "           # a.append(list(PerShiftList[i]))\n",
    "        #for i in range(0,len(a)):\n",
    "for i in range(0,len(PerShiftList)):\n",
    "            \n",
    "            #f=np.array(a[i])\n",
    "            f=np.array(PerShiftList[i])\n",
    "            #array1=np.argsort(np.array(a[i]))\n",
    "            array1=np.argsort(f)\n",
    "            m=[]\n",
    "            for s in range (0,len(maxShiftsPerWeek)):\n",
    "                m.append(\"m\")\n",
    "            \n",
    "    #array1=np.array(array1)[::-1]\n",
    "            if (array1==inds).all()==False:\n",
    "        #array1.\n",
    "                #f = f[sorted]\n",
    "                for n, j in zip(inds, range(len(f))):\n",
    "    \n",
    "                    m[n]=f[array1[j]]\n",
    "    \n",
    "                #array1 = array1[array2]\n",
    "                #PerShiftList[i]=f\n",
    "                PerShiftList[i]=m\n",
    "                #bestprofit=m\n",
    "        \n",
    "                violations=violations+1\n",
    "                #PerShiftList=f\n",
    "        # sum the shifts over all nurses:\n",
    "        #totalPerShiftList = [shift for shift in zip(*nurseShiftsDict.values())]\n",
    "\n",
    "        #a=[]\n",
    "        #for i in range(0,len(totalPerShiftList)):\n",
    "           # a.append(list(totalPerShiftList[i]))"
   ]
  },
  {
   "cell_type": "code",
   "execution_count": 104,
   "id": "f52a4dbe",
   "metadata": {},
   "outputs": [
    {
     "data": {
      "text/plain": [
       "([0, 6, 11, 2, 2], [200, 800, 2400, 200, 225])"
      ]
     },
     "execution_count": 104,
     "metadata": {},
     "output_type": "execute_result"
    }
   ],
   "source": [
    "m,g"
   ]
  },
  {
   "cell_type": "code",
   "execution_count": 105,
   "id": "7d313cc1",
   "metadata": {},
   "outputs": [
    {
     "data": {
      "text/plain": [
       "[[0, 11, 18, 0, 0],\n",
       " [1, 3, 6, 1, 1],\n",
       " [0, 3, 12, 0, 1],\n",
       " (0, 3, 24, 0, 1),\n",
       " [0, 6, 14, 0, 3],\n",
       " [0, 4, 12, 1, 1],\n",
       " [0, 2, 11, 1, 2],\n",
       " [0, 8, 12, 1, 8],\n",
       " [0, 4, 5, 0, 4],\n",
       " [0, 6, 11, 2, 2]]"
      ]
     },
     "execution_count": 105,
     "metadata": {},
     "output_type": "execute_result"
    }
   ],
   "source": [
    "PerShiftList"
   ]
  },
  {
   "cell_type": "code",
   "execution_count": 83,
   "id": "dd91db52",
   "metadata": {},
   "outputs": [
    {
     "data": {
      "text/plain": [
       "[(0, 0, 18, 0, 11),\n",
       " (1, 3, 1, 6, 1),\n",
       " (3, 0, 0, 1, 12),\n",
       " (0, 3, 24, 0, 1),\n",
       " [0, 6, 11, 2, 2],\n",
       " (1, 4, 0, 1, 12),\n",
       " (0, 2, 11, 2, 1),\n",
       " (8, 8, 12, 0, 1),\n",
       " (5, 4, 0, 4, 0),\n",
       " (2, 2, 11, 0, 6)]"
      ]
     },
     "execution_count": 83,
     "metadata": {},
     "output_type": "execute_result"
    }
   ],
   "source": [
    "PerShiftList"
   ]
  },
  {
   "cell_type": "code",
   "execution_count": null,
   "id": "8515d427",
   "metadata": {},
   "outputs": [],
   "source": []
  },
  {
   "cell_type": "code",
   "execution_count": null,
   "id": "2bf346eb",
   "metadata": {},
   "outputs": [],
   "source": []
  },
  {
   "cell_type": "code",
   "execution_count": null,
   "id": "36b38e87",
   "metadata": {},
   "outputs": [],
   "source": []
  },
  {
   "cell_type": "code",
   "execution_count": null,
   "id": "95132950",
   "metadata": {},
   "outputs": [],
   "source": []
  },
  {
   "cell_type": "code",
   "execution_count": 1,
   "id": "74c1fb74",
   "metadata": {},
   "outputs": [
    {
     "name": "stdout",
     "output_type": "stream",
     "text": [
      "route [(0, 0), (1, 1), (2, 2), (3, 1), (4, 1), (5, 1), (6, 2), (7, 3), (7, 4), (6, 5), (7, 6), (7, 7)]\n",
      "cost 11\n"
     ]
    },
    {
     "data": {
      "image/png": "[encoded data removed]",
      "text/plain": [
       "<Figure size 432x288 with 1 Axes>"
      ]
     },
     "metadata": {
      "needs_background": "light"
     },
     "output_type": "display_data"
    }
   ],
   "source": [
    "from __future__ import print_function\n",
    "import matplotlib.pyplot as plt\n",
    " \n",
    "class AStarGraph(object):\n",
    "\t#Define a class board like grid with two barriers\n",
    " \n",
    "\tdef __init__(self):\n",
    "\t\tself.barriers = []\n",
    "\t\tself.barriers.append([(2,4),(2,5),(2,6),(3,6),(4,6),(5,6),(5,5),(5,4),(5,3),(5,2),(4,2),(3,2)])\n",
    " \n",
    "\tdef heuristic(self, start, goal):\n",
    "\t\t#Use Chebyshev distance heuristic if we can move one square either\n",
    "\t\t#adjacent or diagonal\n",
    "\t\tD = 1\n",
    "\t\tD2 = 1\n",
    "\t\tdx = abs(start[0] - goal[0])\n",
    "\t\tdy = abs(start[1] - goal[1])\n",
    "\t\treturn D * (dx + dy) + (D2 - 2 * D) * min(dx, dy)\n",
    " \n",
    "\tdef get_vertex_neighbours(self, pos):\n",
    "\t\tn = []\n",
    "\t\t#Moves allow link a chess king\n",
    "\t\tfor dx, dy in [(1,0),(-1,0),(0,1),(0,-1),(1,1),(-1,1),(1,-1),(-1,-1)]:\n",
    "\t\t\tx2 = pos[0] + dx\n",
    "\t\t\ty2 = pos[1] + dy\n",
    "\t\t\tif x2 < 0 or x2 > 7 or y2 < 0 or y2 > 7:\n",
    "\t\t\t\tcontinue\n",
    "\t\t\tn.append((x2, y2))\n",
    "\t\treturn n\n",
    " \n",
    "\tdef move_cost(self, a, b):\n",
    "\t\tfor barrier in self.barriers:\n",
    "\t\t\tif b in barrier:\n",
    "\t\t\t\treturn 100 #Extremely high cost to enter barrier squares\n",
    "\t\treturn 1 #Normal movement cost\n",
    " \n",
    "def AStarSearch(start, end, graph):\n",
    " \n",
    "\tG = {} #Actual movement cost to each position from the start position\n",
    "\tF = {} #Estimated movement cost of start to end going via this position\n",
    " \n",
    "\t#Initialize starting values\n",
    "\tG[start] = 0\n",
    "\tF[start] = graph.heuristic(start, end)\n",
    " \n",
    "\tclosedVertices = set()\n",
    "\topenVertices = set([start])\n",
    "\tcameFrom = {}\n",
    " \n",
    "\twhile len(openVertices) > 0:\n",
    "\t\t#Get the vertex in the open list with the lowest F score\n",
    "\t\tcurrent = None\n",
    "\t\tcurrentFscore = None\n",
    "\t\tfor pos in openVertices:\n",
    "\t\t\tif current is None or F[pos] < currentFscore:\n",
    "\t\t\t\tcurrentFscore = F[pos]\n",
    "\t\t\t\tcurrent = pos\n",
    " \n",
    "\t\t#Check if we have reached the goal\n",
    "\t\tif current == end:\n",
    "\t\t\t#Retrace our route backward\n",
    "\t\t\tpath = [current]\n",
    "\t\t\twhile current in cameFrom:\n",
    "\t\t\t\tcurrent = cameFrom[current]\n",
    "\t\t\t\tpath.append(current)\n",
    "\t\t\tpath.reverse()\n",
    "\t\t\treturn path, F[end] #Done!\n",
    " \n",
    "\t\t#Mark the current vertex as closed\n",
    "\t\topenVertices.remove(current)\n",
    "\t\tclosedVertices.add(current)\n",
    " \n",
    "\t\t#Update scores for vertices near the current position\n",
    "\t\tfor neighbour in graph.get_vertex_neighbours(current):\n",
    "\t\t\tif neighbour in closedVertices:\n",
    "\t\t\t\tcontinue #We have already processed this node exhaustively\n",
    "\t\t\tcandidateG = G[current] + graph.move_cost(current, neighbour)\n",
    " \n",
    "\t\t\tif neighbour not in openVertices:\n",
    "\t\t\t\topenVertices.add(neighbour) #Discovered a new vertex\n",
    "\t\t\telif candidateG >= G[neighbour]:\n",
    "\t\t\t\tcontinue #This G score is worse than previously found\n",
    " \n",
    "\t\t\t#Adopt this G score\n",
    "\t\t\tcameFrom[neighbour] = current\n",
    "\t\t\tG[neighbour] = candidateG\n",
    "\t\t\tH = graph.heuristic(neighbour, end)\n",
    "\t\t\tF[neighbour] = G[neighbour] + H\n",
    " \n",
    "\traise RuntimeError(\"A* failed to find a solution\")\n",
    " \n",
    "if __name__==\"__main__\":\n",
    "\tgraph = AStarGraph()\n",
    "\tresult, cost = AStarSearch((0,0), (7,7), graph)\n",
    "\tprint (\"route\", result)\n",
    "\tprint (\"cost\", cost)\n",
    "\tplt.plot([v[0] for v in result], [v[1] for v in result])\n",
    "\tfor barrier in graph.barriers:\n",
    "\t\tplt.plot([v[0] for v in barrier], [v[1] for v in barrier])\n",
    "\tplt.xlim(-1,8)\n",
    "\tplt.ylim(-1,8)\n",
    "\tplt.show()"
   ]
  },
  {
   "cell_type": "code",
   "execution_count": null,
   "id": "85dc6f47",
   "metadata": {},
   "outputs": [],
   "source": [
    "a=[50, 0, 1, 47, 42, 0, 14, 32, 0, 0, 14, 38, 13, 46, 7, 0, 19, 0, 18, 9, 1, 2]\n",
    " [\n",
    "             150,\n",
    "             35\n",
    "        200\n",
    "        160\n",
    "         60\n",
    "            45\n",
    "            60\n",
    "            40\n",
    "            30\n",
    "            10\n",
    "             70\n",
    "            30\n",
    "         15\n",
    "            (\"trousers\", 48, 10),\n",
    "            (\"umbrella\", 73, 40),\n",
    "            (\"waterproof trousers\", 42, 70),\n",
    "            (\"waterproof overclothes\", 43, 75),\n",
    "            (\"note-case\", 22, 80),\n",
    "            (\"sunglasses\", 7, 20),\n",
    "            (\"towel\", 18, 12),\n",
    "            (\"socks\", 4, 50),\n",
    "            (\"book\", 30, 10)\n",
    "        ]"
   ]
  },
  {
   "cell_type": "code",
   "execution_count": null,
   "id": "a51250d8",
   "metadata": {},
   "outputs": [],
   "source": []
  },
  {
   "cell_type": "code",
   "execution_count": 2,
   "id": "e8658eba",
   "metadata": {},
   "outputs": [
    {
     "name": "stdout",
     "output_type": "stream",
     "text": [
      "gen\tnevals\tavg                            \tstd                          \tmin          \tmax            \n",
      "0  \t300   \t[9.78493667e+03 3.10333333e+00]\t[1225.64834788   18.00757217]\t[1859.    0.]\t[10000.   142.]\n",
      "1  \t208   \t[7187.96666667   10.92333334]  \t[4191.00565086   23.8017672 ]\t[0. 0.]      \t[10000.   139.]\n",
      "2  \t215   \t[5397.35         16.77666669]  \t[4562.91223024   29.48525261]\t[0. 0.]      \t[10000.   137.]\n",
      "3  \t217   \t[4539.9          16.90333336]  \t[4550.64960967   29.25133595]\t[0. 0.]      \t[10000.   133.]\n",
      "4  \t232   \t[4138.14666667   12.4866667 ]  \t[4606.92627376   25.99980425]\t[0. 0.]      \t[10000.   128.]\n",
      "5  \t226   \t[3577.46         10.36333338]  \t[4516.1600601    23.79603583]\t[0. 0.]      \t[10000.   128.]\n",
      "6  \t224   \t[3097.95333333    8.95333339]  \t[4348.91336671   20.91660795]\t[0. 0.]      \t[10000.   125.]\n",
      "7  \t222   \t[2552.3          10.71000006]  \t[4016.15139364   23.06019439]\t[0. 0.]      \t[10000.   112.]\n",
      "8  \t210   \t[2472.85666667    9.57333339]  \t[4013.9075188    22.39340575]\t[0. 0.]      \t[10000.   115.]\n",
      "9  \t248   \t[2207.90666667    8.74666673]  \t[3863.75573391   21.25313674]\t[0. 0.]      \t[10000.   120.]\n",
      "10 \t224   \t[1963.00666667    9.6033334 ]  \t[3648.49323602   21.32743119]\t[0. 0.]      \t[10000.   128.]\n",
      "11 \t228   \t[1743.66333333    9.6133334 ]  \t[3469.62081165   21.10080143]\t[0. 0.]      \t[10000.   128.]\n",
      "12 \t214   \t[1509.99         10.77666673]  \t[3195.24747032   22.35024506]\t[0. 0.]      \t[10000.   124.]\n",
      "13 \t216   \t[1431.66666667   10.47666673]  \t[3132.44358963   23.38010809]\t[0. 0.]      \t[10000.   124.]\n",
      "14 \t221   \t[1406.19          9.60666673]  \t[3127.14890604   21.89486898]\t[0. 0.]      \t[10000.   172.]\n",
      "15 \t246   \t[1344.58          9.50666673]  \t[3049.14403567   21.34018012]\t[0. 0.]      \t[10000.   126.]\n",
      "16 \t214   \t[1299.74666667    9.9833334 ]  \t[2966.00816179   22.52886417]\t[0. 0.]      \t[10000.   129.]\n",
      "17 \t231   \t[1198.45          8.72000007]  \t[2880.61489399   20.35767502]\t[0. 0.]      \t[10000.   129.]\n",
      "18 \t235   \t[1044.45          9.06333341]  \t[2649.35499965   20.84112891]\t[0. 0.]      \t[10000.   130.]\n",
      "19 \t246   \t[972.44         9.11666674]    \t[2552.21692516   21.61919797]\t[0. 0.]      \t[10000.   130.]\n",
      "20 \t223   \t[969.11         8.97000007]    \t[2553.7942304    21.82465957]\t[0. 0.]      \t[10000.   131.]\n",
      "21 \t247   \t[912.29333333   8.23666674]    \t[2493.93986976   20.10805778]\t[0. 0.]      \t[10000.   114.]\n",
      "22 \t221   \t[894.17         7.92333341]    \t[2492.53181346   21.02928405]\t[0. 0.]      \t[10000.   131.]\n",
      "23 \t231   \t[833.41         7.56000008]    \t[2373.83363259   19.25806495]\t[0. 0.]      \t[10000.   131.]\n",
      "24 \t200   \t[850.22666667   8.52666674]    \t[2375.1303421    20.16538175]\t[0. 0.]      \t[10000.   107.]\n",
      "25 \t226   \t[807.96333333  10.47666674]    \t[2199.88520806   24.09141176]\t[0. 0.]      \t[10000.   130.]\n",
      "26 \t220   \t[763.69         9.58666674]    \t[2137.47954545   23.09810571]\t[0. 0.]      \t[10000.   140.]\n",
      "27 \t233   \t[701.16333333  11.05000007]    \t[1930.46674408   23.65334716]\t[0. 0.]      \t[10000.   143.]\n",
      "28 \t236   \t[811.65666667  10.03000007]    \t[2201.85007334   23.28022978]\t[0. 0.]      \t[10000.   168.]\n",
      "29 \t223   \t[755.63666667   9.52333341]    \t[2139.20940801   21.64061276]\t[0. 0.]      \t[10000.   110.]\n",
      "30 \t229   \t[799.05         9.03666674]    \t[2265.40364928   20.92005388]\t[0. 0.]      \t[10000.   124.]\n",
      "31 \t212   \t[874.51666667   7.62000008]    \t[2436.92985326   18.23811756]\t[0. 0.]      \t[10000.    96.]\n",
      "32 \t239   \t[863.55666667   9.54666674]    \t[2315.26313266   19.46521224]\t[0. 0.]      \t[10000.    96.]\n",
      "33 \t226   \t[691.64        10.11666674]    \t[1984.10787099   20.17679494]\t[0. 0.]      \t[10000.   107.]\n",
      "34 \t239   \t[728.02666667  10.43666674]    \t[2058.49685595   21.80181921]\t[0. 0.]      \t[10000.   107.]\n",
      "35 \t224   \t[745.22333333  10.99333341]    \t[2071.52808496   24.29814713]\t[0. 0.]      \t[10000.   156.]\n",
      "36 \t210   \t[899.24666667   9.24333341]    \t[2436.98838306   21.67342738]\t[0. 0.]      \t[10000.   156.]\n",
      "37 \t227   \t[823.67        10.11000007]    \t[2272.58943669   23.90908959]\t[0. 0.]      \t[10000.   156.]\n",
      "38 \t222   \t[935.45666667   7.88333341]    \t[2548.4803514    19.61554794]\t[0. 0.]      \t[10000.   129.]\n",
      "39 \t228   \t[882.98333333   8.56000007]    \t[2433.97727113   20.57684132]\t[0. 0.]      \t[10000.   156.]\n",
      "40 \t227   \t[775.59333333   7.11000008]    \t[2316.28008409   17.38748301]\t[0. 0.]      \t[10000.    87.]\n",
      "41 \t234   \t[875.96666667   8.15666674]    \t[2433.62804037   19.06284661]\t[0. 0.]      \t[10000.   124.]\n",
      "42 \t226   \t[763.40666667   8.67000008]    \t[2197.73709861   20.41995181]\t[0. 0.]      \t[10000.   125.]\n",
      "43 \t235   \t[810.11333333   8.09000007]    \t[2315.17701422   19.012502  ]\t[0. 0.]      \t[10000.   144.]\n",
      "44 \t212   \t[771.48         8.14666674]    \t[2202.58351857   19.38603847]\t[0. 0.]      \t[10000.   144.]\n",
      "45 \t216   \t[840.71        9.5733334]      \t[2261.86040814   20.3808232 ]\t[0. 0.]      \t[10000.   133.]\n",
      "46 \t235   \t[782.69       10.0133334]      \t[2137.46444194   20.48576304]\t[0. 0.]      \t[10000.   114.]\n",
      "47 \t228   \t[703.28         9.68666674]    \t[2015.56178809   21.92856176]\t[0. 0.]      \t[10000.   127.]\n",
      "48 \t247   \t[874.47666667   9.38333341]    \t[2379.65818612   21.35656935]\t[0. 0.]      \t[10000.   129.]\n",
      "49 \t211   \t[744.02333333  10.11666674]    \t[2064.79456027   20.67259992]\t[0. 0.]      \t[10000.    98.]\n",
      "50 \t223   \t[799.08666667   8.71333341]    \t[2260.7060842    20.60803616]\t[0. 0.]      \t[10000.   131.]\n",
      "51 \t229   \t[775.79         9.02000007]    \t[2190.81013765   20.25437233]\t[0. 0.]      \t[10000.   143.]\n",
      "52 \t236   \t[689.18666667   8.33333341]    \t[2058.05899296   18.4750883 ]\t[0. 0.]      \t[10000.    88.]\n",
      "53 \t229   \t[795.9          8.68666674]    \t[2256.63388036   18.94857482]\t[0. 0.]      \t[10000.    92.]\n",
      "54 \t218   \t[795.26666667   9.94333341]    \t[2195.58224219   20.55594287]\t[0. 0.]      \t[10000.   120.]\n",
      "55 \t220   \t[816.93666667   8.12666674]    \t[2323.74042139   19.21901717]\t[0. 0.]      \t[10000.    88.]\n",
      "56 \t241   \t[792.15        10.75333341]    \t[2144.28035034   22.66199066]\t[0. 0.]      \t[10000.   122.]\n",
      "57 \t228   \t[800.83        11.80666673]    \t[2056.70976913   20.64031542]\t[0. 0.]      \t[10000.    99.]\n",
      "58 \t223   \t[826.40666667  10.14000007]    \t[2192.517348    19.9037785]  \t[0. 0.]      \t[10000.    92.]\n",
      "59 \t205   \t[791.57         9.17000007]    \t[2208.60512506   21.22328357]\t[0. 0.]      \t[10000.   134.]\n",
      "60 \t241   \t[888.75666667   6.13000008]    \t[2539.49130027   15.74800831]\t[0. 0.]      \t[10000.    92.]\n",
      "61 \t217   \t[850.16         9.16333341]    \t[2321.59492327   20.3159212 ]\t[0. 0.]      \t[10000.   128.]\n",
      "62 \t224   \t[905.29333333   9.57000007]    \t[2436.49524125   21.54232497]\t[0. 0.]      \t[10000.   132.]\n",
      "63 \t216   \t[891.58666667   9.84333341]    \t[2380.96940674   21.41242912]\t[0. 0.]      \t[10000.   132.]\n",
      "64 \t233   \t[807.94333333   8.80000007]    \t[2258.11922629   19.59914961]\t[0. 0.]      \t[10000.    96.]\n",
      "65 \t235   \t[953.64666667   7.59666674]    \t[2601.80761942   19.69553218]\t[0. 0.]      \t[10000.   131.]\n",
      "66 \t219   \t[932.81         8.29333341]    \t[2545.84981501   20.86929054]\t[0. 0.]      \t[10000.   131.]\n",
      "67 \t231   \t[769.81333333   8.74000007]    \t[2202.11239309   20.40683869]\t[0. 0.]      \t[10000.   131.]\n",
      "68 \t232   \t[805.15         6.64333341]    \t[2378.7625258    17.96355907]\t[0. 0.]      \t[10000.   118.]\n",
      "69 \t227   \t[815.9          8.09666674]    \t[2328.34213766   20.45354055]\t[0. 0.]      \t[10000.   118.]\n",
      "70 \t226   \t[868.31333333   9.48333341]    \t[2327.65231836   21.59096387]\t[0. 0.]      \t[10000.   123.]\n",
      "71 \t230   \t[905.           8.84333341]    \t[2383.26778465   19.57852874]\t[0. 0.]      \t[10000.    95.]\n",
      "72 \t221   \t[940.54333333   8.30000007]    \t[2442.46275198   17.97711505]\t[0. 0.]      \t[10000.    90.]\n",
      "73 \t224   \t[946.29         7.92333341]    \t[2541.01192951   17.99807733]\t[0. 0.]      \t[10000.    85.]\n",
      "74 \t238   \t[870.77666667   8.87333341]    \t[2373.72022785   19.67411042]\t[0. 0.]      \t[10000.   129.]\n",
      "75 \t235   \t[958.04         8.72666674]    \t[2549.68412783   19.3621268 ]\t[0. 0.]      \t[10000.   115.]\n",
      "76 \t219   \t[897.15333333   7.44666674]    \t[2492.400997     17.82901627]\t[0. 0.]      \t[10000.    91.]\n",
      "77 \t226   \t[811.67         7.95333341]    \t[2314.36329785   18.53387406]\t[0. 0.]      \t[10000.   130.]\n",
      "78 \t230   \t[807.05666667   9.08333341]    \t[2271.59600578   22.38175717]\t[0. 0.]      \t[10000.   130.]\n",
      "79 \t232   \t[880.58666667   7.27666674]    \t[2495.30553423   18.826049  ]\t[0. 0.]      \t[10000.   130.]\n",
      "80 \t216   \t[951.27         6.26666674]    \t[2647.84277172   15.63208947]\t[0. 0.]      \t[10000.    83.]\n",
      "81 \t214   \t[906.31333333   7.83333341]    \t[2491.24102042   18.89459061]\t[0. 0.]      \t[10000.   110.]\n",
      "82 \t216   \t[927.83666667   7.76333341]    \t[2550.83081955   19.36992482]\t[0. 0.]      \t[10000.   110.]\n",
      "83 \t244   \t[1129.03          7.37000007]  \t[2840.27865929   18.05140158]\t[0. 0.]      \t[10000.   134.]\n",
      "84 \t227   \t[1085.89          8.28666674]  \t[2741.95381518   19.03464791]\t[0. 0.]      \t[10000.   116.]\n",
      "85 \t238   \t[1160.14333333   11.36666674]  \t[2749.47022705   24.41636515]\t[0. 0.]      \t[10000.   154.]\n",
      "86 \t222   \t[1044.84666667    9.28666674]  \t[2651.12378244   21.85263876]\t[0. 0.]      \t[10000.   154.]\n",
      "87 \t213   \t[1110.91666667   10.4433334 ]  \t[2697.96028691   21.87738834]\t[0. 0.]      \t[10000.    88.]\n",
      "88 \t230   \t[994.69         8.81000007]    \t[2600.49784604   20.84595641]\t[0. 0.]      \t[10000.   131.]\n",
      "89 \t222   \t[974.63333333   8.86333341]    \t[2552.78025276   20.29001366]\t[0. 0.]      \t[10000.   101.]\n"
     ]
    },
    {
     "name": "stdout",
     "output_type": "stream",
     "text": [
      "90 \t239   \t[1021.63333333    8.48333341]  \t[2650.45444887   19.80462204]\t[0. 0.]      \t[10000.   111.]\n",
      "91 \t229   \t[1076.89          8.01333341]  \t[2741.65086847   18.45606913]\t[0. 0.]      \t[10000.    92.]\n",
      "92 \t230   \t[966.54333333  10.0233334 ]    \t[2494.65932907   22.40779896]\t[0. 0.]      \t[10000.   135.]\n",
      "93 \t220   \t[948.07666667  10.6933334 ]    \t[2433.4366982   20.8111978]  \t[0. 0.]      \t[10000.    96.]\n",
      "94 \t235   \t[1048.80666667    9.4733334 ]  \t[2639.23467997   19.74375735]\t[0. 0.]      \t[10000.   114.]\n",
      "95 \t231   \t[900.34        10.48000007]    \t[2387.0976459    22.26438707]\t[0. 0.]      \t[10000.    92.]\n",
      "96 \t237   \t[1005.45          8.84333341]  \t[2606.93105026   20.83583742]\t[0. 0.]      \t[10000.   153.]\n",
      "97 \t224   \t[1070.79666667    8.52666674]  \t[2743.71345965   20.17265363]\t[0. 0.]      \t[10000.   121.]\n",
      "98 \t224   \t[993.51       11.1033334]      \t[2489.92286023   22.92391736]\t[0. 0.]      \t[10000.   129.]\n",
      "99 \t217   \t[860.31333333  10.20333341]    \t[2327.49409491   22.53239122]\t[0. 0.]      \t[10000.   139.]\n",
      "100\t227   \t[875.87         8.73000007]    \t[2436.95499201   20.45964561]\t[0. 0.]      \t[10000.   105.]\n",
      "101\t233   \t[824.93666667   7.38000008]    \t[2383.26887544   19.12456358]\t[0. 0.]      \t[10000.   145.]\n",
      "102\t226   \t[880.75666667   6.90333341]    \t[2493.10015659   17.67825372]\t[0. 0.]      \t[10000.    96.]\n",
      "103\t232   \t[919.20666667   7.46666674]    \t[2543.68574657   18.13694814]\t[0. 0.]      \t[10000.   114.]\n",
      "104\t235   \t[808.71666667   7.58333341]    \t[2320.29856622   18.20191531]\t[0. 0.]      \t[10000.    89.]\n",
      "105\t239   \t[781.10333333   7.83333341]    \t[2265.6724166    19.14537945]\t[0. 0.]      \t[10000.   139.]\n",
      "106\t231   \t[762.62666667   7.49333341]    \t[2256.58885059   17.97655754]\t[0. 0.]      \t[10000.   121.]\n",
      "107\t224   \t[858.10666667   8.06666674]    \t[2382.65274193   18.53812884]\t[0. 0.]      \t[10000.   121.]\n",
      "108\t231   \t[779.72666667   9.08333341]    \t[2206.08420932   20.34935841]\t[0. 0.]      \t[10000.   123.]\n",
      "109\t237   \t[836.24         7.79666674]    \t[2382.25838979   18.13363324]\t[0. 0.]      \t[10000.   100.]\n",
      "110\t223   \t[894.99         7.90666674]    \t[2494.41316477   18.84368916]\t[0. 0.]      \t[10000.    93.]\n",
      "111\t222   \t[769.85        10.27000007]    \t[2076.62189806   20.40074587]\t[0. 0.]      \t[10000.   102.]\n",
      "112\t231   \t[704.52        10.73666674]    \t[1937.74003148   21.30353619]\t[0. 0.]      \t[10000.    92.]\n",
      "113\t227   \t[839.82666667   8.04000008]    \t[2383.6417523    19.50534283]\t[0. 0.]      \t[10000.   124.]\n",
      "114\t240   \t[782.86         8.19000008]    \t[2256.66057861   19.19411104]\t[0. 0.]      \t[10000.    96.]\n",
      "115\t228   \t[804.48333333   8.36333341]    \t[2318.54288647   19.57782728]\t[0. 0.]      \t[10000.   110.]\n",
      "116\t217   \t[804.43        10.18666674]    \t[2206.73588627   21.95021232]\t[0. 0.]      \t[10000.   110.]\n",
      "117\t223   \t[729.28         9.79333341]    \t[2069.88296648   21.40850191]\t[0. 0.]      \t[10000.   125.]\n",
      "118\t231   \t[884.33333333   7.83000007]    \t[2438.78336243   18.6908471 ]\t[0. 0.]      \t[10000.   122.]\n",
      "119\t232   \t[803.25         8.45666674]    \t[2258.52907018   18.97616367]\t[0. 0.]      \t[10000.   122.]\n",
      "120\t228   \t[760.98333333   8.50000008]    \t[2197.52079771   19.75373379]\t[0. 0.]      \t[10000.   122.]\n",
      "121\t226   \t[714.34         9.51333341]    \t[2076.36418395   21.29764825]\t[0. 0.]      \t[10000.   122.]\n",
      "122\t238   \t[755.37         8.17000008]    \t[2211.96340832   20.84756817]\t[0. 0.]      \t[10000.    96.]\n",
      "123\t233   \t[726.38666667   8.92333341]    \t[2056.13363472   18.37400666]\t[0. 0.]      \t[10000.    94.]\n",
      "124\t214   \t[733.04333333   8.54333341]    \t[2132.48402607   19.65540098]\t[0. 0.]      \t[10000.    93.]\n",
      "125\t223   \t[620.30333333   9.02333341]    \t[1837.90526179   19.57062733]\t[0. 0.]      \t[10000.    93.]\n",
      "126\t219   \t[707.15         7.07333341]    \t[2190.57082078   17.2395269 ]\t[0. 0.]      \t[10000.    85.]\n",
      "127\t221   \t[741.33666667   9.07333341]    \t[2130.71765922   19.72311556]\t[0. 0.]      \t[10000.    92.]\n",
      "128\t243   \t[816.12         8.59000007]    \t[2263.47270485   19.47242235]\t[0. 0.]      \t[10000.    98.]\n",
      "129\t209   \t[763.57333333   9.31333341]    \t[2140.33702127   21.46800303]\t[0. 0.]      \t[10000.   136.]\n",
      "130\t233   \t[800.89666667   9.20000007]    \t[2206.37165485   20.39967317]\t[0. 0.]      \t[10000.   130.]\n",
      "131\t219   \t[829.67333333   9.3933334 ]    \t[2257.60224869   20.17172826]\t[0. 0.]      \t[10000.   130.]\n",
      "132\t236   \t[854.09666667   7.92666674]    \t[2377.48803165   18.52785168]\t[0. 0.]      \t[10000.    96.]\n",
      "133\t243   \t[788.92333333   8.57333341]    \t[2256.96262651   20.12489224]\t[0. 0.]      \t[10000.   110.]\n",
      "134\t242   \t[760.46333333   8.04333341]    \t[2201.80548687   19.60887863]\t[0. 0.]      \t[10000.   128.]\n",
      "135\t239   \t[809.89333333   8.39333341]    \t[2321.18058366   19.81124145]\t[0. 0.]      \t[10000.   128.]\n",
      "136\t233   \t[818.68333333   9.41666674]    \t[2275.08835353   21.86419571]\t[0. 0.]      \t[10000.   134.]\n",
      "137\t239   \t[853.24         7.24333341]    \t[2432.45260503   17.97620987]\t[0. 0.]      \t[10000.   115.]\n",
      "138\t218   \t[775.49666667   7.73333341]    \t[2267.48847038   19.91855637]\t[0. 0.]      \t[10000.   124.]\n",
      "139\t228   \t[767.33666667   8.36333341]    \t[2201.12325643   19.55261247]\t[0. 0.]      \t[10000.   124.]\n",
      "140\t226   \t[874.33666667   6.78000008]    \t[2488.51489782   17.01504038]\t[0. 0.]      \t[10000.   130.]\n",
      "141\t226   \t[783.91333333   8.85000007]    \t[2198.77908679   19.69045874]\t[0. 0.]      \t[10000.   131.]\n",
      "142\t236   \t[771.05666667   7.98333341]    \t[2253.29959839   17.49637261]\t[0. 0.]      \t[10000.    89.]\n",
      "143\t233   \t[680.15333333   7.88000008]    \t[2064.67736539   18.59835832]\t[0. 0.]      \t[10000.    96.]\n",
      "144\t204   \t[692.06333333   7.48666675]    \t[2127.22890932   18.00323548]\t[0. 0.]      \t[10000.    96.]\n",
      "145\t221   \t[752.57666667   8.48000008]    \t[2190.24611649   19.09230906]\t[0. 0.]      \t[10000.   139.]\n",
      "146\t231   \t[819.62         9.50666674]    \t[2255.43221629   19.6240487 ]\t[0. 0.]      \t[10000.    96.]\n",
      "147\t217   \t[773.44         8.84666674]    \t[2249.93793242   19.45447217]\t[0. 0.]      \t[10000.   135.]\n",
      "148\t233   \t[720.26333333  10.73333341]    \t[2003.52638299   21.86356682]\t[0. 0.]      \t[10000.   135.]\n",
      "149\t228   \t[820.49         8.19666674]    \t[2322.020081    18.8196171]  \t[0. 0.]      \t[10000.   139.]\n",
      "150\t218   \t[850.78666667   8.48000008]    \t[2387.51433249   20.17513979]\t[0. 0.]      \t[10000.   102.]\n",
      "151\t221   \t[869.07333333   9.25666674]    \t[2382.44249625   20.69550968]\t[0. 0.]      \t[10000.   102.]\n",
      "152\t218   \t[817.96333333   8.57000008]    \t[2323.13920561   20.72370057]\t[0. 0.]      \t[10000.   139.]\n",
      "153\t222   \t[800.75666667   9.36666674]    \t[2198.21290691   21.04532143]\t[0. 0.]      \t[10000.   139.]\n",
      "154\t236   \t[869.92         8.80333341]    \t[2373.67054726   19.41952594]\t[0. 0.]      \t[10000.   134.]\n",
      "155\t231   \t[844.4          7.75000008]    \t[2379.36435489   17.84939305]\t[0. 0.]      \t[10000.   102.]\n",
      "156\t228   \t[856.18333333   8.30333341]    \t[2313.98530744   17.14986845]\t[0. 0.]      \t[10000.    79.]\n",
      "157\t230   \t[866.79666667   8.01666674]    \t[2377.68578285   17.57070633]\t[0. 0.]      \t[10000.    88.]\n",
      "158\t223   \t[809.13         7.76333341]    \t[2315.04846165   17.6778766 ]\t[0. 0.]      \t[10000.   129.]\n",
      "159\t225   \t[776.70666667   7.97666674]    \t[2252.59930169   18.02986747]\t[0. 0.]      \t[10000.   101.]\n",
      "160\t220   \t[745.54666667   8.87333341]    \t[2127.60500121   19.3548604 ]\t[0. 0.]      \t[10000.   135.]\n",
      "161\t238   \t[820.49         7.86666674]    \t[2311.56790871   16.87707185]\t[0. 0.]      \t[10000.    85.]\n",
      "162\t232   \t[752.22666667   7.91333341]    \t[2204.43313393   18.98014281]\t[0. 0.]      \t[10000.   118.]\n",
      "163\t241   \t[716.30333333   7.29333341]    \t[2195.05146439   17.50830149]\t[0. 0.]      \t[10000.    92.]\n",
      "164\t235   \t[689.87         7.80666674]    \t[2120.99818633   18.38357839]\t[0. 0.]      \t[10000.    93.]\n",
      "165\t230   \t[666.23         8.55666674]    \t[1995.10926612   19.5952406 ]\t[0. 0.]      \t[10000.   107.]\n",
      "166\t222   \t[801.18         8.77333341]    \t[2273.23911507   22.37324192]\t[0. 0.]      \t[10000.   153.]\n",
      "167\t218   \t[774.38333333   8.26666674]    \t[2266.26193464   20.74790482]\t[0. 0.]      \t[10000.   139.]\n",
      "168\t227   \t[759.28333333   8.76333341]    \t[2207.35665666   21.9933472 ]\t[0. 0.]      \t[10000.   139.]\n",
      "169\t218   \t[730.31666667   8.50333341]    \t[2134.76555849   20.13661642]\t[0. 0.]      \t[10000.   107.]\n",
      "170\t217   \t[742.69666667  10.19666674]    \t[2069.16169772   21.25554016]\t[0. 0.]      \t[10000.   113.]\n",
      "171\t244   \t[870.74666667   8.65333341]    \t[2379.9184263    19.30560767]\t[0. 0.]      \t[10000.   100.]\n",
      "172\t238   \t[885.39333333   8.90666674]    \t[2377.84942303   18.87197095]\t[0. 0.]      \t[10000.   100.]\n",
      "173\t214   \t[802.21666667   8.57333341]    \t[2264.55389052   20.59396241]\t[0. 0.]      \t[10000.   156.]\n",
      "174\t213   \t[820.22333333  10.64000007]    \t[2211.50841436   23.69761729]\t[0. 0.]      \t[10000.   156.]\n"
     ]
    },
    {
     "name": "stdout",
     "output_type": "stream",
     "text": [
      "175\t218   \t[905.65         8.96666674]    \t[2446.11554391   21.48392161]\t[0. 0.]      \t[10000.   171.]\n",
      "176\t245   \t[881.59666667   8.38666674]    \t[2437.09052779   19.71388227]\t[0. 0.]      \t[10000.   125.]\n",
      "177\t232   \t[947.04666667   7.77000007]    \t[2547.91787763   18.75980896]\t[0. 0.]      \t[10000.    88.]\n",
      "178\t215   \t[812.04666667   6.68333341]    \t[2380.52091452   17.4919902 ]\t[0. 0.]      \t[10000.    96.]\n",
      "179\t230   \t[757.62666667   8.06000008]    \t[2196.75375208   19.03338467]\t[0. 0.]      \t[10000.   108.]\n",
      "180\t214   \t[678.28666667  10.63000007]    \t[1926.18667263   22.60648355]\t[0. 0.]      \t[10000.   108.]\n",
      "181\t219   \t[700.53666667   9.88000007]    \t[1997.57335168   21.59009646]\t[0. 0.]      \t[10000.   108.]\n",
      "182\t231   \t[719.58         8.97666674]    \t[2082.83789822   21.59049453]\t[0. 0.]      \t[10000.   150.]\n",
      "183\t218   \t[817.19666667   6.84666674]    \t[2382.95181753   17.52511972]\t[0. 0.]      \t[10000.   150.]\n",
      "184\t217   \t[779.55333333   7.94000008]    \t[2265.46354502   19.43578483]\t[0. 0.]      \t[10000.   128.]\n",
      "185\t236   \t[727.33666667   9.49000007]    \t[2068.9768365    20.44447518]\t[0. 0.]      \t[10000.   128.]\n",
      "186\t224   \t[881.97333333   8.87666674]    \t[2376.04933155   19.41978684]\t[0. 0.]      \t[10000.   130.]\n",
      "187\t234   \t[820.19666667  10.43000007]    \t[2212.38825209   23.6455443 ]\t[0. 0.]      \t[10000.   139.]\n",
      "188\t240   \t[861.53333333   8.36000008]    \t[2393.58538366   21.38419351]\t[0. 0.]      \t[10000.   150.]\n",
      "189\t242   \t[814.62         9.04333341]    \t[2270.38424111   22.02759151]\t[0. 0.]      \t[10000.   150.]\n",
      "190\t231   \t[867.06666667   9.17000007]    \t[2318.93238127   19.9093219 ]\t[0. 0.]      \t[10000.   114.]\n",
      "191\t232   \t[797.11        10.75000007]    \t[2147.35491351   23.46886232]\t[0. 0.]      \t[10000.   131.]\n",
      "192\t239   \t[690.89666667   9.46333341]    \t[2002.93786207   21.73128285]\t[0. 0.]      \t[10000.   124.]\n",
      "193\t240   \t[788.85666667   7.21333341]    \t[2322.2280428   18.8158042]  \t[0. 0.]      \t[10000.   124.]\n",
      "194\t225   \t[857.44333333   7.43666674]    \t[2430.55889186   17.94582554]\t[0. 0.]      \t[10000.    88.]\n",
      "195\t223   \t[717.32666667   8.57000008]    \t[2133.47874451   19.91611823]\t[0. 0.]      \t[10000.   103.]\n",
      "196\t229   \t[820.53666667   7.76000008]    \t[2377.17998239   18.09039521]\t[0. 0.]      \t[10000.   103.]\n",
      "197\t220   \t[840.02333333   8.78666674]    \t[2378.97201107   20.45990765]\t[0. 0.]      \t[10000.   103.]\n",
      "198\t242   \t[804.17         7.41000008]    \t[2377.1798588    18.51887053]\t[0. 0.]      \t[10000.   136.]\n",
      "199\t232   \t[771.32333333   7.05666674]    \t[2320.57110617   18.24226195]\t[0. 0.]      \t[10000.    92.]\n",
      "200\t233   \t[805.15666667   6.65000008]    \t[2378.73902985   16.11792477]\t[0. 0.]      \t[10000.    90.]\n",
      "201\t235   \t[849.40333333   8.47000007]    \t[2373.94113813   18.6321165 ]\t[0. 0.]      \t[10000.   105.]\n",
      "202\t233   \t[970.35         8.99666674]    \t[2546.53282867   20.96783221]\t[0. 0.]      \t[10000.   169.]\n",
      "203\t221   \t[846.94666667   9.43333341]    \t[2327.77308111   21.89563627]\t[0. 0.]      \t[10000.   169.]\n",
      "204\t227   \t[787.77333333   8.12333341]    \t[2262.57574502   19.13064176]\t[0. 0.]      \t[10000.   115.]\n",
      "205\t224   \t[780.68333333   8.65333341]    \t[2199.9588397   18.8983197]  \t[0. 0.]      \t[10000.   111.]\n",
      "206\t228   \t[839.83666667   9.40666674]    \t[2267.9019945    20.65287601]\t[0. 0.]      \t[10000.   111.]\n",
      "207\t228   \t[906.98       12.1033334]      \t[2260.03606452   22.12222082]\t[0. 0.]      \t[10000.    96.]\n",
      "208\t215   \t[920.61666667   8.42666674]    \t[2484.08634238   18.34715112]\t[0. 0.]      \t[10000.    93.]\n",
      "209\t236   \t[744.76         8.94666674]    \t[2150.42175144   22.50430672]\t[0. 0.]      \t[10000.   172.]\n",
      "210\t233   \t[748.20666667   9.42666674]    \t[2136.11847142   20.76819574]\t[0. 0.]      \t[10000.   129.]\n",
      "211\t231   \t[823.45         8.85333341]    \t[2319.53146005   19.91327415]\t[0. 0.]      \t[10000.   132.]\n",
      "212\t218   \t[818.05         8.63333341]    \t[2320.98233962   19.60235243]\t[0. 0.]      \t[10000.   129.]\n",
      "213\t237   \t[757.02333333   6.42666675]    \t[2317.83002744   17.65194856]\t[0. 0.]      \t[10000.   120.]\n",
      "214\t219   \t[811.39         6.93333341]    \t[2376.18423344   16.77405401]\t[0. 0.]      \t[10000.    92.]\n",
      "215\t216   \t[804.91666667   9.04333341]    \t[2259.13328729   20.69061271]\t[0. 0.]      \t[10000.   128.]\n",
      "216\t224   \t[924.87333333   8.69333341]    \t[2499.32134601   20.77577004]\t[0. 0.]      \t[10000.   125.]\n",
      "217\t233   \t[924.99         9.80666674]    \t[2439.68579737   21.63799022]\t[0. 0.]      \t[10000.   131.]\n",
      "218\t243   \t[1025.84333333    9.04666674]  \t[2652.59865895   21.73624824]\t[0. 0.]      \t[10000.   131.]\n",
      "219\t221   \t[913.89         8.38666674]    \t[2488.98723538   18.8319893 ]\t[0. 0.]      \t[10000.   131.]\n",
      "220\t216   \t[814.56333333   8.90666674]    \t[2311.144422     19.41179936]\t[0. 0.]      \t[10000.   106.]\n",
      "221\t237   \t[759.13         9.11333341]    \t[2189.05797695   20.38546429]\t[0. 0.]      \t[10000.   136.]\n",
      "222\t233   \t[883.53333333   7.26333341]    \t[2494.68730617   18.42644805]\t[0. 0.]      \t[10000.   110.]\n",
      "223\t239   \t[820.11         8.43333341]    \t[2324.89347524   19.72863116]\t[0. 0.]      \t[10000.   126.]\n",
      "224\t227   \t[838.69333333   9.74666674]    \t[2267.09358856   21.27633633]\t[0. 0.]      \t[10000.   126.]\n",
      "225\t231   \t[873.93666667  10.5333334 ]    \t[2317.44258454   22.5904601 ]\t[0. 0.]      \t[10000.   135.]\n",
      "226\t239   \t[820.85333333   9.56666674]    \t[2271.46511863   22.0400897 ]\t[0. 0.]      \t[10000.   121.]\n",
      "227\t215   \t[925.09666667   8.41333341]    \t[2496.51707531   19.97988541]\t[0. 0.]      \t[10000.   131.]\n",
      "228\t227   \t[833.04333333   8.86000007]    \t[2322.6141152    21.27017627]\t[0. 0.]      \t[10000.   128.]\n",
      "229\t234   \t[910.98666667   7.62666674]    \t[2490.7771036    18.65102199]\t[0. 0.]      \t[10000.   131.]\n",
      "230\t230   \t[895.85         9.35666674]    \t[2381.67664209   21.41641397]\t[0. 0.]      \t[10000.   139.]\n",
      "231\t222   \t[932.91666667  10.13000007]    \t[2438.78791678   22.24679225]\t[0. 0.]      \t[10000.   139.]\n",
      "232\t244   \t[982.68666667   9.74000007]    \t[2546.35810165   21.60553321]\t[0. 0.]      \t[10000.   141.]\n",
      "233\t236   \t[967.20333333   9.48333341]    \t[2550.88018835   21.82986611]\t[0. 0.]      \t[10000.   136.]\n",
      "234\t216   \t[855.87         9.11333341]    \t[2387.71597692   22.08982769]\t[0. 0.]      \t[10000.   138.]\n",
      "235\t223   \t[851.44666667   9.04000008]    \t[2388.40438518   23.64920856]\t[0. 0.]      \t[10000.   138.]\n",
      "236\t227   \t[926.45333333   9.22333341]    \t[2494.60764206   22.8181241 ]\t[0. 0.]      \t[10000.   134.]\n",
      "237\t237   \t[888.60666667   8.34333341]    \t[2432.83146942   19.62512304]\t[0. 0.]      \t[10000.   134.]\n",
      "238\t247   \t[746.28         8.30666674]    \t[2200.22633872   20.11979012]\t[0. 0.]      \t[10000.   122.]\n",
      "239\t223   \t[763.49333333   8.90666674]    \t[2204.78078804   21.01629418]\t[0. 0.]      \t[10000.   117.]\n",
      "240\t238   \t[808.55         8.94333341]    \t[2254.47623056   19.01140327]\t[0. 0.]      \t[10000.   126.]\n",
      "241\t231   \t[741.64666667   8.57000007]    \t[2130.38016056   19.09585728]\t[0. 0.]      \t[10000.    88.]\n",
      "242\t246   \t[825.04         8.35666674]    \t[2330.02094949   20.39663667]\t[0. 0.]      \t[10000.   131.]\n",
      "243\t215   \t[779.43         8.11666674]    \t[2264.48249683   20.07858862]\t[0. 0.]      \t[10000.   129.]\n",
      "244\t232   \t[704.91666667   9.46000007]    \t[1997.10627235   20.02402886]\t[0. 0.]      \t[10000.   108.]\n",
      "245\t232   \t[718.19333333  10.34666674]    \t[1990.1832284    19.63601676]\t[0. 0.]      \t[10000.    96.]\n",
      "246\t225   \t[716.74333333  10.26000007]    \t[1994.99584397   21.0728672 ]\t[0. 0.]      \t[10000.   133.]\n",
      "247\t237   \t[760.25333333   9.44666674]    \t[2137.84025186   21.12188014]\t[0. 0.]      \t[10000.   134.]\n",
      "248\t210   \t[784.36666667  10.43000007]    \t[2140.59113305   22.92098962]\t[0. 0.]      \t[10000.   130.]\n",
      "249\t231   \t[904.92        9.5233334]      \t[2381.54988756   20.77826078]\t[0. 0.]      \t[10000.   124.]\n",
      "250\t237   \t[836.45666667   9.38333341]    \t[2326.80608735   22.52989986]\t[0. 0.]      \t[10000.   131.]\n",
      "251\t224   \t[862.21333333   9.35666674]    \t[2383.22203634   22.1415775 ]\t[0. 0.]      \t[10000.   131.]\n",
      "252\t230   \t[692.63666667   8.79333341]    \t[2072.38819835   21.68418673]\t[0. 0.]      \t[10000.   128.]\n",
      "253\t220   \t[802.47333333   8.72666674]    \t[2265.10594659   20.59462602]\t[0. 0.]      \t[10000.   126.]\n",
      "254\t220   \t[881.8          6.35666674]    \t[2492.0551064   15.9977953]  \t[0. 0.]      \t[10000.   101.]\n",
      "255\t228   \t[786.58666667   7.67666674]    \t[2265.53720689   18.99417773]\t[0. 0.]      \t[10000.   115.]\n",
      "256\t216   \t[781.85         8.78666674]    \t[2195.16188792   18.66675711]\t[0. 0.]      \t[10000.   115.]\n",
      "257\t227   \t[691.26333333   9.20333341]    \t[1989.21385828   19.23370273]\t[0. 0.]      \t[10000.   121.]\n",
      "258\t228   \t[730.93         9.24666674]    \t[2069.30555624   19.92433573]\t[0. 0.]      \t[10000.   135.]\n",
      "259\t216   \t[769.48         9.49000007]    \t[2143.37312266   21.23087136]\t[0. 0.]      \t[10000.   131.]\n"
     ]
    },
    {
     "name": "stdout",
     "output_type": "stream",
     "text": [
      "260\t230   \t[800.70333333   8.64000007]    \t[2261.05329629   19.61301605]\t[0. 0.]      \t[10000.   118.]\n",
      "261\t237   \t[755.60333333   8.93333341]    \t[2137.75582937   19.61858526]\t[0. 0.]      \t[10000.    92.]\n",
      "262\t242   \t[825.02666667   8.66000008]    \t[2332.07802313   21.56782477]\t[0. 0.]      \t[10000.   122.]\n",
      "263\t230   \t[920.16666667   9.14000007]    \t[2433.11267013   20.99572334]\t[0. 0.]      \t[10000.   122.]\n",
      "264\t208   \t[900.71         8.88333341]    \t[2433.6708746    19.87988232]\t[0. 0.]      \t[10000.   121.]\n",
      "265\t221   \t[811.04        10.02000007]    \t[2196.99136815   21.66963156]\t[0. 0.]      \t[10000.   140.]\n",
      "266\t227   \t[880.47         8.99000007]    \t[2383.75679319   20.2934283 ]\t[0. 0.]      \t[10000.   142.]\n",
      "267\t235   \t[784.49333333  11.23666674]    \t[2074.8453621    23.04562115]\t[0. 0.]      \t[10000.   142.]\n",
      "268\t220   \t[846.75666667  11.1433334 ]    \t[2196.9688097    21.06441203]\t[0. 0.]      \t[10000.    92.]\n",
      "269\t239   \t[854.83         9.77000007]    \t[2261.66793195   20.07096822]\t[0. 0.]      \t[10000.   131.]\n",
      "270\t213   \t[734.78         9.83666674]    \t[2003.04729972   20.71448738]\t[0. 0.]      \t[10000.   131.]\n",
      "271\t219   \t[735.73333333   9.08000007]    \t[2077.66835071   21.12376857]\t[0. 0.]      \t[10000.   145.]\n",
      "272\t222   \t[801.22         9.36000007]    \t[2199.76354751   20.33085665]\t[0. 0.]      \t[10000.   145.]\n",
      "273\t223   \t[796.30666667   9.63000007]    \t[2198.90839872   19.5887663 ]\t[0. 0.]      \t[10000.    88.]\n",
      "274\t222   \t[790.08333333  10.8333334 ]    \t[2135.31543721   21.29566984]\t[0. 0.]      \t[10000.    88.]\n",
      "275\t247   \t[863.19333333   8.37000007]    \t[2382.77137439   19.44170171]\t[0. 0.]      \t[10000.   118.]\n",
      "276\t221   \t[971.22333333   8.94666674]    \t[2543.22800789   19.39855203]\t[0. 0.]      \t[10000.   130.]\n",
      "277\t210   \t[992.36         8.10666674]    \t[2597.29721385   18.65713325]\t[0. 0.]      \t[10000.   130.]\n",
      "278\t232   \t[827.59         8.31666674]    \t[2328.97057271   20.24359292]\t[0. 0.]      \t[10000.   108.]\n",
      "279\t242   \t[892.39         8.21666674]    \t[2444.50163249   19.94433222]\t[0. 0.]      \t[10000.   131.]\n",
      "280\t210   \t[957.37666667   8.64333341]    \t[2544.41539876   18.87775024]\t[0. 0.]      \t[10000.    93.]\n",
      "281\t222   \t[931.11333333   9.96000007]    \t[2430.55286725   19.88378901]\t[0. 0.]      \t[10000.   111.]\n",
      "282\t224   \t[1057.68666667    9.12333341]  \t[2697.25350591   20.55208313]\t[0. 0.]      \t[10000.   100.]\n",
      "283\t239   \t[840.1         10.23000007]    \t[2259.48302568   21.84789308]\t[0. 0.]      \t[10000.   125.]\n",
      "284\t230   \t[1027.41333333   10.9733334 ]  \t[2547.74564975   23.19236844]\t[0. 0.]      \t[10000.   125.]\n",
      "285\t235   \t[1034.33666667    9.9433334 ]  \t[2599.74712552   21.78975572]\t[0. 0.]      \t[10000.   125.]\n",
      "286\t234   \t[982.15        11.17000007]    \t[2435.34577165   22.29890353]\t[0. 0.]      \t[10000.   123.]\n",
      "287\t233   \t[903.54        10.79666674]    \t[2322.14458531   21.91518471]\t[0. 0.]      \t[10000.   129.]\n",
      "288\t231   \t[964.12666667  10.45666674]    \t[2436.96530764   21.69795968]\t[0. 0.]      \t[10000.   141.]\n",
      "289\t217   \t[938.10333333   8.26333341]    \t[2491.88120088   18.99352489]\t[0. 0.]      \t[10000.   139.]\n",
      "290\t242   \t[933.42666667   7.35333341]    \t[2542.59424433   17.61614282]\t[0. 0.]      \t[10000.   122.]\n",
      "291\t222   \t[826.86666667   8.57666674]    \t[2325.14246636   20.48375261]\t[0. 0.]      \t[10000.   122.]\n",
      "292\t234   \t[860.48         9.71666674]    \t[2319.72569706   21.00419928]\t[0. 0.]      \t[10000.    97.]\n",
      "293\t233   \t[807.44         8.97000007]    \t[2250.26102924   18.95791212]\t[0. 0.]      \t[10000.    92.]\n",
      "294\t224   \t[840.23         9.92000007]    \t[2263.28760813   20.93227807]\t[0. 0.]      \t[10000.   122.]\n",
      "295\t240   \t[787.13         9.57333341]    \t[2198.90200474   20.93110813]\t[0. 0.]      \t[10000.   123.]\n",
      "296\t214   \t[787.46666667   8.35333341]    \t[2262.93947236   19.66880324]\t[0. 0.]      \t[10000.   110.]\n",
      "297\t233   \t[730.43666667   9.53000007]    \t[2067.49226987   20.67726042]\t[0. 0.]      \t[10000.   110.]\n",
      "298\t237   \t[831.30666667   9.70333341]    \t[2258.03200286   21.29746434]\t[0. 0.]      \t[10000.   140.]\n",
      "299\t224   \t[813.03666667  10.89666674]    \t[2129.16641325   21.88711921]\t[0. 0.]      \t[10000.   140.]\n",
      "300\t231   \t[869.57333333   8.84000007]    \t[2378.04252232   19.87379511]\t[0. 0.]      \t[10000.   131.]\n",
      "[Individual(), Individual({19}), Individual({14}), Individual({3}), Individual({1}), Individual({0, 19}), Individual({19, 14}), Individual({19, 3}), Individual({1, 19}), Individual({1, 14}), Individual({3, 4}), Individual({1, 3}), Individual({0, 19, 3}), Individual({0, 1, 19}), Individual({3, 19, 14}), Individual({1, 19, 14}), Individual({19, 3, 4}), Individual({3, 1, 19}), Individual({1, 3, 14}), Individual({1, 3, 4}), Individual({0, 1, 19, 14}), Individual({0, 3, 19, 4}), Individual({11, 3, 19, 14}), Individual({11, 1, 3, 19}), Individual({19, 1, 2, 3})]\n"
     ]
    }
   ],
   "source": [
    "from numpy import array\n",
    "import numpy\n",
    "import random\n",
    "from deap import base, creator, tools, algorithms\n",
    "\n",
    "###  Multi-objective Optimization Problem  ###\n",
    "\n",
    "IND_INIT_SIZE = 5\n",
    "\n",
    "MAX_WEIGHT = 2000 # kg\n",
    "MAX_SIZE = 1500 # m**3\n",
    "\n",
    "\n",
    "# Create the item dictionary:\n",
    "\n",
    "r = array([[213, 508,  22],  # 1st arg : weight / 2nd arg : size / 3rd arg : value\n",
    "       [594, 354,  50],\n",
    "       [275, 787,  43],\n",
    "       [652, 218,  46],\n",
    "       [728, 183,  43],\n",
    "       [856, 308,  33],\n",
    "       [727, 482,  45],\n",
    "       [762, 683,  26],\n",
    "       [707, 450,  19],\n",
    "       [909, 309,  45],\n",
    "       [979, 247,  42],\n",
    "       [259, 705,  42],\n",
    "       [260, 543,  14],\n",
    "       [899, 825,  17],\n",
    "       [446, 360,  35],\n",
    "       [491, 818,  47],\n",
    "       [647, 404,  17],\n",
    "       [604, 623,  32],\n",
    "       [900, 840,  45],\n",
    "       [374, 127,  33]] )\n",
    "\n",
    "\n",
    "NBR_ITEMS = r.shape[0]\n",
    "\n",
    "items = {}\n",
    "# Create random items and store them in the items' dictionary.\n",
    "for i in range(NBR_ITEMS):\n",
    "    items[i] = ( r[i][0] , r[i][1] , r[i][2] )\n",
    "\n",
    "\n",
    "creator.create(\"Fitness\", base.Fitness, weights=(-1.0, 1.0 ))  # Note here <- I used only two weights!  (at first, I tried weights=(-1.0 , -1.0, 1.0)) but it crashes. With deap, you cannot do such a thing.\n",
    "\n",
    "creator.create(\"Individual\", set, fitness=creator.Fitness)\n",
    "\n",
    "toolbox = base.Toolbox()\n",
    "\n",
    "# Attribute generator\n",
    "toolbox.register(\"attr_item\", random.randrange, NBR_ITEMS)\n",
    "\n",
    "# Structure initializers\n",
    "toolbox.register(\"individual\", tools.initRepeat, creator.Individual, toolbox.attr_item, n=IND_INIT_SIZE) #\n",
    "toolbox.register(\"population\", tools.initRepeat, list, toolbox.individual)\n",
    "\n",
    "\n",
    "def evaluation(individual):\n",
    "    weight = 0.0\n",
    "    size =0.0\n",
    "    value = 0.0\n",
    "\n",
    "    # Maximize or Minimize Conditions\n",
    "    for item in individual:\n",
    "        weight += items[item][0]  # It must be minimized.\n",
    "        size += items[item][1]  # It must be minimized.\n",
    "        value += items[item][2]  # It must be maximized.\n",
    "\n",
    "    # Limit Conditions\n",
    "    if weight > MAX_WEIGHT or size > MAX_SIZE:\n",
    "        return 10000, 0\n",
    "\n",
    "    if value == 0:\n",
    "        value = 0.0000001\n",
    "\n",
    "    MinFitess_score = weight + size   # NOTE : Minimize weight, size\n",
    "    MaxFitenss_score = value  # NOTE : Maximize weight, size\n",
    "\n",
    "    return MinFitess_score , MaxFitenss_score,\n",
    "\n",
    "\n",
    "\n",
    "def cxSet(ind1, ind2):\n",
    "    \"\"\"Apply a crossover operation on input sets. The first child is the\n",
    "    intersection of the two sets, the second child is the difference of the\n",
    "    two sets.\n",
    "    \"\"\"\n",
    "    temp = set(ind1)  # Used in order to keep type\n",
    "    ind1 &= ind2  # Intersection (inplace)\n",
    "    ind2 ^= temp  # Symmetric Difference (inplace)\n",
    "    return ind1, ind2\n",
    "\n",
    "\n",
    "def mutSet(individual):\n",
    "    \"\"\"Mutation that pops or add an element.\"\"\"\n",
    "    if random.random() < 0.5:\n",
    "        if len(individual) > 0:  # We cannot pop from an empty set\n",
    "            individual.remove(random.choice(sorted(tuple(individual))))\n",
    "    else:\n",
    "        individual.add(random.randrange(NBR_ITEMS))\n",
    "    return individual,  # NOTE comma(,) , if there's no comma, an error occurs.\n",
    "\n",
    "\n",
    "\n",
    "toolbox.register(\"mate\", cxSet)\n",
    "toolbox.register(\"mutate\", mutSet)\n",
    "toolbox.register(\"select\", tools.selNSGA2) # NSGA-2 applies to multi-objective problems such as knapsack problem\n",
    "toolbox.register(\"evaluate\", evaluation)\n",
    "\n",
    "\n",
    "def main():\n",
    "    ngen = 300  # a number of generation  < adjustable value >\n",
    "\n",
    "    pop = toolbox.population(n= 300)\n",
    "    hof = tools.ParetoFront() # a ParetoFront may be used to retrieve the best non dominated individuals of the evolution\n",
    "    stats = tools.Statistics(lambda ind: ind.fitness.values)\n",
    "    stats.register(\"avg\", numpy.mean, axis=0)\n",
    "    stats.register(\"std\", numpy.std, axis=0)\n",
    "    stats.register(\"min\", numpy.min, axis=0)\n",
    "    stats.register(\"max\", numpy.max, axis=0)\n",
    "\n",
    "    algorithms.eaSimple(pop, toolbox, 0.7, 0.2, ngen=ngen, stats=stats, halloffame=hof, verbose=True)\n",
    "\n",
    "    return hof, pop\n",
    "\n",
    "\n",
    "if __name__ == \"__main__\":\n",
    "    hof, pop = main()\n",
    "\n",
    "    print(hof) # non-dominated individuals' list  # the fittest value is placed on the most right side."
   ]
  },
  {
   "cell_type": "code",
   "execution_count": null,
   "id": "058119eb",
   "metadata": {},
   "outputs": [],
   "source": []
  },
  {
   "cell_type": "code",
   "execution_count": 7,
   "id": "2dc5684b",
   "metadata": {},
   "outputs": [
    {
     "name": "stdout",
     "output_type": "stream",
     "text": [
      "recreate generations for 2 time\n",
      "optimal found in 2 generations\n"
     ]
    }
   ],
   "source": [
    "import random\n",
    "import sys\n",
    "import operator\n",
    "\n",
    "class Knapsack(object):\t\n",
    "\n",
    "\t#initialize variables and lists\n",
    "\tdef __init__(self):\t\n",
    "\n",
    "\t\tself.C = 0\n",
    "\t\tself.weights = []\n",
    "\t\tself.profits = []\n",
    "\t\tself.opt = []\n",
    "\t\tself.parents = []\n",
    "\t\tself.newparents = []\n",
    "\t\tself.bests = []\n",
    "\t\tself.best_p = [] \n",
    "\t\tself.iterated = 1\n",
    "\t\tself.population = 0\n",
    "\n",
    "\t\t# increase max recursion for long stack\n",
    "\t\tiMaxStackSize = 15000\n",
    "\t\tsys.setrecursionlimit(iMaxStackSize)\n",
    "\n",
    "\t# create the initial population \n",
    "\tdef initialize(self):\n",
    "\n",
    "\t\tfor i in range(self.population):\n",
    "\t\t\tparent = []\n",
    "\t\t\tfor k in range(0, 5):\n",
    "\t\t\t\tk = random.randint(0, 1)\n",
    "\t\t\t\tparent.append(k)\n",
    "\t\t\tself.parents.append(parent)\n",
    "\n",
    "\t# set the details of this problem\n",
    "\tdef properties(self, weights, profits, opt, C, population):\n",
    "\n",
    "\t\tself.weights = weights\n",
    "\t\tself.profits = profits\n",
    "\t\tself.opt = opt\n",
    "\t\tself.C = C\n",
    "\t\tself.population = population\n",
    "\t\tself.initialize()\n",
    "\n",
    "\t# calculate the fitness function of each list (sack)\n",
    "\tdef fitness(self, item):\n",
    "\n",
    "\t\tsum_w = 0\n",
    "\t\tsum_p = 0\n",
    "\n",
    "\t\t# get weights and profits\n",
    "\t\tfor index, i in enumerate(item):\n",
    "\t\t\tif i == 0:\n",
    "\t\t\t\tcontinue\n",
    "\t\t\telse:\n",
    "\t\t\t\tsum_w += self.weights[index]\n",
    "\t\t\t\tsum_p += self.profits[index]\n",
    "\n",
    "\t\t# if greater than the optimal return -1 or the number otherwise\n",
    "\t\tif sum_w > self.C:\n",
    "\t\t\treturn -1\n",
    "\t\telse: \n",
    "\t\t\treturn sum_p\n",
    "\t\n",
    "\t# run generations of GA\n",
    "\tdef evaluation(self):\n",
    "\n",
    "\t\t# loop through parents and calculate fitness\n",
    "\t\tbest_pop = self.population // 2\n",
    "\t\tfor i in range(len(self.parents)):\n",
    "\t\t\tparent = self.parents[i]\n",
    "\t\t\tft = self.fitness(parent)\n",
    "\t\t\tself.bests.append((ft, parent))\n",
    "\n",
    "\t\t# sort the fitness list by fitness\t\t\n",
    "\t\tself.bests.sort(key=operator.itemgetter(0), reverse=True)\n",
    "\t\tself.best_p = self.bests[:best_pop]\n",
    "\t\tself.best_p = [x[1] for x in self.best_p]\n",
    "\n",
    "\t# mutate children after certain condition\n",
    "\tdef mutation(self, ch):\n",
    "\n",
    "\t\tfor i in range(len(ch)):\t\t\n",
    "\t\t\tk = random.uniform(0, 1)\n",
    "\t\t\tif k > 0.5:\n",
    "\t\t\t\t#if random float number greater that 0.5 flip 0 with 1 and vice versa\n",
    "\t\t\t\tif ch[i] == 1:\n",
    "\t\t\t\t\tch[i] = 0\n",
    "\t\t\t\telse: \n",
    "\t\t\t\t\tch[i] = 1\n",
    "\t\treturn ch\n",
    "\n",
    "\t# crossover two parents to produce two children by miixing them under random ration each time\n",
    "\tdef crossover(self, ch1, ch2):\n",
    "\n",
    "\t\tthreshold = random.randint(1, len(ch1)-1)\n",
    "\t\ttmp1 = ch1[threshold:]\n",
    "\t\ttmp2 = ch2[threshold:]\n",
    "\t\tch1 = ch1[:threshold]\n",
    "\t\tch2 = ch2[:threshold]\n",
    "\t\tch1.extend(tmp2)\n",
    "\t\tch2.extend(tmp1)\n",
    "\n",
    "\t\treturn ch1, ch2\n",
    "\n",
    "\t# run the GA algorithm\n",
    "\tdef run(self):\n",
    "\n",
    "\t\t# run the evaluation once\n",
    "\t\tself.evaluation()\n",
    "\t\tnewparents = []\n",
    "\t\tpop = len(self.best_p)-1\n",
    "\n",
    "\t\t# create a list with unique random integers\n",
    "\t\tsample = random.sample(range(pop), pop)\n",
    "\t\tfor i in range(0, pop):\n",
    "\t\t\t# select the random index of best children to randomize the process\n",
    "\t\t\tif i < pop-1:\n",
    "\t\t\t\tr1 = self.best_p[i]\n",
    "\t\t\t\tr2 = self.best_p[i+1]\n",
    "\t\t\t\tnchild1, nchild2 = self.crossover(r1, r2)\n",
    "\t\t\t\tnewparents.append(nchild1)\n",
    "\t\t\t\tnewparents.append(nchild2)\n",
    "\t\t\telse:\n",
    "\t\t\t\tr1 = self.best_p[i]\n",
    "\t\t\t\tr2 = self.best_p[0]\n",
    "\t\t\t\tnchild1, nchild2 = self.crossover(r1, r2)\n",
    "\t\t\t\tnewparents.append(nchild1)\n",
    "\t\t\t\tnewparents.append(nchild2)\n",
    "\n",
    "\t\t# mutate the new children and potential parents to ensure global optima found\n",
    "\t\tfor i in range(len(newparents)):\n",
    "\t\t\tnewparents[i] = self.mutation(newparents[i])\n",
    "\n",
    "\t\tif self.opt in newparents:\n",
    "\t\t\tprint (\"optimal found in {} generations\" .format(self.iterated))\n",
    "\t\telse:\n",
    "\t\t\tself.iterated += 1\n",
    "\t\t\tprint(\"recreate generations for {} time\" .format(self.iterated))\n",
    "\t\t\tself.parents = newparents\n",
    "\t\t\tself.bests = []\n",
    "\t\t\tself.best_p = []\n",
    "\t\t\tself.run()\t\n",
    "\n",
    "# properties for this particular problem\n",
    "weights = [12,  7, 11, 8, 9]\n",
    "profits = [24, 13, 23, 15, 16]\n",
    "opt     = [0, 1, 1, 1, 0]\n",
    "C = 26\n",
    "population = 10\n",
    "\n",
    "k = Knapsack()\n",
    "k.properties(weights, profits, opt, C, population)\n",
    "k.run()"
   ]
  },
  {
   "cell_type": "code",
   "execution_count": null,
   "id": "b33318ff",
   "metadata": {},
   "outputs": [],
   "source": []
  },
  {
   "cell_type": "code",
   "execution_count": 27,
   "id": "2732794b",
   "metadata": {},
   "outputs": [
    {
     "ename": "NameError",
     "evalue": "name 'maxShiftsPerWeek' is not defined",
     "output_type": "error",
     "traceback": [
      "\u001b[1;31m---------------------------------------------------------------------------\u001b[0m",
      "\u001b[1;31mNameError\u001b[0m                                 Traceback (most recent call last)",
      "\u001b[1;32m<ipython-input-27-447f612bf738>\u001b[0m in \u001b[0;36m<module>\u001b[1;34m\u001b[0m\n\u001b[0;32m      1\u001b[0m \u001b[0mg\u001b[0m\u001b[1;33m=\u001b[0m\u001b[1;33m[\u001b[0m\u001b[1;33m]\u001b[0m\u001b[1;33m\u001b[0m\u001b[1;33m\u001b[0m\u001b[0m\n\u001b[0;32m      2\u001b[0m        \u001b[1;31m#violations=0\u001b[0m\u001b[1;33m\u001b[0m\u001b[1;33m\u001b[0m\u001b[1;33m\u001b[0m\u001b[0m\n\u001b[1;32m----> 3\u001b[1;33m \u001b[1;32mfor\u001b[0m \u001b[0mnum1\u001b[0m\u001b[1;33m,\u001b[0m \u001b[0mnum2\u001b[0m \u001b[1;32min\u001b[0m \u001b[0mzip\u001b[0m\u001b[1;33m(\u001b[0m\u001b[0mmaxShiftsPerWeek\u001b[0m\u001b[1;33m,\u001b[0m\u001b[0mMaxBenefitOfEachGoods\u001b[0m\u001b[1;33m)\u001b[0m\u001b[1;33m:\u001b[0m\u001b[1;33m\u001b[0m\u001b[1;33m\u001b[0m\u001b[0m\n\u001b[0m\u001b[0;32m      4\u001b[0m \u001b[1;33m\u001b[0m\u001b[0m\n\u001b[0;32m      5\u001b[0m            \u001b[0mg\u001b[0m\u001b[1;33m.\u001b[0m\u001b[0mappend\u001b[0m\u001b[1;33m(\u001b[0m\u001b[0mnum1\u001b[0m\u001b[1;33m*\u001b[0m\u001b[0mnum2\u001b[0m\u001b[1;33m)\u001b[0m\u001b[1;33m\u001b[0m\u001b[1;33m\u001b[0m\u001b[0m\n",
      "\u001b[1;31mNameError\u001b[0m: name 'maxShiftsPerWeek' is not defined"
     ]
    }
   ],
   "source": [
    " g=[]\n",
    "        #violations=0\n",
    "for num1, num2 in zip(maxShiftsPerWeek,MaxBenefitOfEachGoods):\n",
    "            \n",
    "            g.append(num1*num2)\n",
    "       # array2=np.argsort(np.array(g))\n",
    "       # array2=np.array(array2)[::-1]  \n",
    "inds = np.array(g).argsort()\n",
    "sorted=np.array(inds)[::-1]\n",
    "        #sortedPeople = f[sorted]\n",
    "        #arr1inds = arr1.argsort()\n",
    "        #arr2inds=arr2.argsort()\n",
    "        \n",
    "        \n",
    "violations=0\n",
    "       # a=[]\n",
    "PerShiftList = [shift for shift in zip(*nurseShiftsDict.values())]\n",
    "        #for i in range(0,len(PerShiftList)):\n",
    "           # a.append(list(PerShiftList[i]))\n",
    "        #for i in range(0,len(a)):\n",
    "for i in range(0,len(PerShiftList)):\n",
    "            \n",
    "            #f=np.array(a[i])\n",
    "            f=np.array(PerShiftList[i])\n",
    "            #array1=np.argsort(np.array(a[i]))\n",
    "            array1=np.argsort(f)\n",
    "            m=[]\n",
    "            for s in range (0,len(self.maxShiftsPerWeek)):\n",
    "                m.append(\"m\")\n",
    "            \n",
    "    #array1=np.array(array1)[::-1]\n",
    "            if (array1==inds).all()==False:\n",
    "        #array1.\n",
    "                #f = f[sorted]\n",
    "                for n, j in zip(inds, range(len(f))):\n",
    "    \n",
    "                    m[n]=f[array1[j]]\n",
    "    \n",
    "                #array1 = array1[array2]\n",
    "                #PerShiftList[i]=f\n",
    "                PerShiftList[i]=m\n",
    "                #bestprofit=m\n",
    "        \n",
    "violations=violations+1\n",
    "                #PerShiftList=f\n",
    "        # sum the shifts over all nurses:\n",
    "        #totalPerShiftList = [shift for shift in zip(*nurseShiftsDict.values())]\n",
    "\n",
    "        #a=[]"
   ]
  },
  {
   "cell_type": "code",
   "execution_count": null,
   "id": "0b916b2b",
   "metadata": {},
   "outputs": [],
   "source": []
  },
  {
   "cell_type": "code",
   "execution_count": null,
   "id": "a7590d2a",
   "metadata": {},
   "outputs": [],
   "source": []
  },
  {
   "cell_type": "code",
   "execution_count": null,
   "id": "d6c274f7",
   "metadata": {},
   "outputs": [],
   "source": []
  }
 ],
 "metadata": {
  "kernelspec": {
   "display_name": "Python 3",
   "language": "python",
   "name": "python3"
  },
  "language_info": {
   "codemirror_mode": {
    "name": "ipython",
    "version": 3
   },
   "file_extension": ".py",
   "mimetype": "text/x-python",
   "name": "python",
   "nbconvert_exporter": "python",
   "pygments_lexer": "ipython3",
   "version": "3.8.8"
  }
 },
 "nbformat": 4,
 "nbformat_minor": 5
}
